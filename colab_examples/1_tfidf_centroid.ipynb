{
 "nbformat": 4,
 "nbformat_minor": 0,
 "metadata": {
  "colab": {
   "name": "1_tfidf_centroid.ipynb",
   "provenance": [],
   "collapsed_sections": []
  },
  "kernelspec": {
   "display_name": "Python 3",
   "name": "python3"
  }
 },
 "cells": [
  {
   "cell_type": "markdown",
   "metadata": {
    "id": "UGfRczMXt-Tt"
   },
   "source": [
    "# Installation with pip\n",
    "Every dependency needed by the framework will be downloaded and installed automatically"
   ]
  },
  {
   "cell_type": "code",
   "metadata": {
    "id": "_z0TVVHmQ2sU",
    "colab": {
     "base_uri": "https://localhost:8080/",
     "height": 1000
    },
    "outputId": "70647b36-8a39-4b57-cd97-3136f81f3ac4"
   },
   "source": [
    "!pip install clayrs"
   ],
   "execution_count": 1,
   "outputs": [
    {
     "output_type": "stream",
     "name": "stdout",
     "text": [
      "Looking in indexes: https://pypi.org/simple, https://us-python.pkg.dev/colab-wheels/public/simple/\n",
      "Collecting git+https://github.com/swapUniba/clayrs.git\n",
      "  Cloning https://github.com/swapUniba/clayrs.git to /tmp/pip-req-build-8phass4t\n",
      "  Running command git clone -q https://github.com/swapUniba/clayrs.git /tmp/pip-req-build-8phass4t\n",
      "  Installing build dependencies ... \u001B[?25l\u001B[?25hdone\n",
      "  Getting requirements to build wheel ... \u001B[?25l\u001B[?25hdone\n",
      "    Preparing wheel metadata ... \u001B[?25l\u001B[?25hdone\n",
      "Collecting ekphrasis@ git+https://github.com/fucaja/ekphrasis.git#egg=ekphrasis\n",
      "  Cloning https://github.com/fucaja/ekphrasis.git to /tmp/pip-install-gsb5vgkm/ekphrasis_cb16b5d363d1497cbe4b6b081c5a8cb4\n",
      "  Running command git clone -q https://github.com/fucaja/ekphrasis.git /tmp/pip-install-gsb5vgkm/ekphrasis_cb16b5d363d1497cbe4b6b081c5a8cb4\n",
      "Collecting PyYAML~=5.3.1\n",
      "  Downloading PyYAML-5.3.1.tar.gz (269 kB)\n",
      "\u001B[K     |████████████████████████████████| 269 kB 4.2 MB/s \n",
      "\u001B[?25hCollecting mysql-connector-python~=8.0.20\n",
      "  Downloading mysql_connector_python-8.0.29-cp37-cp37m-manylinux1_x86_64.whl (25.2 MB)\n",
      "\u001B[K     |████████████████████████████████| 25.2 MB 1.8 MB/s \n",
      "\u001B[?25hCollecting SPARQLWrapper~=1.8.5\n",
      "  Downloading SPARQLWrapper-1.8.5-py3-none-any.whl (26 kB)\n",
      "Collecting whoosh~=2.7.4\n",
      "  Downloading Whoosh-2.7.4-py2.py3-none-any.whl (468 kB)\n",
      "\u001B[K     |████████████████████████████████| 468 kB 43.3 MB/s \n",
      "\u001B[?25hCollecting pywsd~=1.2.4\n",
      "  Downloading pywsd-1.2.4.tar.gz (26.8 MB)\n",
      "\u001B[K     |████████████████████████████████| 26.8 MB 1.3 MB/s \n",
      "\u001B[?25hCollecting wn~=0.0.23\n",
      "  Downloading wn-0.0.23.tar.gz (31.6 MB)\n",
      "\u001B[K     |████████████████████████████████| 31.6 MB 81 kB/s \n",
      "\u001B[?25hCollecting scipy~=1.7.3\n",
      "  Downloading scipy-1.7.3-cp37-cp37m-manylinux_2_12_x86_64.manylinux2010_x86_64.whl (38.1 MB)\n",
      "\u001B[K     |████████████████████████████████| 38.1 MB 1.3 MB/s \n",
      "\u001B[?25hCollecting pyaml~=21.10.1\n",
      "  Downloading pyaml-21.10.1-py2.py3-none-any.whl (24 kB)\n",
      "Collecting tqdm~=4.62.2\n",
      "  Downloading tqdm-4.62.3-py2.py3-none-any.whl (76 kB)\n",
      "\u001B[K     |████████████████████████████████| 76 kB 5.1 MB/s \n",
      "\u001B[?25hCollecting mysql~=0.0.3\n",
      "  Downloading mysql-0.0.3-py3-none-any.whl (1.2 kB)\n",
      "Requirement already satisfied: nltk~=3.5 in /usr/local/lib/python3.7/dist-packages (from clayrs==0.3.9) (3.7)\n",
      "Collecting spacy~=3.2.1\n",
      "  Downloading spacy-3.2.4-cp37-cp37m-manylinux_2_17_x86_64.manylinux2014_x86_64.whl (6.0 MB)\n",
      "\u001B[K     |████████████████████████████████| 6.0 MB 35.0 MB/s \n",
      "\u001B[?25hRequirement already satisfied: textblob~=0.15.3 in /usr/local/lib/python3.7/dist-packages (from clayrs==0.3.9) (0.15.3)\n",
      "Collecting sentence-transformers~=1.2.0\n",
      "  Downloading sentence-transformers-1.2.1.tar.gz (80 kB)\n",
      "\u001B[K     |████████████████████████████████| 80 kB 9.3 MB/s \n",
      "\u001B[?25hCollecting torch~=1.10.1\n",
      "  Downloading torch-1.10.2-cp37-cp37m-manylinux1_x86_64.whl (881.9 MB)\n",
      "\u001B[K     |██████████████████████████████▎ | 834.1 MB 1.3 MB/s eta 0:00:39tcmalloc: large alloc 1147494400 bytes == 0x392d8000 @  0x7fe21b048615 0x592b76 0x4df71e 0x59afff 0x515655 0x549576 0x593fce 0x548ae9 0x51566f 0x549576 0x593fce 0x548ae9 0x5127f1 0x598e3b 0x511f68 0x598e3b 0x511f68 0x598e3b 0x511f68 0x4bc98a 0x532e76 0x594b72 0x515600 0x549576 0x593fce 0x548ae9 0x5127f1 0x549576 0x593fce 0x5118f8 0x593dd7\n",
      "\u001B[K     |████████████████████████████████| 881.9 MB 1.5 kB/s \n",
      "\u001B[?25hRequirement already satisfied: numpy~=1.21.6 in /usr/local/lib/python3.7/dist-packages (from clayrs==0.3.9) (1.21.6)\n",
      "Requirement already satisfied: matplotlib~=3.2.2 in /usr/local/lib/python3.7/dist-packages (from clayrs==0.3.9) (3.2.2)\n",
      "Collecting colorama~=0.4.4\n",
      "  Downloading colorama-0.4.5-py2.py3-none-any.whl (16 kB)\n",
      "Collecting pandas==1.2.4\n",
      "  Downloading pandas-1.2.4-cp37-cp37m-manylinux1_x86_64.whl (9.9 MB)\n",
      "\u001B[K     |████████████████████████████████| 9.9 MB 16.7 MB/s \n",
      "\u001B[?25hCollecting transformers~=4.15.0\n",
      "  Downloading transformers-4.15.0-py3-none-any.whl (3.4 MB)\n",
      "\u001B[K     |████████████████████████████████| 3.4 MB 49.4 MB/s \n",
      "\u001B[?25hRequirement already satisfied: networkx~=2.6.3 in /usr/local/lib/python3.7/dist-packages (from clayrs==0.3.9) (2.6.3)\n",
      "Collecting gensim~=4.1.2\n",
      "  Downloading gensim-4.1.2-cp37-cp37m-manylinux_2_12_x86_64.manylinux2010_x86_64.whl (24.1 MB)\n",
      "\u001B[K     |████████████████████████████████| 24.1 MB 79.3 MB/s \n",
      "\u001B[?25hCollecting babelpy~=1.0.1\n",
      "  Downloading BabelPy-1.0.1.tar.gz (8.0 kB)\n",
      "Requirement already satisfied: scikit-learn==1.0.2 in /usr/local/lib/python3.7/dist-packages (from clayrs==0.3.9) (1.0.2)\n",
      "Requirement already satisfied: termcolor in /usr/local/lib/python3.7/dist-packages (from ekphrasis@ git+https://github.com/fucaja/ekphrasis.git#egg=ekphrasis->clayrs==0.3.9) (1.1.0)\n",
      "Collecting ujson\n",
      "  Downloading ujson-5.3.0-cp37-cp37m-manylinux_2_17_x86_64.manylinux2014_x86_64.whl (45 kB)\n",
      "\u001B[K     |████████████████████████████████| 45 kB 2.4 MB/s \n",
      "\u001B[?25hCollecting ftfy\n",
      "  Downloading ftfy-6.1.1-py3-none-any.whl (53 kB)\n",
      "\u001B[K     |████████████████████████████████| 53 kB 1.9 MB/s \n",
      "\u001B[?25hRequirement already satisfied: pytz>=2017.3 in /usr/local/lib/python3.7/dist-packages (from pandas==1.2.4->clayrs==0.3.9) (2022.1)\n",
      "Requirement already satisfied: python-dateutil>=2.7.3 in /usr/local/lib/python3.7/dist-packages (from pandas==1.2.4->clayrs==0.3.9) (2.8.2)\n",
      "Requirement already satisfied: joblib>=0.11 in /usr/local/lib/python3.7/dist-packages (from scikit-learn==1.0.2->clayrs==0.3.9) (1.1.0)\n",
      "Requirement already satisfied: threadpoolctl>=2.0.0 in /usr/local/lib/python3.7/dist-packages (from scikit-learn==1.0.2->clayrs==0.3.9) (3.1.0)\n",
      "Requirement already satisfied: smart-open>=1.8.1 in /usr/local/lib/python3.7/dist-packages (from gensim~=4.1.2->clayrs==0.3.9) (5.2.1)\n",
      "Requirement already satisfied: cycler>=0.10 in /usr/local/lib/python3.7/dist-packages (from matplotlib~=3.2.2->clayrs==0.3.9) (0.11.0)\n",
      "Requirement already satisfied: kiwisolver>=1.0.1 in /usr/local/lib/python3.7/dist-packages (from matplotlib~=3.2.2->clayrs==0.3.9) (1.4.3)\n",
      "Requirement already satisfied: pyparsing!=2.0.4,!=2.1.2,!=2.1.6,>=2.0.1 in /usr/local/lib/python3.7/dist-packages (from matplotlib~=3.2.2->clayrs==0.3.9) (3.0.9)\n",
      "Requirement already satisfied: typing-extensions in /usr/local/lib/python3.7/dist-packages (from kiwisolver>=1.0.1->matplotlib~=3.2.2->clayrs==0.3.9) (4.1.1)\n",
      "Collecting mysqlclient\n",
      "  Downloading mysqlclient-2.1.1.tar.gz (88 kB)\n",
      "\u001B[K     |████████████████████████████████| 88 kB 7.7 MB/s \n",
      "\u001B[?25hRequirement already satisfied: protobuf>=3.0.0 in /usr/local/lib/python3.7/dist-packages (from mysql-connector-python~=8.0.20->clayrs==0.3.9) (3.17.3)\n",
      "Requirement already satisfied: regex>=2021.8.3 in /usr/local/lib/python3.7/dist-packages (from nltk~=3.5->clayrs==0.3.9) (2022.6.2)\n",
      "Requirement already satisfied: click in /usr/local/lib/python3.7/dist-packages (from nltk~=3.5->clayrs==0.3.9) (7.1.2)\n",
      "Requirement already satisfied: six>=1.9 in /usr/local/lib/python3.7/dist-packages (from protobuf>=3.0.0->mysql-connector-python~=8.0.20->clayrs==0.3.9) (1.15.0)\n",
      "Requirement already satisfied: torchvision in /usr/local/lib/python3.7/dist-packages (from sentence-transformers~=1.2.0->clayrs==0.3.9) (0.12.0+cu113)\n",
      "Collecting sentencepiece\n",
      "  Downloading sentencepiece-0.1.96-cp37-cp37m-manylinux_2_17_x86_64.manylinux2014_x86_64.whl (1.2 MB)\n",
      "\u001B[K     |████████████████████████████████| 1.2 MB 53.8 MB/s \n",
      "\u001B[?25hRequirement already satisfied: spacy-legacy<3.1.0,>=3.0.8 in /usr/local/lib/python3.7/dist-packages (from spacy~=3.2.1->clayrs==0.3.9) (3.0.9)\n",
      "Requirement already satisfied: setuptools in /usr/local/lib/python3.7/dist-packages (from spacy~=3.2.1->clayrs==0.3.9) (57.4.0)\n",
      "Requirement already satisfied: preshed<3.1.0,>=3.0.2 in /usr/local/lib/python3.7/dist-packages (from spacy~=3.2.1->clayrs==0.3.9) (3.0.6)\n",
      "Collecting typing-extensions\n",
      "  Downloading typing_extensions-3.10.0.2-py3-none-any.whl (26 kB)\n",
      "Requirement already satisfied: requests<3.0.0,>=2.13.0 in /usr/local/lib/python3.7/dist-packages (from spacy~=3.2.1->clayrs==0.3.9) (2.23.0)\n",
      "Requirement already satisfied: cymem<2.1.0,>=2.0.2 in /usr/local/lib/python3.7/dist-packages (from spacy~=3.2.1->clayrs==0.3.9) (2.0.6)\n",
      "Requirement already satisfied: packaging>=20.0 in /usr/local/lib/python3.7/dist-packages (from spacy~=3.2.1->clayrs==0.3.9) (21.3)\n",
      "Requirement already satisfied: typer<0.5.0,>=0.3.0 in /usr/local/lib/python3.7/dist-packages (from spacy~=3.2.1->clayrs==0.3.9) (0.4.1)\n",
      "Requirement already satisfied: thinc<8.1.0,>=8.0.12 in /usr/local/lib/python3.7/dist-packages (from spacy~=3.2.1->clayrs==0.3.9) (8.0.17)\n",
      "Requirement already satisfied: blis<0.8.0,>=0.4.0 in /usr/local/lib/python3.7/dist-packages (from spacy~=3.2.1->clayrs==0.3.9) (0.7.7)\n",
      "Requirement already satisfied: jinja2 in /usr/local/lib/python3.7/dist-packages (from spacy~=3.2.1->clayrs==0.3.9) (2.11.3)\n",
      "Requirement already satisfied: srsly<3.0.0,>=2.4.1 in /usr/local/lib/python3.7/dist-packages (from spacy~=3.2.1->clayrs==0.3.9) (2.4.3)\n",
      "Requirement already satisfied: murmurhash<1.1.0,>=0.28.0 in /usr/local/lib/python3.7/dist-packages (from spacy~=3.2.1->clayrs==0.3.9) (1.0.7)\n",
      "Requirement already satisfied: langcodes<4.0.0,>=3.2.0 in /usr/local/lib/python3.7/dist-packages (from spacy~=3.2.1->clayrs==0.3.9) (3.3.0)\n",
      "Requirement already satisfied: spacy-loggers<2.0.0,>=1.0.0 in /usr/local/lib/python3.7/dist-packages (from spacy~=3.2.1->clayrs==0.3.9) (1.0.2)\n",
      "Requirement already satisfied: pydantic!=1.8,!=1.8.1,<1.9.0,>=1.7.4 in /usr/local/lib/python3.7/dist-packages (from spacy~=3.2.1->clayrs==0.3.9) (1.8.2)\n",
      "Requirement already satisfied: catalogue<2.1.0,>=2.0.6 in /usr/local/lib/python3.7/dist-packages (from spacy~=3.2.1->clayrs==0.3.9) (2.0.7)\n",
      "Requirement already satisfied: pathy>=0.3.5 in /usr/local/lib/python3.7/dist-packages (from spacy~=3.2.1->clayrs==0.3.9) (0.6.1)\n",
      "Requirement already satisfied: wasabi<1.1.0,>=0.8.1 in /usr/local/lib/python3.7/dist-packages (from spacy~=3.2.1->clayrs==0.3.9) (0.9.1)\n",
      "Requirement already satisfied: zipp>=0.5 in /usr/local/lib/python3.7/dist-packages (from catalogue<2.1.0,>=2.0.6->spacy~=3.2.1->clayrs==0.3.9) (3.8.0)\n",
      "Requirement already satisfied: certifi>=2017.4.17 in /usr/local/lib/python3.7/dist-packages (from requests<3.0.0,>=2.13.0->spacy~=3.2.1->clayrs==0.3.9) (2022.6.15)\n",
      "Requirement already satisfied: urllib3!=1.25.0,!=1.25.1,<1.26,>=1.21.1 in /usr/local/lib/python3.7/dist-packages (from requests<3.0.0,>=2.13.0->spacy~=3.2.1->clayrs==0.3.9) (1.24.3)\n",
      "Requirement already satisfied: idna<3,>=2.5 in /usr/local/lib/python3.7/dist-packages (from requests<3.0.0,>=2.13.0->spacy~=3.2.1->clayrs==0.3.9) (2.10)\n",
      "Requirement already satisfied: chardet<4,>=3.0.2 in /usr/local/lib/python3.7/dist-packages (from requests<3.0.0,>=2.13.0->spacy~=3.2.1->clayrs==0.3.9) (3.0.4)\n",
      "Collecting rdflib>=4.0\n",
      "  Downloading rdflib-6.1.1-py3-none-any.whl (482 kB)\n",
      "\u001B[K     |████████████████████████████████| 482 kB 59.8 MB/s \n",
      "\u001B[?25hRequirement already satisfied: importlib-metadata in /usr/local/lib/python3.7/dist-packages (from rdflib>=4.0->SPARQLWrapper~=1.8.5->clayrs==0.3.9) (4.11.4)\n",
      "Collecting isodate\n",
      "  Downloading isodate-0.6.1-py2.py3-none-any.whl (41 kB)\n",
      "\u001B[K     |████████████████████████████████| 41 kB 611 kB/s \n",
      "\u001B[?25hRequirement already satisfied: filelock in /usr/local/lib/python3.7/dist-packages (from transformers~=4.15.0->clayrs==0.3.9) (3.7.1)\n",
      "Collecting huggingface-hub<1.0,>=0.1.0\n",
      "  Downloading huggingface_hub-0.8.1-py3-none-any.whl (101 kB)\n",
      "\u001B[K     |████████████████████████████████| 101 kB 11.7 MB/s \n",
      "\u001B[?25hCollecting tokenizers<0.11,>=0.10.1\n",
      "  Downloading tokenizers-0.10.3-cp37-cp37m-manylinux_2_5_x86_64.manylinux1_x86_64.manylinux_2_12_x86_64.manylinux2010_x86_64.whl (3.3 MB)\n",
      "\u001B[K     |████████████████████████████████| 3.3 MB 37.5 MB/s \n",
      "\u001B[?25hCollecting sacremoses\n",
      "  Downloading sacremoses-0.0.53.tar.gz (880 kB)\n",
      "\u001B[K     |████████████████████████████████| 880 kB 49.4 MB/s \n",
      "\u001B[?25hRequirement already satisfied: wcwidth>=0.2.5 in /usr/local/lib/python3.7/dist-packages (from ftfy->ekphrasis@ git+https://github.com/fucaja/ekphrasis.git#egg=ekphrasis->clayrs==0.3.9) (0.2.5)\n",
      "Requirement already satisfied: MarkupSafe>=0.23 in /usr/local/lib/python3.7/dist-packages (from jinja2->spacy~=3.2.1->clayrs==0.3.9) (2.0.1)\n",
      "Collecting torchvision\n",
      "  Downloading torchvision-0.13.0-cp37-cp37m-manylinux1_x86_64.whl (19.1 MB)\n",
      "\u001B[K     |████████████████████████████████| 19.1 MB 1.2 MB/s \n",
      "\u001B[?25h  Downloading torchvision-0.12.0-cp37-cp37m-manylinux1_x86_64.whl (21.0 MB)\n",
      "\u001B[K     |████████████████████████████████| 21.0 MB 1.2 MB/s \n",
      "\u001B[?25h  Downloading torchvision-0.11.3-cp37-cp37m-manylinux1_x86_64.whl (23.2 MB)\n",
      "\u001B[K     |████████████████████████████████| 23.2 MB 1.4 MB/s \n",
      "\u001B[?25hRequirement already satisfied: pillow!=8.3.0,>=5.3.0 in /usr/local/lib/python3.7/dist-packages (from torchvision->sentence-transformers~=1.2.0->clayrs==0.3.9) (7.1.2)\n",
      "Building wheels for collected packages: clayrs, ekphrasis, babelpy, pywsd, PyYAML, sentence-transformers, wn, mysqlclient, sacremoses\n",
      "  Building wheel for clayrs (PEP 517) ... \u001B[?25l\u001B[?25hdone\n",
      "  Created wheel for clayrs: filename=clayrs-0.3.9-py3-none-any.whl size=3541555 sha256=35e492a7523a441efcd5133f13fa60650dbf5a91021d55d3c928fee56fef3541\n",
      "  Stored in directory: /tmp/pip-ephem-wheel-cache-9mj5e64q/wheels/d5/6e/24/11566e22b41b05b2b1d6d9b02e677e613e11929cfe7bf66fb5\n",
      "  Building wheel for ekphrasis (setup.py) ... \u001B[?25l\u001B[?25hdone\n",
      "  Created wheel for ekphrasis: filename=ekphrasis-0.5.1-py3-none-any.whl size=614879 sha256=6e065de20fd513b8e603905282138ee40a6d631afb93229a61b11536c02e03ef\n",
      "  Stored in directory: /tmp/pip-ephem-wheel-cache-9mj5e64q/wheels/ba/6d/16/386c2ee4778a28420fcfea1a1aadf7bac121198ace6cc5d354\n",
      "  Building wheel for babelpy (setup.py) ... \u001B[?25l\u001B[?25hdone\n",
      "  Created wheel for babelpy: filename=BabelPy-1.0.1-py3-none-any.whl size=9723 sha256=60949b3bd3f4d31ab86349cf54cf02711c09734e762efc43b1c110e903fd55cd\n",
      "  Stored in directory: /root/.cache/pip/wheels/e4/28/f6/693a53d3dc6bf14eed8a13fdfba08737edc3bc03a5133e4a14\n",
      "  Building wheel for pywsd (setup.py) ... \u001B[?25l\u001B[?25hdone\n",
      "  Created wheel for pywsd: filename=pywsd-1.2.4-py3-none-any.whl size=26940436 sha256=7130f469aef15d8fc53864d548d98f0cd82637fb606fe18a105ccce3f25732b0\n",
      "  Stored in directory: /root/.cache/pip/wheels/56/67/c0/6e6fa8456d1374b393328368316c3b33844cb4043bd225bc66\n",
      "  Building wheel for PyYAML (setup.py) ... \u001B[?25l\u001B[?25hdone\n",
      "  Created wheel for PyYAML: filename=PyYAML-5.3.1-cp37-cp37m-linux_x86_64.whl size=44636 sha256=90bdeee460b48735f7e97f6ed91ce6e0d172419a229ada6bb9968ec1a44cea04\n",
      "  Stored in directory: /root/.cache/pip/wheels/5e/03/1e/e1e954795d6f35dfc7b637fe2277bff021303bd9570ecea653\n",
      "  Building wheel for sentence-transformers (setup.py) ... \u001B[?25l\u001B[?25hdone\n",
      "  Created wheel for sentence-transformers: filename=sentence_transformers-1.2.1-py3-none-any.whl size=123299 sha256=9251e4713f258df1c260b3d843cee070237eea21b45fdea866a06fb89bf6316d\n",
      "  Stored in directory: /root/.cache/pip/wheels/53/f2/3a/b9159c4e43a6a4aa2751421ff5dfe69231fbcc91f7efbc4d2f\n",
      "  Building wheel for wn (setup.py) ... \u001B[?25l\u001B[?25hdone\n",
      "  Created wheel for wn: filename=wn-0.0.23-py3-none-any.whl size=31792926 sha256=efa1072957a31ce10e24e61d26082d2ecafe68d6e8b40a85dd77d9fe71554dac\n",
      "  Stored in directory: /root/.cache/pip/wheels/ec/47/17/409766c99dd470f34c512000b90b83f34747c2c975769654d7\n",
      "  Building wheel for mysqlclient (setup.py) ... \u001B[?25l\u001B[?25hdone\n",
      "  Created wheel for mysqlclient: filename=mysqlclient-2.1.1-cp37-cp37m-linux_x86_64.whl size=99977 sha256=6afd98218ee31d90c6f0dd3da3a32a49183814c6222cd90b55eaf3d144931c94\n",
      "  Stored in directory: /root/.cache/pip/wheels/95/2d/67/2cb3f82e435fc8e055cb2761a15a0812bf086068f6fb835462\n",
      "  Building wheel for sacremoses (setup.py) ... \u001B[?25l\u001B[?25hdone\n",
      "  Created wheel for sacremoses: filename=sacremoses-0.0.53-py3-none-any.whl size=895260 sha256=b5b535461bab2c4286b9b9e682077974bc7a92d9fe1a7f991f117b10ee8754aa\n",
      "  Stored in directory: /root/.cache/pip/wheels/87/39/dd/a83eeef36d0bf98e7a4d1933a4ad2d660295a40613079bafc9\n",
      "Successfully built clayrs ekphrasis babelpy pywsd PyYAML sentence-transformers wn mysqlclient sacremoses\n",
      "Installing collected packages: typing-extensions, tqdm, PyYAML, torch, tokenizers, scipy, sacremoses, isodate, huggingface-hub, wn, ujson, transformers, torchvision, sentencepiece, rdflib, pandas, mysqlclient, ftfy, colorama, whoosh, SPARQLWrapper, spacy, sentence-transformers, pywsd, pyaml, mysql-connector-python, mysql, gensim, ekphrasis, babelpy, clayrs\n",
      "  Attempting uninstall: typing-extensions\n",
      "    Found existing installation: typing-extensions 4.1.1\n",
      "    Uninstalling typing-extensions-4.1.1:\n",
      "      Successfully uninstalled typing-extensions-4.1.1\n",
      "  Attempting uninstall: tqdm\n",
      "    Found existing installation: tqdm 4.64.0\n",
      "    Uninstalling tqdm-4.64.0:\n",
      "      Successfully uninstalled tqdm-4.64.0\n",
      "  Attempting uninstall: PyYAML\n",
      "    Found existing installation: PyYAML 3.13\n",
      "    Uninstalling PyYAML-3.13:\n",
      "      Successfully uninstalled PyYAML-3.13\n",
      "  Attempting uninstall: torch\n",
      "    Found existing installation: torch 1.11.0+cu113\n",
      "    Uninstalling torch-1.11.0+cu113:\n",
      "      Successfully uninstalled torch-1.11.0+cu113\n",
      "  Attempting uninstall: scipy\n",
      "    Found existing installation: scipy 1.4.1\n",
      "    Uninstalling scipy-1.4.1:\n",
      "      Successfully uninstalled scipy-1.4.1\n",
      "  Attempting uninstall: torchvision\n",
      "    Found existing installation: torchvision 0.12.0+cu113\n",
      "    Uninstalling torchvision-0.12.0+cu113:\n",
      "      Successfully uninstalled torchvision-0.12.0+cu113\n",
      "  Attempting uninstall: pandas\n",
      "    Found existing installation: pandas 1.3.5\n",
      "    Uninstalling pandas-1.3.5:\n",
      "      Successfully uninstalled pandas-1.3.5\n",
      "  Attempting uninstall: spacy\n",
      "    Found existing installation: spacy 3.3.1\n",
      "    Uninstalling spacy-3.3.1:\n",
      "      Successfully uninstalled spacy-3.3.1\n",
      "  Attempting uninstall: gensim\n",
      "    Found existing installation: gensim 3.6.0\n",
      "    Uninstalling gensim-3.6.0:\n",
      "      Successfully uninstalled gensim-3.6.0\n",
      "\u001B[31mERROR: pip's dependency resolver does not currently take into account all the packages that are installed. This behaviour is the source of the following dependency conflicts.\n",
      "torchtext 0.12.0 requires torch==1.11.0, but you have torch 1.10.2 which is incompatible.\n",
      "torchaudio 0.11.0+cu113 requires torch==1.11.0, but you have torch 1.10.2 which is incompatible.\n",
      "en-core-web-sm 3.3.0 requires spacy<3.4.0,>=3.3.0.dev0, but you have spacy 3.2.4 which is incompatible.\n",
      "albumentations 0.1.12 requires imgaug<0.2.7,>=0.2.5, but you have imgaug 0.2.9 which is incompatible.\u001B[0m\n",
      "Successfully installed PyYAML-5.3.1 SPARQLWrapper-1.8.5 babelpy-1.0.1 clayrs-0.3.9 colorama-0.4.5 ekphrasis-0.5.1 ftfy-6.1.1 gensim-4.1.2 huggingface-hub-0.8.1 isodate-0.6.1 mysql-0.0.3 mysql-connector-python-8.0.29 mysqlclient-2.1.1 pandas-1.2.4 pyaml-21.10.1 pywsd-1.2.4 rdflib-6.1.1 sacremoses-0.0.53 scipy-1.7.3 sentence-transformers-1.2.1 sentencepiece-0.1.96 spacy-3.2.4 tokenizers-0.10.3 torch-1.10.2 torchvision-0.11.3 tqdm-4.62.3 transformers-4.15.0 typing-extensions-3.10.0.2 ujson-5.3.0 whoosh-2.7.4 wn-0.0.23\n"
     ]
    },
    {
     "output_type": "display_data",
     "data": {
      "application/vnd.colab-display-data+json": {
       "pip_warning": {
        "packages": [
         "typing_extensions"
        ]
       }
      }
     },
     "metadata": {}
    }
   ]
  },
  {
   "cell_type": "markdown",
   "metadata": {
    "id": "G1MOZctwVyW5"
   },
   "source": [
    "# **! RESTART RUNTIME !**"
   ]
  },
  {
   "cell_type": "markdown",
   "metadata": {
    "id": "VTZB50Y3rN-8"
   },
   "source": [
    "# Correct order log and prints for IPython\n",
    "This is necessary only for IPython environments (Colab, Jupyter, etc.), since they mess up the order of  ```print``` and ```logging```\n",
    "\n",
    "```python\n",
    "# EXAMPLE of the issue\n",
    ">>> import logging\n",
    ">>> print(\"Should go first\")\n",
    ">>> logging.warning(\"Should go second\")\n",
    "WARNING:root:Should go second\n",
    "Should go first\n",
    "```\n",
    "\n"
   ]
  },
  {
   "cell_type": "code",
   "metadata": {
    "id": "GOTUezxnqzn7"
   },
   "source": [
    "import functools\n",
    "print = functools.partial(print, flush=True)"
   ],
   "execution_count": 1,
   "outputs": []
  },
  {
   "cell_type": "markdown",
   "metadata": {
    "id": "uVKotTbvf_rC"
   },
   "source": [
    "# Import and datasets download\n",
    "\n",
    "The framework is made of three modules:\n",
    "> 1.   Content Analyzer\n",
    "> 2.   Recommender System\n",
    "> 3.   Evaluation\n",
    "\n",
    "We import every module as a library and use classes and methods by using the dot notation:"
   ]
  },
  {
   "cell_type": "code",
   "metadata": {
    "id": "SctkIBio9dhe"
   },
   "source": [
    "from clayrs import content_analyzer as ca\n",
    "from clayrs import recsys as rs\n",
    "from clayrs import evaluation as eva\n",
    "\n",
    "# Usage:\n",
    "# ...\n",
    "# ca.Ratings()\n",
    "# rs.ContentBasedRS()\n",
    "# eva.EvalModel()\n",
    "# ..."
   ],
   "execution_count": 2,
   "outputs": []
  },
  {
   "cell_type": "markdown",
   "metadata": {
    "id": "zYjcSfTtCXEw"
   },
   "source": [
    "We use **Movielens 100k** as dataset, with items info expanded thanks to imdb"
   ]
  },
  {
   "cell_type": "code",
   "metadata": {
    "id": "HwEnaPj4pvCS",
    "colab": {
     "base_uri": "https://localhost:8080/"
    },
    "outputId": "bc7e5271-994c-4312-e07a-db8e67526954"
   },
   "source": [
    "# Dataset: Movielens-100k\n",
    "\n",
    "# download items_info\n",
    "!wget https://raw.githubusercontent.com/swapUniba/clayrs/master/datasets/ml-100k/items_info.json\n",
    "\n",
    "# download users_info\n",
    "!wget https://raw.githubusercontent.com/swapUniba/clayrs/master/datasets/ml-100k/users_info.csv\n",
    "\n",
    "# download ratings\n",
    "!wget https://raw.githubusercontent.com/swapUniba/clayrs/master/datasets/ml-100k/ratings.csv"
   ],
   "execution_count": 3,
   "outputs": [
    {
     "output_type": "stream",
     "name": "stdout",
     "text": [
      "--2022-07-01 10:04:31--  https://raw.githubusercontent.com/swapUniba/clayrs/master/datasets/ml-100k/items_info.json\n",
      "Resolving raw.githubusercontent.com (raw.githubusercontent.com)... 185.199.108.133, 185.199.109.133, 185.199.110.133, ...\n",
      "Connecting to raw.githubusercontent.com (raw.githubusercontent.com)|185.199.108.133|:443... connected.\n",
      "HTTP request sent, awaiting response... 200 OK\n",
      "Length: 2222967 (2.1M) [text/plain]\n",
      "Saving to: ‘items_info.json’\n",
      "\n",
      "items_info.json     100%[===================>]   2.12M  --.-KB/s    in 0.08s   \n",
      "\n",
      "2022-07-01 10:04:32 (26.9 MB/s) - ‘items_info.json’ saved [2222967/2222967]\n",
      "\n",
      "--2022-07-01 10:04:33--  https://raw.githubusercontent.com/swapUniba/clayrs/master/datasets/ml-100k/users_info.csv\n",
      "Resolving raw.githubusercontent.com (raw.githubusercontent.com)... 185.199.108.133, 185.199.109.133, 185.199.110.133, ...\n",
      "Connecting to raw.githubusercontent.com (raw.githubusercontent.com)|185.199.108.133|:443... connected.\n",
      "HTTP request sent, awaiting response... 200 OK\n",
      "Length: 22667 (22K) [text/plain]\n",
      "Saving to: ‘users_info.csv’\n",
      "\n",
      "users_info.csv      100%[===================>]  22.14K  --.-KB/s    in 0.002s  \n",
      "\n",
      "2022-07-01 10:04:33 (10.8 MB/s) - ‘users_info.csv’ saved [22667/22667]\n",
      "\n",
      "--2022-07-01 10:04:33--  https://raw.githubusercontent.com/swapUniba/clayrs/master/datasets/ml-100k/ratings.csv\n",
      "Resolving raw.githubusercontent.com (raw.githubusercontent.com)... 185.199.108.133, 185.199.109.133, 185.199.110.133, ...\n",
      "Connecting to raw.githubusercontent.com (raw.githubusercontent.com)|185.199.108.133|:443... connected.\n",
      "HTTP request sent, awaiting response... 200 OK\n",
      "Length: 1979206 (1.9M) [text/plain]\n",
      "Saving to: ‘ratings.csv’\n",
      "\n",
      "ratings.csv         100%[===================>]   1.89M  --.-KB/s    in 0.07s   \n",
      "\n",
      "2022-07-01 10:04:34 (25.5 MB/s) - ‘ratings.csv’ saved [1979206/1979206]\n",
      "\n"
     ]
    }
   ]
  },
  {
   "cell_type": "markdown",
   "metadata": {
    "id": "EBOImtHzxTlQ"
   },
   "source": [
    "### Check items file\n",
    "In this example, the file containing items info is a JSON where every entry corresponds to a movie.\n",
    "\n",
    "For every movie there are various information, such as *genres, directors, cast, etc.*"
   ]
  },
  {
   "cell_type": "code",
   "metadata": {
    "colab": {
     "base_uri": "https://localhost:8080/"
    },
    "id": "eAMUA6B6wSje",
    "outputId": "0871d2b2-4ef7-473c-a88a-1febc4bd7b97"
   },
   "source": [
    "with open(\"items_info.json\", \"r\") as f:\n",
    "  # 25 lines but in these 25 lines there are only 2 entries:\n",
    "  # 'Toy Story', and 'Golden Eye'\n",
    "  for _ in range(25):\n",
    "    print(f.readline(), end='')\n"
   ],
   "execution_count": 4,
   "outputs": [
    {
     "output_type": "stream",
     "name": "stdout",
     "text": [
      "[\n",
      "    {\n",
      "        \"movielens_id\": \"1\",\n",
      "        \"imdb_id\": \"0114709\",\n",
      "        \"title\": \"Toy Story\",\n",
      "        \"plot\": \"A cowboy doll is profoundly threatened and jealous when a new spaceman figure supplants him as top toy in a boy's room.\",\n",
      "        \"genres\": \"Animation, Adventure, Comedy, Family, Fantasy\",\n",
      "        \"year\": \"1995\",\n",
      "        \"rating\": \"8.3\",\n",
      "        \"directors\": \"John Lasseter\",\n",
      "        \"cast\": \"Tom Hanks, Tim Allen, Don Rickles, Jim Varney, Wallace Shawn, John Ratzenberger, Annie Potts, John Morris, Erik von Detten, Laurie Metcalf, R. Lee Ermey, Sarah Rayne, Penn Jillette, Jack Angel, Spencer Aste, Greg Berg, Lisa Bradley, Kendall Cunningham, Debi Derryberry, Cody Dorkin, Bill Farmer, Craig Good, Gregory Grudt, Danielle Judovits, Sam Lasseter, Brittany Levenbrown, Sherry Lynn, Scott McAfee, Mickie McGowan, Ryan O'Donohue, Jeff Pidgeon, Patrick Pinney, Phil Proctor, Jan Rabson, Joe Ranft, Andrew Stanton, Shane Sweet, Wayne Allwine, Tony Anselmo, Jonathan Benair, Anthony Burch, John Lasseter, Billy West\",\n",
      "        \"dbpedia_uri\": \"http://dbpedia.org/resource/Toy_Story\",\n",
      "        \"dbpedia_label\": \"Toy Story\"\n",
      "    },\n",
      "    {\n",
      "        \"movielens_id\": \"2\",\n",
      "        \"imdb_id\": \"0113189\",\n",
      "        \"title\": \"GoldenEye\",\n",
      "        \"plot\": \"Years after a friend and fellow 00 agent is killed on a joint mission, a secret space based weapons program known as \\\"_GoldenEye_ (qv)\\\" is stolen. James Bond sets out to stop a Russian crime syndicate from using the weapon.\",\n",
      "        \"genres\": \"Action, Adventure, Thriller\",\n",
      "        \"year\": \"1995\",\n",
      "        \"rating\": \"7.2\",\n",
      "        \"directors\": \"Martin Campbell\",\n",
      "        \"cast\": \"Pierce Brosnan, Sean Bean, Izabella Scorupco, Famke Janssen, Joe Don Baker, Judi Dench, Robbie Coltrane, Tchéky Karyo, Gottfried John, Alan Cumming, Desmond Llewelyn, Samantha Bond, Michael Kitchen, Serena Gordon, Simon Kunz, Pavel Douglas, Olivier Lajous, Billy J. Mitchell, Constantine Gregory, Minnie Driver, Michelle Arthur, Ravil Isyanov, Vladimir Milanovich, Trevor Byfield, Peter Majer, Paul Bannon, Simone Bechtel, Martin Campbell, Mark Chapman, Kenneth Coombs, Simon Crane, Terrance Denville, Ian Durrant, Max Faulkner, Juliet Forester, Stefan Kopiecki, Jo Anna Lee, Derek Lyons, Wayne Michaels, Bhasker Patel, Paul Sacks, Michael G. Wilson\",\n",
      "        \"dbpedia_uri\": \"http://dbpedia.org/resource/GoldenEye\",\n"
     ]
    }
   ]
  },
  {
   "cell_type": "markdown",
   "metadata": {
    "id": "NrGycV8NxkwF"
   },
   "source": [
    "### Check users file\n",
    "In this example, the file containing users info is a CSV file where the first column is the *user id*, while the other columns are side information for that user (*gender, occupation, zip code*)"
   ]
  },
  {
   "cell_type": "code",
   "metadata": {
    "colab": {
     "base_uri": "https://localhost:8080/"
    },
    "id": "vUKLNAnMxEnh",
    "outputId": "66c92641-70bf-4bf4-dbdc-ef8468de0d2a"
   },
   "source": [
    "with open(\"users_info.csv\", \"r\") as f:\n",
    "\n",
    "  # print the header and the first 2 entries\n",
    "  for _ in range(3):\n",
    "    print(f.readline(), end='')"
   ],
   "execution_count": 5,
   "outputs": [
    {
     "output_type": "stream",
     "name": "stdout",
     "text": [
      "user_id,age,gender,occupation,zip_code\n",
      "1,24,M,technician,85711\n",
      "2,53,F,other,94043\n"
     ]
    }
   ]
  },
  {
   "cell_type": "markdown",
   "metadata": {
    "id": "dteEOqLxkDGR"
   },
   "source": [
    "<a name=\"cell-id\"></a>\n",
    "### Check ratings\n",
    "In this example, the file containing the interactions between the users and the movies is a CSV, where every interaction is a rating in the **[1, 5]** Likert scale"
   ]
  },
  {
   "cell_type": "code",
   "metadata": {
    "colab": {
     "base_uri": "https://localhost:8080/",
     "height": 424
    },
    "id": "Q3FvQsaIkbtz",
    "outputId": "1884eead-4d94-45c7-ff2d-a18825cb5dfb"
   },
   "source": [
    "import pandas as pd\n",
    "\n",
    "pd.read_csv('ratings.csv')"
   ],
   "execution_count": 6,
   "outputs": [
    {
     "output_type": "execute_result",
     "data": {
      "text/plain": [
       "       user_id  item_id  rating  timestamp\n",
       "0          196      242       3  881250949\n",
       "1          186      302       3  891717742\n",
       "2           22      377       1  878887116\n",
       "3          244       51       2  880606923\n",
       "4          166      346       1  886397596\n",
       "...        ...      ...     ...        ...\n",
       "99995      880      476       3  880175444\n",
       "99996      716      204       5  879795543\n",
       "99997      276     1090       1  874795795\n",
       "99998       13      225       2  882399156\n",
       "99999       12      203       3  879959583\n",
       "\n",
       "[100000 rows x 4 columns]"
      ],
      "text/html": [
       "\n",
       "  <div id=\"df-20c3315a-e932-428c-9441-4fb3abf8922f\">\n",
       "    <div class=\"colab-df-container\">\n",
       "      <div>\n",
       "<style scoped>\n",
       "    .dataframe tbody tr th:only-of-type {\n",
       "        vertical-align: middle;\n",
       "    }\n",
       "\n",
       "    .dataframe tbody tr th {\n",
       "        vertical-align: top;\n",
       "    }\n",
       "\n",
       "    .dataframe thead th {\n",
       "        text-align: right;\n",
       "    }\n",
       "</style>\n",
       "<table border=\"1\" class=\"dataframe\">\n",
       "  <thead>\n",
       "    <tr style=\"text-align: right;\">\n",
       "      <th></th>\n",
       "      <th>user_id</th>\n",
       "      <th>item_id</th>\n",
       "      <th>rating</th>\n",
       "      <th>timestamp</th>\n",
       "    </tr>\n",
       "  </thead>\n",
       "  <tbody>\n",
       "    <tr>\n",
       "      <th>0</th>\n",
       "      <td>196</td>\n",
       "      <td>242</td>\n",
       "      <td>3</td>\n",
       "      <td>881250949</td>\n",
       "    </tr>\n",
       "    <tr>\n",
       "      <th>1</th>\n",
       "      <td>186</td>\n",
       "      <td>302</td>\n",
       "      <td>3</td>\n",
       "      <td>891717742</td>\n",
       "    </tr>\n",
       "    <tr>\n",
       "      <th>2</th>\n",
       "      <td>22</td>\n",
       "      <td>377</td>\n",
       "      <td>1</td>\n",
       "      <td>878887116</td>\n",
       "    </tr>\n",
       "    <tr>\n",
       "      <th>3</th>\n",
       "      <td>244</td>\n",
       "      <td>51</td>\n",
       "      <td>2</td>\n",
       "      <td>880606923</td>\n",
       "    </tr>\n",
       "    <tr>\n",
       "      <th>4</th>\n",
       "      <td>166</td>\n",
       "      <td>346</td>\n",
       "      <td>1</td>\n",
       "      <td>886397596</td>\n",
       "    </tr>\n",
       "    <tr>\n",
       "      <th>...</th>\n",
       "      <td>...</td>\n",
       "      <td>...</td>\n",
       "      <td>...</td>\n",
       "      <td>...</td>\n",
       "    </tr>\n",
       "    <tr>\n",
       "      <th>99995</th>\n",
       "      <td>880</td>\n",
       "      <td>476</td>\n",
       "      <td>3</td>\n",
       "      <td>880175444</td>\n",
       "    </tr>\n",
       "    <tr>\n",
       "      <th>99996</th>\n",
       "      <td>716</td>\n",
       "      <td>204</td>\n",
       "      <td>5</td>\n",
       "      <td>879795543</td>\n",
       "    </tr>\n",
       "    <tr>\n",
       "      <th>99997</th>\n",
       "      <td>276</td>\n",
       "      <td>1090</td>\n",
       "      <td>1</td>\n",
       "      <td>874795795</td>\n",
       "    </tr>\n",
       "    <tr>\n",
       "      <th>99998</th>\n",
       "      <td>13</td>\n",
       "      <td>225</td>\n",
       "      <td>2</td>\n",
       "      <td>882399156</td>\n",
       "    </tr>\n",
       "    <tr>\n",
       "      <th>99999</th>\n",
       "      <td>12</td>\n",
       "      <td>203</td>\n",
       "      <td>3</td>\n",
       "      <td>879959583</td>\n",
       "    </tr>\n",
       "  </tbody>\n",
       "</table>\n",
       "<p>100000 rows × 4 columns</p>\n",
       "</div>\n",
       "      <button class=\"colab-df-convert\" onclick=\"convertToInteractive('df-20c3315a-e932-428c-9441-4fb3abf8922f')\"\n",
       "              title=\"Convert this dataframe to an interactive table.\"\n",
       "              style=\"display:none;\">\n",
       "        \n",
       "  <svg xmlns=\"http://www.w3.org/2000/svg\" height=\"24px\"viewBox=\"0 0 24 24\"\n",
       "       width=\"24px\">\n",
       "    <path d=\"M0 0h24v24H0V0z\" fill=\"none\"/>\n",
       "    <path d=\"M18.56 5.44l.94 2.06.94-2.06 2.06-.94-2.06-.94-.94-2.06-.94 2.06-2.06.94zm-11 1L8.5 8.5l.94-2.06 2.06-.94-2.06-.94L8.5 2.5l-.94 2.06-2.06.94zm10 10l.94 2.06.94-2.06 2.06-.94-2.06-.94-.94-2.06-.94 2.06-2.06.94z\"/><path d=\"M17.41 7.96l-1.37-1.37c-.4-.4-.92-.59-1.43-.59-.52 0-1.04.2-1.43.59L10.3 9.45l-7.72 7.72c-.78.78-.78 2.05 0 2.83L4 21.41c.39.39.9.59 1.41.59.51 0 1.02-.2 1.41-.59l7.78-7.78 2.81-2.81c.8-.78.8-2.07 0-2.86zM5.41 20L4 18.59l7.72-7.72 1.47 1.35L5.41 20z\"/>\n",
       "  </svg>\n",
       "      </button>\n",
       "      \n",
       "  <style>\n",
       "    .colab-df-container {\n",
       "      display:flex;\n",
       "      flex-wrap:wrap;\n",
       "      gap: 12px;\n",
       "    }\n",
       "\n",
       "    .colab-df-convert {\n",
       "      background-color: #E8F0FE;\n",
       "      border: none;\n",
       "      border-radius: 50%;\n",
       "      cursor: pointer;\n",
       "      display: none;\n",
       "      fill: #1967D2;\n",
       "      height: 32px;\n",
       "      padding: 0 0 0 0;\n",
       "      width: 32px;\n",
       "    }\n",
       "\n",
       "    .colab-df-convert:hover {\n",
       "      background-color: #E2EBFA;\n",
       "      box-shadow: 0px 1px 2px rgba(60, 64, 67, 0.3), 0px 1px 3px 1px rgba(60, 64, 67, 0.15);\n",
       "      fill: #174EA6;\n",
       "    }\n",
       "\n",
       "    [theme=dark] .colab-df-convert {\n",
       "      background-color: #3B4455;\n",
       "      fill: #D2E3FC;\n",
       "    }\n",
       "\n",
       "    [theme=dark] .colab-df-convert:hover {\n",
       "      background-color: #434B5C;\n",
       "      box-shadow: 0px 1px 3px 1px rgba(0, 0, 0, 0.15);\n",
       "      filter: drop-shadow(0px 1px 2px rgba(0, 0, 0, 0.3));\n",
       "      fill: #FFFFFF;\n",
       "    }\n",
       "  </style>\n",
       "\n",
       "      <script>\n",
       "        const buttonEl =\n",
       "          document.querySelector('#df-20c3315a-e932-428c-9441-4fb3abf8922f button.colab-df-convert');\n",
       "        buttonEl.style.display =\n",
       "          google.colab.kernel.accessAllowed ? 'block' : 'none';\n",
       "\n",
       "        async function convertToInteractive(key) {\n",
       "          const element = document.querySelector('#df-20c3315a-e932-428c-9441-4fb3abf8922f');\n",
       "          const dataTable =\n",
       "            await google.colab.kernel.invokeFunction('convertToInteractive',\n",
       "                                                     [key], {});\n",
       "          if (!dataTable) return;\n",
       "\n",
       "          const docLinkHtml = 'Like what you see? Visit the ' +\n",
       "            '<a target=\"_blank\" href=https://colab.research.google.com/notebooks/data_table.ipynb>data table notebook</a>'\n",
       "            + ' to learn more about interactive tables.';\n",
       "          element.innerHTML = '';\n",
       "          dataTable['output_type'] = 'display_data';\n",
       "          await google.colab.output.renderOutput(dataTable, element);\n",
       "          const docLink = document.createElement('div');\n",
       "          docLink.innerHTML = docLinkHtml;\n",
       "          element.appendChild(docLink);\n",
       "        }\n",
       "      </script>\n",
       "    </div>\n",
       "  </div>\n",
       "  "
      ]
     },
     "metadata": {},
     "execution_count": 6
    }
   ]
  },
  {
   "cell_type": "markdown",
   "metadata": {
    "id": "ilGpvNnPgHay"
   },
   "source": [
    "# Content Analyzer: representation of Items\n",
    "In order to define the *item representation*, the following parameters should be defined:\n",
    "*   ***source***: the path of the file containing items info\n",
    "*   ***id***: the field that uniquely identifies an item\n",
    "*   ***output_directory***: the path where serialized representations are saved\n",
    "\n"
   ]
  },
  {
   "cell_type": "code",
   "metadata": {
    "id": "gORk6J3wqJGB"
   },
   "source": [
    "# Configuration of item representation \n",
    "movies_ca_config = ca.ItemAnalyzerConfig(\n",
    "    source=ca.JSONFile('items_info.json'),\n",
    "    id='movielens_id',\n",
    "    output_directory='movies_codified/',\n",
    ")"
   ],
   "execution_count": 7,
   "outputs": []
  },
  {
   "cell_type": "markdown",
   "metadata": {
    "id": "YfnkSpfTjuDq"
   },
   "source": [
    "<a name=\"ca_id\"></a>\n",
    "Each item can be represented using a set of fields.\n",
    "Every field can be **represented** using several techniques, such as *'tfidf'*, *'entity linking'*, *'embeddings'*, etc.\n",
    "\n",
    "It is possible to process the content of each field using a **Natural Language Processing (NLP) pipeline**.  \n",
    "It is also possible to assign a **custom id** for each generated representation, in order to allow a simpler reference in the recommendation phase. Both NLP pipeline and custom id are optional parameters.\n",
    "\n",
    "> In the following example, we process: \n",
    "1. the *'plot'* field by performing **lemmatization** and **stopwords removal**, and we represent it using **tfidf**;"
   ]
  },
  {
   "cell_type": "code",
   "metadata": {
    "id": "YA8GfrkrqJ4S",
    "colab": {
     "base_uri": "https://localhost:8080/"
    },
    "outputId": "862a582e-f8c1-4ef6-9ea0-30c42ab72294"
   },
   "source": [
    "movies_ca_config.add_single_config(\n",
    "    'plot',\n",
    "    ca.FieldConfig(ca.SkLearnTfIdf(),\n",
    "                   preprocessing=ca.NLTK(stopwords_removal=True, lemmatization=True),\n",
    "                   id='tfidf')  # Custom id\n",
    ")"
   ],
   "execution_count": 8,
   "outputs": [
    {
     "output_type": "stream",
     "name": "stderr",
     "text": [
      "[nltk_data] Downloading package stopwords to /root/nltk_data...\n",
      "[nltk_data]   Unzipping corpora/stopwords.zip.\n",
      "[nltk_data] Downloading package punkt to /root/nltk_data...\n",
      "[nltk_data]   Unzipping tokenizers/punkt.zip.\n",
      "[nltk_data] Downloading package averaged_perceptron_tagger to\n",
      "[nltk_data]     /root/nltk_data...\n",
      "[nltk_data]   Unzipping taggers/averaged_perceptron_tagger.zip.\n",
      "[nltk_data] Downloading package wordnet to /root/nltk_data...\n",
      "[nltk_data]   Unzipping corpora/wordnet.zip.\n",
      "[nltk_data] Downloading package maxent_ne_chunker to\n",
      "[nltk_data]     /root/nltk_data...\n",
      "[nltk_data]   Unzipping chunkers/maxent_ne_chunker.zip.\n",
      "[nltk_data] Downloading package words to /root/nltk_data...\n",
      "[nltk_data]   Unzipping corpora/words.zip.\n",
      "[nltk_data] Downloading package omw-1.4 to /root/nltk_data...\n",
      "[nltk_data]   Unzipping corpora/omw-1.4.zip.\n"
     ]
    }
   ]
  },
  {
   "cell_type": "markdown",
   "metadata": {
    "id": "0e24qhQVkXIc"
   },
   "source": [
    "At the end of the configuration step, we provide the configuration to the *'Content Analyzer'* and call the `fit()` method:\n",
    "\n",
    "*   The Content Analyzer will **represent** and **serialize** every item.\n",
    "\n"
   ]
  },
  {
   "cell_type": "code",
   "metadata": {
    "id": "yXU-Vuw2twuN",
    "colab": {
     "base_uri": "https://localhost:8080/"
    },
    "outputId": "384da31a-8eae-41cb-cb4a-f076531fcdd2"
   },
   "source": [
    "ca.ContentAnalyzer(config=movies_ca_config).fit()"
   ],
   "execution_count": 9,
   "outputs": [
    {
     "output_type": "stream",
     "name": "stderr",
     "text": [
      "\u001B[39mINFO\u001B[0m - ***********   Processing field: plot   *********** (content_analyzer_main.py:186)\n",
      "\u001B[39mINFO\u001B[0m - Computing tf-idf with SkLearnTfIdf (tf_idf.py:95)\n",
      "Serializing contents:  100%|██████████| 1682/1682 [00:10<00:00]\n"
     ]
    }
   ]
  },
  {
   "cell_type": "markdown",
   "metadata": {
    "id": "H_3ff69ZhFj7"
   },
   "source": [
    "# [Optional] Content Analyzer: representation of Users\n",
    "In order to define the *'user representation'*, we could use the same process performed for *'item representation'*. In this case we don't want to represent in a complex way users, so this step is completely optional\n",
    "\n",
    "In this example, the ID for users is the column `user_id`."
   ]
  },
  {
   "cell_type": "code",
   "metadata": {
    "id": "HhwOj4s-uzOk",
    "colab": {
     "base_uri": "https://localhost:8080/"
    },
    "outputId": "ea7ea5f0-c523-4693-a879-98b868a0821c"
   },
   "source": [
    "#Configuration of user representation\n",
    "users_ca_config = ca.UserAnalyzerConfig(\n",
    "    ca.CSVFile('users_info.csv'),\n",
    "    id='user_id',\n",
    "    output_directory='users_codified/',\n",
    ")\n",
    "\n",
    "# Since no complex representation for users is needed, the fit() method is called immediately\n",
    "ca.ContentAnalyzer(config=users_ca_config).fit()"
   ],
   "execution_count": 10,
   "outputs": [
    {
     "output_type": "stream",
     "name": "stderr",
     "text": [
      "Serializing contents:  100%|██████████| 943/943 [00:04<00:00]\n"
     ]
    }
   ]
  },
  {
   "cell_type": "markdown",
   "metadata": {
    "id": "dr0qljcRhpW6"
   },
   "source": [
    "# Recommender System: centroid vector algorithm"
   ]
  },
  {
   "cell_type": "markdown",
   "metadata": {
    "id": "Ms6kU0TEr_ps"
   },
   "source": [
    "The Recommender System module needs information about users, items and ratings. \n",
    "\n",
    "The **Ratings** class allows you to import rating from a source file (or also from an existent dataframe) into a custom object.   **If** the source file contains users (U), items (I) and ratings (R) in this order, no additional parameters are needed, **otherwise**  the mapping must be explictly specified using:\n",
    "\n",
    "*   **'user_id'** column,\n",
    "*   **'item_id'** column,\n",
    "*   **'score'** column\n",
    "\n",
    "\n",
    "\n"
   ]
  },
  {
   "cell_type": "code",
   "metadata": {
    "colab": {
     "base_uri": "https://localhost:8080/"
    },
    "id": "XjxZ9yTnvVW-",
    "outputId": "3f877747-0ad2-4981-d042-e43fcfc6098c"
   },
   "source": [
    "ratings = ca.Ratings(ca.CSVFile('ratings.csv'))\n",
    "\n",
    "print(ratings)"
   ],
   "execution_count": 11,
   "outputs": [
    {
     "output_type": "stream",
     "name": "stderr",
     "text": [
      "Importing ratings:  100%|██████████| 100000/100000 [00:00<00:00]\n"
     ]
    },
    {
     "output_type": "stream",
     "name": "stdout",
     "text": [
      "      user_id item_id  score\n",
      "0         196     242    3.0\n",
      "1         196     393    4.0\n",
      "2         196     381    4.0\n",
      "3         196     251    3.0\n",
      "4         196     655    5.0\n",
      "...       ...     ...    ...\n",
      "99995     941     919    5.0\n",
      "99996     941     273    3.0\n",
      "99997     941       1    5.0\n",
      "99998     941     294    4.0\n",
      "99999     941    1007    4.0\n",
      "\n",
      "[100000 rows x 3 columns]\n"
     ]
    }
   ]
  },
  {
   "cell_type": "code",
   "metadata": {
    "id": "1SfXQx4y01u7"
   },
   "source": [
    "# (mapping by index) EQUIVALENT:\n",
    "#\n",
    "# ratings = ca.Ratings(\n",
    "#     ca.CSVFile('ratings.csv'),\n",
    "#     user_id_column=0,\n",
    "#     item_id_column=1,\n",
    "#     score_column=2\n",
    "# )"
   ],
   "execution_count": 12,
   "outputs": []
  },
  {
   "cell_type": "code",
   "metadata": {
    "id": "Ww9kKa3608pK"
   },
   "source": [
    "# (mapping by column name) EQUIVALENT:\n",
    "\n",
    "# ratings = ca.Ratings(\n",
    "#     ca.CSVFile('ratings.csv'),\n",
    "#     user_id_column='user_id',\n",
    "#     item_id_column='item_id',\n",
    "#     score_column='rating'\n",
    "# )"
   ],
   "execution_count": 13,
   "outputs": []
  },
  {
   "cell_type": "markdown",
   "metadata": {
    "id": "O9dYu-H9uUa5"
   },
   "source": [
    "The Recommender System also needs an algorithm for ranking or predicting items to users. In the following example we use the **CentroidVector** algorithm:\n",
    "\n",
    "*   It computes the centroid vector of the features of items *liked by the user*\n",
    "*   It computes the similarity between the centroid vector and unrated items\n",
    "\n",
    "The items liked by a user are those having a rating higher or equal than a specific **threshold**. If the threshold is not specified, the average score of all items liked by the user is used.\n",
    "\n",
    "The Recommender System leverages the representations defined by the Content Analyzer. In the current example, we use the representation of the field 'plot'. More representations could be adopted for a single field.\n",
    "\n",
    "\n",
    "```python\n",
    "# Example with multiple representations for a single field\n",
    "{\n",
    "  'plot': ['tfidf', 'word_embedding'],\n",
    "  'genre': 'doc_embedding',\n",
    "  ...\n",
    "}\n",
    "```\n",
    "\n",
    "Representations can be referenced using the **external id** (if specified, see [here](#ca_id)) or the **internal id**:\n",
    "\n",
    "\n",
    "```\n",
    "For the field 'plot':\n",
    "First representation created -> internal_id = 0\n",
    "Second representation created -> internal_id = 1\n",
    "...\n",
    "Nth representation created -> internal_id = n-1\n",
    "```"
   ]
  },
  {
   "cell_type": "code",
   "metadata": {
    "id": "GbblAapgmOL6"
   },
   "source": [
    "centroid_vec = rs.CentroidVector(\n",
    "    {'plot': 'tfidf'},  # EQUIVALENT TO {'plot': 0}\n",
    "    similarity=rs.CosineSimilarity()\n",
    ")\n",
    "\n",
    "# no threshold parameter specified, the average rating given by\n",
    "# the user wil be used"
   ],
   "execution_count": 14,
   "outputs": []
  },
  {
   "cell_type": "markdown",
   "source": [
    "Before we can instantiate the recommender system, we should perform the splitting of the dataset: let's perform a **KFold with 2 splits**\n",
    "\n",
    "*   The output of the partition module are two lists. One containing the two train set (in this case), the other containing the two test set (in this case)\n",
    "\n",
    "\n",
    "\n"
   ],
   "metadata": {
    "id": "_mhMRMZPrBfD"
   }
  },
  {
   "cell_type": "code",
   "source": [
    "train_list, test_list = rs.KFoldPartitioning(n_splits=2).split_all(ratings)"
   ],
   "metadata": {
    "colab": {
     "base_uri": "https://localhost:8080/"
    },
    "id": "pEvDpxl7r-Wt",
    "outputId": "1992f631-f175-4885-de51-117dbd7a4cca"
   },
   "execution_count": 15,
   "outputs": [
    {
     "output_type": "stream",
     "name": "stderr",
     "text": [
      "Performing KFoldPartitioning:  100%|██████████| 943/943 [00:00<00:00]\n"
     ]
    }
   ]
  },
  {
   "cell_type": "markdown",
   "metadata": {
    "id": "CIQtO-Ah1Ty8"
   },
   "source": [
    "The Recommender System needs the following parameters: the recommendation  algorithm, the train set, and the path of the items serialized by the Content Analyzer:\n",
    "\n",
    "*   At the moment let's use the first train set\n",
    "\n"
   ]
  },
  {
   "cell_type": "code",
   "metadata": {
    "id": "2z88KA1D1Xni"
   },
   "source": [
    "first_train = train_list[0]\n",
    "\n",
    "cbrs = rs.ContentBasedRS(centroid_vec, first_train, 'movies_codified/')"
   ],
   "execution_count": 16,
   "outputs": []
  },
  {
   "cell_type": "markdown",
   "metadata": {
    "id": "3UdiSzE61lIb"
   },
   "source": [
    "Now the ***cbrs*** must be fit before we can compute the rank:\n",
    "\n",
    "*   We could do this in two separate steps, by first calling the `fit(..)` method and then the `rank(...)` method \n",
    "\n",
    "*   Or by calling directly the `fit_rank(...)` method, which performs both in one step\n",
    "\n",
    "We use the second approach and we compute the **top-3** items for the *user 8*, *user 2* and *user 1*.\n",
    "\n",
    "*   The first splitted test set is used\n",
    "\n"
   ]
  },
  {
   "cell_type": "code",
   "metadata": {
    "colab": {
     "base_uri": "https://localhost:8080/"
    },
    "id": "Z2IiN_MZ1wGi",
    "outputId": "ff828732-afa4-44e4-a986-0a30bc1d5dd5"
   },
   "source": [
    "first_test_set = test_list[0]\n",
    "\n",
    "rank = cbrs.fit_rank(first_test_set, user_id_list=['8', '2', '1'], n_recs=3)"
   ],
   "execution_count": 17,
   "outputs": [
    {
     "output_type": "stream",
     "name": "stderr",
     "text": [
      "\u001B[39mINFO\u001B[0m - Don't worry if it looks stuck at first (recsys.py:469)\n",
      "\u001B[39mINFO\u001B[0m - First iterations will stabilize the estimated remaining time (recsys.py:470)\n",
      "Computing fit_rank for user 8:  100%|██████████| 3/3 [00:00<00:00]\n"
     ]
    }
   ]
  },
  {
   "cell_type": "markdown",
   "source": [
    "Let's print the rank just computed"
   ],
   "metadata": {
    "id": "1KsKTGUYxIgX"
   }
  },
  {
   "cell_type": "code",
   "source": [
    "print(rank)"
   ],
   "metadata": {
    "colab": {
     "base_uri": "https://localhost:8080/"
    },
    "id": "MOsRQ6vNxGJh",
    "outputId": "9bed54ef-abd9-487f-ebf3-9d275919eb3a"
   },
   "execution_count": 18,
   "outputs": [
    {
     "output_type": "stream",
     "name": "stdout",
     "text": [
      "  user_id item_id     score\n",
      "0       2     297  0.235788\n",
      "1       2     287  0.105436\n",
      "2       2     285  0.083834\n",
      "3       1     243  0.134286\n",
      "4       1      24  0.124407\n",
      "5       1     113  0.123558\n",
      "6       8     172  0.134557\n",
      "7       8     183  0.092161\n",
      "8       8     511  0.081134\n"
     ]
    }
   ]
  },
  {
   "cell_type": "markdown",
   "source": [
    "Let's now compute the rank for all users of our train set, and let's use both the two train set and two test set obtained thanks to the KFold technique\n",
    "\n",
    "*   We will save the two computed rank in a list, and we will evaluate them in the next step\n",
    "\n",
    "In order to compute a rank for all users, you simply do not specify the *user_id_list* parameter"
   ],
   "metadata": {
    "id": "C0IIUsiyxVn_"
   }
  },
  {
   "cell_type": "code",
   "source": [
    "result_list = []\n",
    "\n",
    "for train_set, test_set in zip(train_list, test_list):\n",
    "  \n",
    "  cbrs = rs.ContentBasedRS(centroid_vec, train_set, 'movies_codified/')\n",
    "  rank_to_append = cbrs.fit_rank(test_set)\n",
    "\n",
    "  result_list.append(rank_to_append)"
   ],
   "metadata": {
    "colab": {
     "base_uri": "https://localhost:8080/"
    },
    "id": "MNMg4LInxU19",
    "outputId": "bffcd9b3-3ccc-4ef6-ce6e-c5f2ab82c112"
   },
   "execution_count": 19,
   "outputs": [
    {
     "output_type": "stream",
     "name": "stderr",
     "text": [
      "\u001B[39mINFO\u001B[0m - Don't worry if it looks stuck at first (recsys.py:469)\n",
      "\u001B[39mINFO\u001B[0m - First iterations will stabilize the estimated remaining time (recsys.py:470)\n",
      "Computing fit_rank for user 732:  100%|██████████| 943/943 [00:35<00:00]\n",
      "\u001B[39mINFO\u001B[0m - Don't worry if it looks stuck at first (recsys.py:469)\n",
      "\u001B[39mINFO\u001B[0m - First iterations will stabilize the estimated remaining time (recsys.py:470)\n",
      "Computing fit_rank for user 732:  100%|██████████| 943/943 [00:34<00:00]\n"
     ]
    }
   ]
  },
  {
   "cell_type": "markdown",
   "metadata": {
    "id": "wBeOgvjY2ECV"
   },
   "source": [
    "# Evaluation module\n",
    "\n",
    "Recommendations can be evaluated using several metrics. In the following example, we use:\n",
    "\n",
    "*   ***Precision***\n",
    "*   ***Recall***\n",
    "*   ***F1 - computed using macro average***\n",
    "*   ***F1 - computed using micro average***"
   ]
  },
  {
   "cell_type": "markdown",
   "metadata": {
    "id": "sDYYVUWM2hZi"
   },
   "source": [
    "The Evaluation module needs the following parameters:\n",
    "\n",
    "*   A list of computed rank/predictions (in case multiple splits must be evaluated)\n",
    "*   A list of truths (in case multiple splits must be evaluated)\n",
    "*   List of metrics to compute\n",
    "\n",
    "Obviously the list of computed rank/predictions and list of truths must have the same length, and the rank/prediction in position $i$ will be compared with the truth at position $i$"
   ]
  },
  {
   "cell_type": "code",
   "metadata": {
    "id": "81yNWR0p2baT"
   },
   "source": [
    "em = eva.EvalModel(\n",
    "    result_list,\n",
    "    test_list,\n",
    "    metric_list=[\n",
    "        eva.Precision(),  # by default sys_average='macro'\n",
    "        eva.Recall(),     # by default sys_average='macro'\n",
    "        eva.FMeasure(sys_average='macro'),\n",
    "        eva.FMeasure(sys_average='micro')\n",
    "    ]\n",
    ")"
   ],
   "execution_count": 20,
   "outputs": []
  },
  {
   "cell_type": "markdown",
   "metadata": {
    "id": "XoFTI1T83TVV"
   },
   "source": [
    "The fit() method returns two pandas DataFrame: the first one contains the metrics aggregated for the system, while the second contains the metrics computed for each user (where possible)"
   ]
  },
  {
   "cell_type": "code",
   "metadata": {
    "id": "o9QXMFl02iDK",
    "colab": {
     "base_uri": "https://localhost:8080/"
    },
    "outputId": "efb04390-3fa9-42bb-dfd0-1e5b62ce0922"
   },
   "source": [
    "sys_result, users_result =  em.fit()"
   ],
   "execution_count": 21,
   "outputs": [
    {
     "output_type": "stream",
     "name": "stderr",
     "text": [
      "\u001B[39mINFO\u001B[0m - Performing evaluation on metrics chosen (eval_model.py:133)\n",
      "Performing F1 - micro:  100%|██████████| 4/4 [00:01<00:00]\n"
     ]
    }
   ]
  },
  {
   "cell_type": "markdown",
   "source": [
    "For the DataFrame which contains system results, the results are also grouped by splits"
   ],
   "metadata": {
    "id": "Fq8kTXb11SvG"
   }
  },
  {
   "cell_type": "code",
   "metadata": {
    "colab": {
     "base_uri": "https://localhost:8080/",
     "height": 175
    },
    "id": "yIpALBnr4Azi",
    "outputId": "4faf584e-d03d-4fd4-dec4-96a219d233a4"
   },
   "source": [
    "sys_result"
   ],
   "execution_count": 22,
   "outputs": [
    {
     "output_type": "execute_result",
     "data": {
      "text/plain": [
       "             Precision - macro  Recall - macro  F1 - macro  F1 - micro\n",
       "user_id                                                               \n",
       "sys - fold1           0.547236             1.0    0.697626    0.702329\n",
       "sys - fold2           0.550613             1.0    0.700694    0.704942\n",
       "sys - mean            0.548925             1.0    0.699160    0.703635"
      ],
      "text/html": [
       "\n",
       "  <div id=\"df-fce85098-f3e1-41a9-af81-2a7788512987\">\n",
       "    <div class=\"colab-df-container\">\n",
       "      <div>\n",
       "<style scoped>\n",
       "    .dataframe tbody tr th:only-of-type {\n",
       "        vertical-align: middle;\n",
       "    }\n",
       "\n",
       "    .dataframe tbody tr th {\n",
       "        vertical-align: top;\n",
       "    }\n",
       "\n",
       "    .dataframe thead th {\n",
       "        text-align: right;\n",
       "    }\n",
       "</style>\n",
       "<table border=\"1\" class=\"dataframe\">\n",
       "  <thead>\n",
       "    <tr style=\"text-align: right;\">\n",
       "      <th></th>\n",
       "      <th>Precision - macro</th>\n",
       "      <th>Recall - macro</th>\n",
       "      <th>F1 - macro</th>\n",
       "      <th>F1 - micro</th>\n",
       "    </tr>\n",
       "    <tr>\n",
       "      <th>user_id</th>\n",
       "      <th></th>\n",
       "      <th></th>\n",
       "      <th></th>\n",
       "      <th></th>\n",
       "    </tr>\n",
       "  </thead>\n",
       "  <tbody>\n",
       "    <tr>\n",
       "      <th>sys - fold1</th>\n",
       "      <td>0.547236</td>\n",
       "      <td>1.0</td>\n",
       "      <td>0.697626</td>\n",
       "      <td>0.702329</td>\n",
       "    </tr>\n",
       "    <tr>\n",
       "      <th>sys - fold2</th>\n",
       "      <td>0.550613</td>\n",
       "      <td>1.0</td>\n",
       "      <td>0.700694</td>\n",
       "      <td>0.704942</td>\n",
       "    </tr>\n",
       "    <tr>\n",
       "      <th>sys - mean</th>\n",
       "      <td>0.548925</td>\n",
       "      <td>1.0</td>\n",
       "      <td>0.699160</td>\n",
       "      <td>0.703635</td>\n",
       "    </tr>\n",
       "  </tbody>\n",
       "</table>\n",
       "</div>\n",
       "      <button class=\"colab-df-convert\" onclick=\"convertToInteractive('df-fce85098-f3e1-41a9-af81-2a7788512987')\"\n",
       "              title=\"Convert this dataframe to an interactive table.\"\n",
       "              style=\"display:none;\">\n",
       "        \n",
       "  <svg xmlns=\"http://www.w3.org/2000/svg\" height=\"24px\"viewBox=\"0 0 24 24\"\n",
       "       width=\"24px\">\n",
       "    <path d=\"M0 0h24v24H0V0z\" fill=\"none\"/>\n",
       "    <path d=\"M18.56 5.44l.94 2.06.94-2.06 2.06-.94-2.06-.94-.94-2.06-.94 2.06-2.06.94zm-11 1L8.5 8.5l.94-2.06 2.06-.94-2.06-.94L8.5 2.5l-.94 2.06-2.06.94zm10 10l.94 2.06.94-2.06 2.06-.94-2.06-.94-.94-2.06-.94 2.06-2.06.94z\"/><path d=\"M17.41 7.96l-1.37-1.37c-.4-.4-.92-.59-1.43-.59-.52 0-1.04.2-1.43.59L10.3 9.45l-7.72 7.72c-.78.78-.78 2.05 0 2.83L4 21.41c.39.39.9.59 1.41.59.51 0 1.02-.2 1.41-.59l7.78-7.78 2.81-2.81c.8-.78.8-2.07 0-2.86zM5.41 20L4 18.59l7.72-7.72 1.47 1.35L5.41 20z\"/>\n",
       "  </svg>\n",
       "      </button>\n",
       "      \n",
       "  <style>\n",
       "    .colab-df-container {\n",
       "      display:flex;\n",
       "      flex-wrap:wrap;\n",
       "      gap: 12px;\n",
       "    }\n",
       "\n",
       "    .colab-df-convert {\n",
       "      background-color: #E8F0FE;\n",
       "      border: none;\n",
       "      border-radius: 50%;\n",
       "      cursor: pointer;\n",
       "      display: none;\n",
       "      fill: #1967D2;\n",
       "      height: 32px;\n",
       "      padding: 0 0 0 0;\n",
       "      width: 32px;\n",
       "    }\n",
       "\n",
       "    .colab-df-convert:hover {\n",
       "      background-color: #E2EBFA;\n",
       "      box-shadow: 0px 1px 2px rgba(60, 64, 67, 0.3), 0px 1px 3px 1px rgba(60, 64, 67, 0.15);\n",
       "      fill: #174EA6;\n",
       "    }\n",
       "\n",
       "    [theme=dark] .colab-df-convert {\n",
       "      background-color: #3B4455;\n",
       "      fill: #D2E3FC;\n",
       "    }\n",
       "\n",
       "    [theme=dark] .colab-df-convert:hover {\n",
       "      background-color: #434B5C;\n",
       "      box-shadow: 0px 1px 3px 1px rgba(0, 0, 0, 0.15);\n",
       "      filter: drop-shadow(0px 1px 2px rgba(0, 0, 0, 0.3));\n",
       "      fill: #FFFFFF;\n",
       "    }\n",
       "  </style>\n",
       "\n",
       "      <script>\n",
       "        const buttonEl =\n",
       "          document.querySelector('#df-fce85098-f3e1-41a9-af81-2a7788512987 button.colab-df-convert');\n",
       "        buttonEl.style.display =\n",
       "          google.colab.kernel.accessAllowed ? 'block' : 'none';\n",
       "\n",
       "        async function convertToInteractive(key) {\n",
       "          const element = document.querySelector('#df-fce85098-f3e1-41a9-af81-2a7788512987');\n",
       "          const dataTable =\n",
       "            await google.colab.kernel.invokeFunction('convertToInteractive',\n",
       "                                                     [key], {});\n",
       "          if (!dataTable) return;\n",
       "\n",
       "          const docLinkHtml = 'Like what you see? Visit the ' +\n",
       "            '<a target=\"_blank\" href=https://colab.research.google.com/notebooks/data_table.ipynb>data table notebook</a>'\n",
       "            + ' to learn more about interactive tables.';\n",
       "          element.innerHTML = '';\n",
       "          dataTable['output_type'] = 'display_data';\n",
       "          await google.colab.output.renderOutput(dataTable, element);\n",
       "          const docLink = document.createElement('div');\n",
       "          docLink.innerHTML = docLinkHtml;\n",
       "          element.appendChild(docLink);\n",
       "        }\n",
       "      </script>\n",
       "    </div>\n",
       "  </div>\n",
       "  "
      ]
     },
     "metadata": {},
     "execution_count": 22
    }
   ]
  },
  {
   "cell_type": "code",
   "metadata": {
    "colab": {
     "base_uri": "https://localhost:8080/",
     "height": 455
    },
    "id": "R_-unvKt4BzC",
    "outputId": "3036d6c3-dd3c-4f54-d28c-078565ab7501"
   },
   "source": [
    "users_result"
   ],
   "execution_count": 23,
   "outputs": [
    {
     "output_type": "execute_result",
     "data": {
      "text/plain": [
       "         Precision - macro  Recall - macro  F1 - macro  F1 - micro\n",
       "user_id                                                           \n",
       "1                 0.599265             1.0    0.749101    0.749101\n",
       "10                0.293478             1.0    0.452798    0.452798\n",
       "100               0.372414             1.0    0.542125    0.542125\n",
       "101               0.672460             1.0    0.802871    0.802871\n",
       "102               0.560185             1.0    0.717186    0.717186\n",
       "...                    ...             ...         ...         ...\n",
       "95                0.514388             1.0    0.679327    0.679327\n",
       "96                0.500000             1.0    0.666667    0.666667\n",
       "97                0.634577             1.0    0.776226    0.776226\n",
       "98                0.486264             1.0    0.644110    0.644110\n",
       "99                0.573529             1.0    0.728861    0.728861\n",
       "\n",
       "[943 rows x 4 columns]"
      ],
      "text/html": [
       "\n",
       "  <div id=\"df-9fc969e2-9633-4639-8f96-45eac134e323\">\n",
       "    <div class=\"colab-df-container\">\n",
       "      <div>\n",
       "<style scoped>\n",
       "    .dataframe tbody tr th:only-of-type {\n",
       "        vertical-align: middle;\n",
       "    }\n",
       "\n",
       "    .dataframe tbody tr th {\n",
       "        vertical-align: top;\n",
       "    }\n",
       "\n",
       "    .dataframe thead th {\n",
       "        text-align: right;\n",
       "    }\n",
       "</style>\n",
       "<table border=\"1\" class=\"dataframe\">\n",
       "  <thead>\n",
       "    <tr style=\"text-align: right;\">\n",
       "      <th></th>\n",
       "      <th>Precision - macro</th>\n",
       "      <th>Recall - macro</th>\n",
       "      <th>F1 - macro</th>\n",
       "      <th>F1 - micro</th>\n",
       "    </tr>\n",
       "    <tr>\n",
       "      <th>user_id</th>\n",
       "      <th></th>\n",
       "      <th></th>\n",
       "      <th></th>\n",
       "      <th></th>\n",
       "    </tr>\n",
       "  </thead>\n",
       "  <tbody>\n",
       "    <tr>\n",
       "      <th>1</th>\n",
       "      <td>0.599265</td>\n",
       "      <td>1.0</td>\n",
       "      <td>0.749101</td>\n",
       "      <td>0.749101</td>\n",
       "    </tr>\n",
       "    <tr>\n",
       "      <th>10</th>\n",
       "      <td>0.293478</td>\n",
       "      <td>1.0</td>\n",
       "      <td>0.452798</td>\n",
       "      <td>0.452798</td>\n",
       "    </tr>\n",
       "    <tr>\n",
       "      <th>100</th>\n",
       "      <td>0.372414</td>\n",
       "      <td>1.0</td>\n",
       "      <td>0.542125</td>\n",
       "      <td>0.542125</td>\n",
       "    </tr>\n",
       "    <tr>\n",
       "      <th>101</th>\n",
       "      <td>0.672460</td>\n",
       "      <td>1.0</td>\n",
       "      <td>0.802871</td>\n",
       "      <td>0.802871</td>\n",
       "    </tr>\n",
       "    <tr>\n",
       "      <th>102</th>\n",
       "      <td>0.560185</td>\n",
       "      <td>1.0</td>\n",
       "      <td>0.717186</td>\n",
       "      <td>0.717186</td>\n",
       "    </tr>\n",
       "    <tr>\n",
       "      <th>...</th>\n",
       "      <td>...</td>\n",
       "      <td>...</td>\n",
       "      <td>...</td>\n",
       "      <td>...</td>\n",
       "    </tr>\n",
       "    <tr>\n",
       "      <th>95</th>\n",
       "      <td>0.514388</td>\n",
       "      <td>1.0</td>\n",
       "      <td>0.679327</td>\n",
       "      <td>0.679327</td>\n",
       "    </tr>\n",
       "    <tr>\n",
       "      <th>96</th>\n",
       "      <td>0.500000</td>\n",
       "      <td>1.0</td>\n",
       "      <td>0.666667</td>\n",
       "      <td>0.666667</td>\n",
       "    </tr>\n",
       "    <tr>\n",
       "      <th>97</th>\n",
       "      <td>0.634577</td>\n",
       "      <td>1.0</td>\n",
       "      <td>0.776226</td>\n",
       "      <td>0.776226</td>\n",
       "    </tr>\n",
       "    <tr>\n",
       "      <th>98</th>\n",
       "      <td>0.486264</td>\n",
       "      <td>1.0</td>\n",
       "      <td>0.644110</td>\n",
       "      <td>0.644110</td>\n",
       "    </tr>\n",
       "    <tr>\n",
       "      <th>99</th>\n",
       "      <td>0.573529</td>\n",
       "      <td>1.0</td>\n",
       "      <td>0.728861</td>\n",
       "      <td>0.728861</td>\n",
       "    </tr>\n",
       "  </tbody>\n",
       "</table>\n",
       "<p>943 rows × 4 columns</p>\n",
       "</div>\n",
       "      <button class=\"colab-df-convert\" onclick=\"convertToInteractive('df-9fc969e2-9633-4639-8f96-45eac134e323')\"\n",
       "              title=\"Convert this dataframe to an interactive table.\"\n",
       "              style=\"display:none;\">\n",
       "        \n",
       "  <svg xmlns=\"http://www.w3.org/2000/svg\" height=\"24px\"viewBox=\"0 0 24 24\"\n",
       "       width=\"24px\">\n",
       "    <path d=\"M0 0h24v24H0V0z\" fill=\"none\"/>\n",
       "    <path d=\"M18.56 5.44l.94 2.06.94-2.06 2.06-.94-2.06-.94-.94-2.06-.94 2.06-2.06.94zm-11 1L8.5 8.5l.94-2.06 2.06-.94-2.06-.94L8.5 2.5l-.94 2.06-2.06.94zm10 10l.94 2.06.94-2.06 2.06-.94-2.06-.94-.94-2.06-.94 2.06-2.06.94z\"/><path d=\"M17.41 7.96l-1.37-1.37c-.4-.4-.92-.59-1.43-.59-.52 0-1.04.2-1.43.59L10.3 9.45l-7.72 7.72c-.78.78-.78 2.05 0 2.83L4 21.41c.39.39.9.59 1.41.59.51 0 1.02-.2 1.41-.59l7.78-7.78 2.81-2.81c.8-.78.8-2.07 0-2.86zM5.41 20L4 18.59l7.72-7.72 1.47 1.35L5.41 20z\"/>\n",
       "  </svg>\n",
       "      </button>\n",
       "      \n",
       "  <style>\n",
       "    .colab-df-container {\n",
       "      display:flex;\n",
       "      flex-wrap:wrap;\n",
       "      gap: 12px;\n",
       "    }\n",
       "\n",
       "    .colab-df-convert {\n",
       "      background-color: #E8F0FE;\n",
       "      border: none;\n",
       "      border-radius: 50%;\n",
       "      cursor: pointer;\n",
       "      display: none;\n",
       "      fill: #1967D2;\n",
       "      height: 32px;\n",
       "      padding: 0 0 0 0;\n",
       "      width: 32px;\n",
       "    }\n",
       "\n",
       "    .colab-df-convert:hover {\n",
       "      background-color: #E2EBFA;\n",
       "      box-shadow: 0px 1px 2px rgba(60, 64, 67, 0.3), 0px 1px 3px 1px rgba(60, 64, 67, 0.15);\n",
       "      fill: #174EA6;\n",
       "    }\n",
       "\n",
       "    [theme=dark] .colab-df-convert {\n",
       "      background-color: #3B4455;\n",
       "      fill: #D2E3FC;\n",
       "    }\n",
       "\n",
       "    [theme=dark] .colab-df-convert:hover {\n",
       "      background-color: #434B5C;\n",
       "      box-shadow: 0px 1px 3px 1px rgba(0, 0, 0, 0.15);\n",
       "      filter: drop-shadow(0px 1px 2px rgba(0, 0, 0, 0.3));\n",
       "      fill: #FFFFFF;\n",
       "    }\n",
       "  </style>\n",
       "\n",
       "      <script>\n",
       "        const buttonEl =\n",
       "          document.querySelector('#df-9fc969e2-9633-4639-8f96-45eac134e323 button.colab-df-convert');\n",
       "        buttonEl.style.display =\n",
       "          google.colab.kernel.accessAllowed ? 'block' : 'none';\n",
       "\n",
       "        async function convertToInteractive(key) {\n",
       "          const element = document.querySelector('#df-9fc969e2-9633-4639-8f96-45eac134e323');\n",
       "          const dataTable =\n",
       "            await google.colab.kernel.invokeFunction('convertToInteractive',\n",
       "                                                     [key], {});\n",
       "          if (!dataTable) return;\n",
       "\n",
       "          const docLinkHtml = 'Like what you see? Visit the ' +\n",
       "            '<a target=\"_blank\" href=https://colab.research.google.com/notebooks/data_table.ipynb>data table notebook</a>'\n",
       "            + ' to learn more about interactive tables.';\n",
       "          element.innerHTML = '';\n",
       "          dataTable['output_type'] = 'display_data';\n",
       "          await google.colab.output.renderOutput(dataTable, element);\n",
       "          const docLink = document.createElement('div');\n",
       "          docLink.innerHTML = docLinkHtml;\n",
       "          element.appendChild(docLink);\n",
       "        }\n",
       "      </script>\n",
       "    </div>\n",
       "  </div>\n",
       "  "
      ]
     },
     "metadata": {},
     "execution_count": 23
    }
   ]
  }
 ]
}
