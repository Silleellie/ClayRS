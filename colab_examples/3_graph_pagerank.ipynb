{
  "nbformat": 4,
  "nbformat_minor": 0,
  "metadata": {
    "colab": {
      "name": "3_graph_pagerank.ipynb",
      "provenance": []
    },
    "kernelspec": {
      "display_name": "Python 3",
      "name": "python3"
    }
  },
  "cells": [
    {
      "cell_type": "markdown",
      "metadata": {
        "id": "UGfRczMXt-Tt"
      },
      "source": [
        "# Installation with pip\n",
        "Every dependency needed by the framework will be downloaded and installed automatically"
      ]
    },
    {
      "cell_type": "code",
      "metadata": {
        "id": "_z0TVVHmQ2sU",
        "colab": {
          "base_uri": "https://localhost:8080/"
        },
        "outputId": "01114d5f-5b56-4405-a791-c081ec5305b3"
      },
      "source": [
        "!pip install clayrs==0.5.0"
      ],
      "execution_count": 1,
      "outputs": [
        {
          "output_type": "stream",
          "name": "stdout",
          "text": [
            "Looking in indexes: https://pypi.org/simple, https://us-python.pkg.dev/colab-wheels/public/simple/\n",
            "Collecting git+https://github.com/swapUniba/ClayRS@perfect_replicability_vbpr\n",
            "  Cloning https://github.com/swapUniba/ClayRS (to revision perfect_replicability_vbpr) to /tmp/pip-req-build-fw42s11t\n",
            "  Running command git clone --filter=blob:none --quiet https://github.com/swapUniba/ClayRS /tmp/pip-req-build-fw42s11t\n",
            "  Running command git checkout -b perfect_replicability_vbpr --track origin/perfect_replicability_vbpr\n",
            "  Switched to a new branch 'perfect_replicability_vbpr'\n",
            "  Branch 'perfect_replicability_vbpr' set up to track remote branch 'perfect_replicability_vbpr' from 'origin'.\n",
            "  Resolved https://github.com/swapUniba/ClayRS to commit 91b2214e602ed6fa4fb499173e2ecc6c01826962\n",
            "  Installing build dependencies ... \u001b[?25l\u001b[?25hdone\n",
            "  Getting requirements to build wheel ... \u001b[?25l\u001b[?25hdone\n",
            "  Preparing metadata (pyproject.toml) ... \u001b[?25l\u001b[?25hdone\n",
            "Collecting transformers~=4.15.0\n",
            "  Downloading transformers-4.15.0-py3-none-any.whl (3.4 MB)\n",
            "\u001b[2K     \u001b[90m━━━━━━━━━━━━━━━━━━━━━━━━━━━━━━━━━━━━━━━━\u001b[0m \u001b[32m3.4/3.4 MB\u001b[0m \u001b[31m16.4 MB/s\u001b[0m eta \u001b[36m0:00:00\u001b[0m\n",
            "\u001b[?25hCollecting tqdm~=4.62.2\n",
            "  Downloading tqdm-4.62.3-py2.py3-none-any.whl (76 kB)\n",
            "\u001b[2K     \u001b[90m━━━━━━━━━━━━━━━━━━━━━━━━━━━━━━━━━━━━━━━━\u001b[0m \u001b[32m76.2/76.2 KB\u001b[0m \u001b[31m3.2 MB/s\u001b[0m eta \u001b[36m0:00:00\u001b[0m\n",
            "\u001b[?25hRequirement already satisfied: scipy~=1.7.3 in /usr/local/lib/python3.8/dist-packages (from clayrs==0.4.0) (1.7.3)\n",
            "Collecting distex~=0.7.1\n",
            "  Downloading distex-0.7.2-py3-none-any.whl (19 kB)\n",
            "Collecting networkx~=2.6.3\n",
            "  Downloading networkx-2.6.3-py3-none-any.whl (1.9 MB)\n",
            "\u001b[2K     \u001b[90m━━━━━━━━━━━━━━━━━━━━━━━━━━━━━━━━━━━━━━━━\u001b[0m \u001b[32m1.9/1.9 MB\u001b[0m \u001b[31m22.0 MB/s\u001b[0m eta \u001b[36m0:00:00\u001b[0m\n",
            "\u001b[?25hCollecting nest-asyncio~=1.5.5\n",
            "  Downloading nest_asyncio-1.5.6-py3-none-any.whl (5.2 kB)\n",
            "Collecting colorama~=0.4.4\n",
            "  Downloading colorama-0.4.6-py2.py3-none-any.whl (25 kB)\n",
            "Collecting sentence-transformers~=1.2.0\n",
            "  Downloading sentence-transformers-1.2.1.tar.gz (80 kB)\n",
            "\u001b[2K     \u001b[90m━━━━━━━━━━━━━━━━━━━━━━━━━━━━━━━━━━━━━━━━\u001b[0m \u001b[32m80.8/80.8 KB\u001b[0m \u001b[31m9.4 MB/s\u001b[0m eta \u001b[36m0:00:00\u001b[0m\n",
            "\u001b[?25h  Preparing metadata (setup.py) ... \u001b[?25l\u001b[?25hdone\n",
            "Collecting timm~=0.6.12\n",
            "  Downloading timm-0.6.12-py3-none-any.whl (549 kB)\n",
            "\u001b[2K     \u001b[90m━━━━━━━━━━━━━━━━━━━━━━━━━━━━━━━━━━━━━━\u001b[0m \u001b[32m549.1/549.1 KB\u001b[0m \u001b[31m48.1 MB/s\u001b[0m eta \u001b[36m0:00:00\u001b[0m\n",
            "\u001b[?25hCollecting matplotlib~=3.2.2\n",
            "  Downloading matplotlib-3.2.2-cp38-cp38-manylinux1_x86_64.whl (12.4 MB)\n",
            "\u001b[2K     \u001b[90m━━━━━━━━━━━━━━━━━━━━━━━━━━━━━━━━━━━━━━━━\u001b[0m \u001b[32m12.4/12.4 MB\u001b[0m \u001b[31m76.1 MB/s\u001b[0m eta \u001b[36m0:00:00\u001b[0m\n",
            "\u001b[?25hCollecting ekphrasis~=0.5.4\n",
            "  Downloading ekphrasis-0.5.4-py3-none-any.whl (83 kB)\n",
            "\u001b[2K     \u001b[90m━━━━━━━━━━━━━━━━━━━━━━━━━━━━━━━━━━━━━━━━\u001b[0m \u001b[32m83.8/83.8 KB\u001b[0m \u001b[31m11.2 MB/s\u001b[0m eta \u001b[36m0:00:00\u001b[0m\n",
            "\u001b[?25hCollecting mysql~=0.0.3\n",
            "  Downloading mysql-0.0.3-py3-none-any.whl (1.2 kB)\n",
            "Collecting Pillow~=9.4.0\n",
            "  Downloading Pillow-9.4.0-cp38-cp38-manylinux_2_28_x86_64.whl (3.4 MB)\n",
            "\u001b[2K     \u001b[90m━━━━━━━━━━━━━━━━━━━━━━━━━━━━━━━━━━━━━━━━\u001b[0m \u001b[32m3.4/3.4 MB\u001b[0m \u001b[31m87.7 MB/s\u001b[0m eta \u001b[36m0:00:00\u001b[0m\n",
            "\u001b[?25hCollecting spacy~=3.2.1\n",
            "  Downloading spacy-3.2.5-cp38-cp38-manylinux_2_17_x86_64.manylinux2014_x86_64.whl (6.2 MB)\n",
            "\u001b[2K     \u001b[90m━━━━━━━━━━━━━━━━━━━━━━━━━━━━━━━━━━━━━━━━\u001b[0m \u001b[32m6.2/6.2 MB\u001b[0m \u001b[31m71.2 MB/s\u001b[0m eta \u001b[36m0:00:00\u001b[0m\n",
            "\u001b[?25hCollecting wn~=0.0.23\n",
            "  Downloading wn-0.0.23.tar.gz (31.6 MB)\n",
            "\u001b[2K     \u001b[90m━━━━━━━━━━━━━━━━━━━━━━━━━━━━━━━━━━━━━━━━\u001b[0m \u001b[32m31.6/31.6 MB\u001b[0m \u001b[31m15.8 MB/s\u001b[0m eta \u001b[36m0:00:00\u001b[0m\n",
            "\u001b[?25h  Preparing metadata (setup.py) ... \u001b[?25l\u001b[?25hdone\n",
            "Collecting whoosh~=2.7.4\n",
            "  Downloading Whoosh-2.7.4-py2.py3-none-any.whl (468 kB)\n",
            "\u001b[2K     \u001b[90m━━━━━━━━━━━━━━━━━━━━━━━━━━━━━━━━━━━━━━\u001b[0m \u001b[32m468.8/468.8 KB\u001b[0m \u001b[31m39.5 MB/s\u001b[0m eta \u001b[36m0:00:00\u001b[0m\n",
            "\u001b[?25hCollecting babelpy~=1.0.1\n",
            "  Downloading BabelPy-1.0.1.tar.gz (8.0 kB)\n",
            "  Preparing metadata (setup.py) ... \u001b[?25l\u001b[?25hdone\n",
            "Requirement already satisfied: torch~=1.13.0 in /usr/local/lib/python3.8/dist-packages (from clayrs==0.4.0) (1.13.1+cu116)\n",
            "Collecting requests~=2.28.2\n",
            "  Downloading requests-2.28.2-py3-none-any.whl (62 kB)\n",
            "\u001b[2K     \u001b[90m━━━━━━━━━━━━━━━━━━━━━━━━━━━━━━━━━━━━━━━━\u001b[0m \u001b[32m62.8/62.8 KB\u001b[0m \u001b[31m7.2 MB/s\u001b[0m eta \u001b[36m0:00:00\u001b[0m\n",
            "\u001b[?25hCollecting gensim~=4.1.2\n",
            "  Downloading gensim-4.1.2-cp38-cp38-manylinux_2_12_x86_64.manylinux2010_x86_64.whl (24.1 MB)\n",
            "\u001b[2K     \u001b[90m━━━━━━━━━━━━━━━━━━━━━━━━━━━━━━━━━━━━━━━━\u001b[0m \u001b[32m24.1/24.1 MB\u001b[0m \u001b[31m28.5 MB/s\u001b[0m eta \u001b[36m0:00:00\u001b[0m\n",
            "\u001b[?25hCollecting numpy-indexed~=0.3.5\n",
            "  Downloading numpy_indexed-0.3.7-py2.py3-none-any.whl (19 kB)\n",
            "Requirement already satisfied: scikit-learn==1.0.2 in /usr/local/lib/python3.8/dist-packages (from clayrs==0.4.0) (1.0.2)\n",
            "Collecting mysql-connector-python~=8.0.20\n",
            "  Downloading mysql_connector_python-8.0.32-cp38-cp38-manylinux1_x86_64.whl (23.5 MB)\n",
            "\u001b[2K     \u001b[90m━━━━━━━━━━━━━━━━━━━━━━━━━━━━━━━━━━━━━━━━\u001b[0m \u001b[32m23.5/23.5 MB\u001b[0m \u001b[31m50.2 MB/s\u001b[0m eta \u001b[36m0:00:00\u001b[0m\n",
            "\u001b[?25hCollecting pandas~=1.2.4\n",
            "  Downloading pandas-1.2.5-cp38-cp38-manylinux_2_5_x86_64.manylinux1_x86_64.whl (9.7 MB)\n",
            "\u001b[2K     \u001b[90m━━━━━━━━━━━━━━━━━━━━━━━━━━━━━━━━━━━━━━━━\u001b[0m \u001b[32m9.7/9.7 MB\u001b[0m \u001b[31m73.7 MB/s\u001b[0m eta \u001b[36m0:00:00\u001b[0m\n",
            "\u001b[?25hRequirement already satisfied: torchvision~=0.14.1 in /usr/local/lib/python3.8/dist-packages (from clayrs==0.4.0) (0.14.1+cu116)\n",
            "Collecting pyaml~=21.10.1\n",
            "  Downloading pyaml-21.10.1-py2.py3-none-any.whl (24 kB)\n",
            "Requirement already satisfied: nltk~=3.5 in /usr/local/lib/python3.8/dist-packages (from clayrs==0.4.0) (3.7)\n",
            "Collecting SPARQLWrapper~=1.8.5\n",
            "  Downloading SPARQLWrapper-1.8.5-py3-none-any.whl (26 kB)\n",
            "Collecting PyYAML~=5.3.1\n",
            "  Downloading PyYAML-5.3.1.tar.gz (269 kB)\n",
            "\u001b[2K     \u001b[90m━━━━━━━━━━━━━━━━━━━━━━━━━━━━━━━━━━━━━━\u001b[0m \u001b[32m269.4/269.4 KB\u001b[0m \u001b[31m27.1 MB/s\u001b[0m eta \u001b[36m0:00:00\u001b[0m\n",
            "\u001b[?25h  Preparing metadata (setup.py) ... \u001b[?25l\u001b[?25hdone\n",
            "Collecting numpy~=1.21.6\n",
            "  Downloading numpy-1.21.6-cp38-cp38-manylinux_2_12_x86_64.manylinux2010_x86_64.whl (15.7 MB)\n",
            "\u001b[2K     \u001b[90m━━━━━━━━━━━━━━━━━━━━━━━━━━━━━━━━━━━━━━━━\u001b[0m \u001b[32m15.7/15.7 MB\u001b[0m \u001b[31m25.6 MB/s\u001b[0m eta \u001b[36m0:00:00\u001b[0m\n",
            "\u001b[?25hCollecting pywsd~=1.2.4\n",
            "  Downloading pywsd-1.2.5-py3-none-any.whl (26.9 MB)\n",
            "\u001b[2K     \u001b[90m━━━━━━━━━━━━━━━━━━━━━━━━━━━━━━━━━━━━━━━━\u001b[0m \u001b[32m26.9/26.9 MB\u001b[0m \u001b[31m59.3 MB/s\u001b[0m eta \u001b[36m0:00:00\u001b[0m\n",
            "\u001b[?25hCollecting scikit-image~=0.19.3\n",
            "  Downloading scikit_image-0.19.3-cp38-cp38-manylinux_2_17_x86_64.manylinux2014_x86_64.whl (14.0 MB)\n",
            "\u001b[2K     \u001b[90m━━━━━━━━━━━━━━━━━━━━━━━━━━━━━━━━━━━━━━━━\u001b[0m \u001b[32m14.0/14.0 MB\u001b[0m \u001b[31m88.8 MB/s\u001b[0m eta \u001b[36m0:00:00\u001b[0m\n",
            "\u001b[?25hCollecting validators~=0.20.0\n",
            "  Downloading validators-0.20.0.tar.gz (30 kB)\n",
            "  Preparing metadata (setup.py) ... \u001b[?25l\u001b[?25hdone\n",
            "Requirement already satisfied: textblob~=0.15.3 in /usr/local/lib/python3.8/dist-packages (from clayrs==0.4.0) (0.15.3)\n",
            "Requirement already satisfied: joblib>=0.11 in /usr/local/lib/python3.8/dist-packages (from scikit-learn==1.0.2->clayrs==0.4.0) (1.2.0)\n",
            "Requirement already satisfied: threadpoolctl>=2.0.0 in /usr/local/lib/python3.8/dist-packages (from scikit-learn==1.0.2->clayrs==0.4.0) (3.1.0)\n",
            "Requirement already satisfied: dill in /usr/local/lib/python3.8/dist-packages (from distex~=0.7.1->clayrs==0.4.0) (0.3.6)\n",
            "Requirement already satisfied: cloudpickle in /usr/local/lib/python3.8/dist-packages (from distex~=0.7.1->clayrs==0.4.0) (2.2.1)\n",
            "Collecting eventkit\n",
            "  Downloading eventkit-1.0.0-py3-none-any.whl (31 kB)\n",
            "Collecting ftfy\n",
            "  Downloading ftfy-6.1.1-py3-none-any.whl (53 kB)\n",
            "\u001b[2K     \u001b[90m━━━━━━━━━━━━━━━━━━━━━━━━━━━━━━━━━━━━━━━━\u001b[0m \u001b[32m53.1/53.1 KB\u001b[0m \u001b[31m7.2 MB/s\u001b[0m eta \u001b[36m0:00:00\u001b[0m\n",
            "\u001b[?25hRequirement already satisfied: termcolor in /usr/local/lib/python3.8/dist-packages (from ekphrasis~=0.5.4->clayrs==0.4.0) (2.2.0)\n",
            "Collecting ujson\n",
            "  Downloading ujson-5.7.0-cp38-cp38-manylinux_2_17_x86_64.manylinux2014_x86_64.whl (52 kB)\n",
            "\u001b[2K     \u001b[90m━━━━━━━━━━━━━━━━━━━━━━━━━━━━━━━━━━━━━━━━\u001b[0m \u001b[32m52.8/52.8 KB\u001b[0m \u001b[31m6.2 MB/s\u001b[0m eta \u001b[36m0:00:00\u001b[0m\n",
            "\u001b[?25hRequirement already satisfied: smart-open>=1.8.1 in /usr/local/lib/python3.8/dist-packages (from gensim~=4.1.2->clayrs==0.4.0) (6.3.0)\n",
            "Requirement already satisfied: python-dateutil>=2.1 in /usr/local/lib/python3.8/dist-packages (from matplotlib~=3.2.2->clayrs==0.4.0) (2.8.2)\n",
            "Requirement already satisfied: cycler>=0.10 in /usr/local/lib/python3.8/dist-packages (from matplotlib~=3.2.2->clayrs==0.4.0) (0.11.0)\n",
            "Requirement already satisfied: pyparsing!=2.0.4,!=2.1.2,!=2.1.6,>=2.0.1 in /usr/local/lib/python3.8/dist-packages (from matplotlib~=3.2.2->clayrs==0.4.0) (3.0.9)\n",
            "Requirement already satisfied: kiwisolver>=1.0.1 in /usr/local/lib/python3.8/dist-packages (from matplotlib~=3.2.2->clayrs==0.4.0) (1.4.4)\n",
            "Collecting mysqlclient\n",
            "  Downloading mysqlclient-2.1.1.tar.gz (88 kB)\n",
            "\u001b[2K     \u001b[90m━━━━━━━━━━━━━━━━━━━━━━━━━━━━━━━━━━━━━━━━\u001b[0m \u001b[32m88.1/88.1 KB\u001b[0m \u001b[31m11.5 MB/s\u001b[0m eta \u001b[36m0:00:00\u001b[0m\n",
            "\u001b[?25h  Preparing metadata (setup.py) ... \u001b[?25l\u001b[?25hdone\n",
            "Requirement already satisfied: protobuf<=3.20.3,>=3.11.0 in /usr/local/lib/python3.8/dist-packages (from mysql-connector-python~=8.0.20->clayrs==0.4.0) (3.19.6)\n",
            "Requirement already satisfied: click in /usr/local/lib/python3.8/dist-packages (from nltk~=3.5->clayrs==0.4.0) (8.1.3)\n",
            "Requirement already satisfied: regex>=2021.8.3 in /usr/local/lib/python3.8/dist-packages (from nltk~=3.5->clayrs==0.4.0) (2022.6.2)\n",
            "Requirement already satisfied: future in /usr/local/lib/python3.8/dist-packages (from numpy-indexed~=0.3.5->clayrs==0.4.0) (0.16.0)\n",
            "Requirement already satisfied: pytz>=2017.3 in /usr/local/lib/python3.8/dist-packages (from pandas~=1.2.4->clayrs==0.4.0) (2022.7.1)\n",
            "Requirement already satisfied: six in /usr/local/lib/python3.8/dist-packages (from pywsd~=1.2.4->clayrs==0.4.0) (1.15.0)\n",
            "Requirement already satisfied: charset-normalizer<4,>=2 in /usr/local/lib/python3.8/dist-packages (from requests~=2.28.2->clayrs==0.4.0) (3.0.1)\n",
            "Requirement already satisfied: certifi>=2017.4.17 in /usr/local/lib/python3.8/dist-packages (from requests~=2.28.2->clayrs==0.4.0) (2022.12.7)\n",
            "Requirement already satisfied: idna<4,>=2.5 in /usr/local/lib/python3.8/dist-packages (from requests~=2.28.2->clayrs==0.4.0) (2.10)\n",
            "Requirement already satisfied: urllib3<1.27,>=1.21.1 in /usr/local/lib/python3.8/dist-packages (from requests~=2.28.2->clayrs==0.4.0) (1.26.14)\n",
            "Requirement already satisfied: PyWavelets>=1.1.1 in /usr/local/lib/python3.8/dist-packages (from scikit-image~=0.19.3->clayrs==0.4.0) (1.4.1)\n",
            "Requirement already satisfied: tifffile>=2019.7.26 in /usr/local/lib/python3.8/dist-packages (from scikit-image~=0.19.3->clayrs==0.4.0) (2023.2.3)\n",
            "Requirement already satisfied: imageio>=2.4.1 in /usr/local/lib/python3.8/dist-packages (from scikit-image~=0.19.3->clayrs==0.4.0) (2.9.0)\n",
            "Requirement already satisfied: packaging>=20.0 in /usr/local/lib/python3.8/dist-packages (from scikit-image~=0.19.3->clayrs==0.4.0) (23.0)\n",
            "Collecting sentencepiece\n",
            "  Downloading sentencepiece-0.1.97-cp38-cp38-manylinux_2_17_x86_64.manylinux2014_x86_64.whl (1.3 MB)\n",
            "\u001b[2K     \u001b[90m━━━━━━━━━━━━━━━━━━━━━━━━━━━━━━━━━━━━━━━━\u001b[0m \u001b[32m1.3/1.3 MB\u001b[0m \u001b[31m69.3 MB/s\u001b[0m eta \u001b[36m0:00:00\u001b[0m\n",
            "\u001b[?25hRequirement already satisfied: blis<0.8.0,>=0.4.0 in /usr/local/lib/python3.8/dist-packages (from spacy~=3.2.1->clayrs==0.4.0) (0.7.9)\n",
            "Requirement already satisfied: srsly<3.0.0,>=2.4.1 in /usr/local/lib/python3.8/dist-packages (from spacy~=3.2.1->clayrs==0.4.0) (2.4.5)\n",
            "Requirement already satisfied: spacy-legacy<3.1.0,>=3.0.8 in /usr/local/lib/python3.8/dist-packages (from spacy~=3.2.1->clayrs==0.4.0) (3.0.12)\n",
            "Collecting pydantic!=1.8,!=1.8.1,<1.9.0,>=1.7.4\n",
            "  Downloading pydantic-1.8.2-cp38-cp38-manylinux2014_x86_64.whl (13.7 MB)\n",
            "\u001b[2K     \u001b[90m━━━━━━━━━━━━━━━━━━━━━━━━━━━━━━━━━━━━━━━━\u001b[0m \u001b[32m13.7/13.7 MB\u001b[0m \u001b[31m79.9 MB/s\u001b[0m eta \u001b[36m0:00:00\u001b[0m\n",
            "\u001b[?25hRequirement already satisfied: langcodes<4.0.0,>=3.2.0 in /usr/local/lib/python3.8/dist-packages (from spacy~=3.2.1->clayrs==0.4.0) (3.3.0)\n",
            "Collecting typer<0.5.0,>=0.3.0\n",
            "  Downloading typer-0.4.2-py3-none-any.whl (27 kB)\n",
            "Collecting thinc<8.1.0,>=8.0.12\n",
            "  Downloading thinc-8.0.17-cp38-cp38-manylinux_2_17_x86_64.manylinux2014_x86_64.whl (671 kB)\n",
            "\u001b[2K     \u001b[90m━━━━━━━━━━━━━━━━━━━━━━━━━━━━━━━━━━━━━━━\u001b[0m \u001b[32m671.1/671.1 KB\u001b[0m \u001b[31m2.8 MB/s\u001b[0m eta \u001b[36m0:00:00\u001b[0m\n",
            "\u001b[?25hRequirement already satisfied: cymem<2.1.0,>=2.0.2 in /usr/local/lib/python3.8/dist-packages (from spacy~=3.2.1->clayrs==0.4.0) (2.0.7)\n",
            "Requirement already satisfied: pathy>=0.3.5 in /usr/local/lib/python3.8/dist-packages (from spacy~=3.2.1->clayrs==0.4.0) (0.10.1)\n",
            "Requirement already satisfied: catalogue<2.1.0,>=2.0.6 in /usr/local/lib/python3.8/dist-packages (from spacy~=3.2.1->clayrs==0.4.0) (2.0.8)\n",
            "Requirement already satisfied: preshed<3.1.0,>=3.0.2 in /usr/local/lib/python3.8/dist-packages (from spacy~=3.2.1->clayrs==0.4.0) (3.0.8)\n",
            "Requirement already satisfied: jinja2 in /usr/local/lib/python3.8/dist-packages (from spacy~=3.2.1->clayrs==0.4.0) (3.1.2)\n",
            "Requirement already satisfied: murmurhash<1.1.0,>=0.28.0 in /usr/local/lib/python3.8/dist-packages (from spacy~=3.2.1->clayrs==0.4.0) (1.0.9)\n",
            "Requirement already satisfied: setuptools in /usr/local/lib/python3.8/dist-packages (from spacy~=3.2.1->clayrs==0.4.0) (57.4.0)\n",
            "Requirement already satisfied: wasabi<1.1.0,>=0.8.1 in /usr/local/lib/python3.8/dist-packages (from spacy~=3.2.1->clayrs==0.4.0) (0.10.1)\n",
            "Requirement already satisfied: spacy-loggers<2.0.0,>=1.0.0 in /usr/local/lib/python3.8/dist-packages (from spacy~=3.2.1->clayrs==0.4.0) (1.0.4)\n",
            "Collecting rdflib>=4.0\n",
            "  Downloading rdflib-6.2.0-py3-none-any.whl (500 kB)\n",
            "\u001b[2K     \u001b[90m━━━━━━━━━━━━━━━━━━━━━━━━━━━━━━━━━━━━━━\u001b[0m \u001b[32m500.3/500.3 KB\u001b[0m \u001b[31m49.9 MB/s\u001b[0m eta \u001b[36m0:00:00\u001b[0m\n",
            "\u001b[?25hCollecting huggingface-hub\n",
            "  Downloading huggingface_hub-0.12.1-py3-none-any.whl (190 kB)\n",
            "\u001b[2K     \u001b[90m━━━━━━━━━━━━━━━━━━━━━━━━━━━━━━━━━━━━━━\u001b[0m \u001b[32m190.3/190.3 KB\u001b[0m \u001b[31m23.6 MB/s\u001b[0m eta \u001b[36m0:00:00\u001b[0m\n",
            "\u001b[?25hRequirement already satisfied: typing-extensions in /usr/local/lib/python3.8/dist-packages (from torch~=1.13.0->clayrs==0.4.0) (4.5.0)\n",
            "Requirement already satisfied: filelock in /usr/local/lib/python3.8/dist-packages (from transformers~=4.15.0->clayrs==0.4.0) (3.9.0)\n",
            "Collecting sacremoses\n",
            "  Downloading sacremoses-0.0.53.tar.gz (880 kB)\n",
            "\u001b[2K     \u001b[90m━━━━━━━━━━━━━━━━━━━━━━━━━━━━━━━━━━━━━━\u001b[0m \u001b[32m880.6/880.6 KB\u001b[0m \u001b[31m62.4 MB/s\u001b[0m eta \u001b[36m0:00:00\u001b[0m\n",
            "\u001b[?25h  Preparing metadata (setup.py) ... \u001b[?25l\u001b[?25hdone\n",
            "Collecting tokenizers<0.11,>=0.10.1\n",
            "  Downloading tokenizers-0.10.3-cp38-cp38-manylinux_2_5_x86_64.manylinux1_x86_64.manylinux_2_12_x86_64.manylinux2010_x86_64.whl (3.3 MB)\n",
            "\u001b[2K     \u001b[90m━━━━━━━━━━━━━━━━━━━━━━━━━━━━━━━━━━━━━━━━\u001b[0m \u001b[32m3.3/3.3 MB\u001b[0m \u001b[31m77.6 MB/s\u001b[0m eta \u001b[36m0:00:00\u001b[0m\n",
            "\u001b[?25hRequirement already satisfied: decorator>=3.4.0 in /usr/local/lib/python3.8/dist-packages (from validators~=0.20.0->clayrs==0.4.0) (4.4.2)\n",
            "Collecting isodate\n",
            "  Downloading isodate-0.6.1-py2.py3-none-any.whl (41 kB)\n",
            "\u001b[2K     \u001b[90m━━━━━━━━━━━━━━━━━━━━━━━━━━━━━━━━━━━━━━━━\u001b[0m \u001b[32m41.7/41.7 KB\u001b[0m \u001b[31m5.5 MB/s\u001b[0m eta \u001b[36m0:00:00\u001b[0m\n",
            "\u001b[?25hRequirement already satisfied: wcwidth>=0.2.5 in /usr/local/lib/python3.8/dist-packages (from ftfy->ekphrasis~=0.5.4->clayrs==0.4.0) (0.2.6)\n",
            "Requirement already satisfied: MarkupSafe>=2.0 in /usr/local/lib/python3.8/dist-packages (from jinja2->spacy~=3.2.1->clayrs==0.4.0) (2.1.2)\n",
            "Building wheels for collected packages: clayrs, babelpy, wn, PyYAML, sentence-transformers, validators, mysqlclient, sacremoses\n",
            "  Building wheel for clayrs (pyproject.toml) ... \u001b[?25l\u001b[?25hdone\n",
            "  Created wheel for clayrs: filename=clayrs-0.4.0-py3-none-any.whl size=375720 sha256=830cf468f5dae4a770802200b423fa2fe9288ae0fec82617011bd34473c46b52\n",
            "  Stored in directory: /tmp/pip-ephem-wheel-cache-n4nfnxwi/wheels/3f/e7/99/cf1e3ff4309b15981e0adf3adb3bfff3c405f74e19a7915289\n",
            "  Building wheel for babelpy (setup.py) ... \u001b[?25l\u001b[?25hdone\n",
            "  Created wheel for babelpy: filename=BabelPy-1.0.1-py3-none-any.whl size=9723 sha256=6f2460ca1be9ae2415d9b4bc0f9917335520578a15d657f51b577364c2140090\n",
            "  Stored in directory: /root/.cache/pip/wheels/67/8f/30/b724e0e8f88e79a32dc7358b52397421d71eac263bdb09e39a\n",
            "  Building wheel for wn (setup.py) ... \u001b[?25l\u001b[?25hdone\n",
            "  Created wheel for wn: filename=wn-0.0.23-py3-none-any.whl size=31792926 sha256=a107eef5d3aa7704fc8c4c129e42aca3fa9958ecac413ec307b0e583d2711c5e\n",
            "  Stored in directory: /root/.cache/pip/wheels/6b/eb/fe/eb7c7be28c29ee90dd9d6f58c116673d0eb07b2d83dfb72a37\n",
            "  Building wheel for PyYAML (setup.py) ... \u001b[?25l\u001b[?25hdone\n",
            "  Created wheel for PyYAML: filename=PyYAML-5.3.1-cp38-cp38-linux_x86_64.whl size=44634 sha256=40e43ab91f7b9fc6d872533084598d01ed839966ddba731b7b7df81e67d286f8\n",
            "  Stored in directory: /root/.cache/pip/wheels/13/90/db/290ab3a34f2ef0b5a0f89235dc2d40fea83e77de84ed2dc05c\n",
            "  Building wheel for sentence-transformers (setup.py) ... \u001b[?25l\u001b[?25hdone\n",
            "  Created wheel for sentence-transformers: filename=sentence_transformers-1.2.1-py3-none-any.whl size=123300 sha256=85ec1826f5bdceaa77980d555ee271ba8027b1cee0fb8f970d0c34a3995dd021\n",
            "  Stored in directory: /root/.cache/pip/wheels/92/e0/93/a0f6582848b87b07fa73c0f1fe2f43b6328fd3171fe852f381\n",
            "  Building wheel for validators (setup.py) ... \u001b[?25l\u001b[?25hdone\n",
            "  Created wheel for validators: filename=validators-0.20.0-py3-none-any.whl size=19581 sha256=65ab38678129366603845b084dfceaf944f357aa0ab9511862bd8879c6475e90\n",
            "  Stored in directory: /root/.cache/pip/wheels/19/09/72/3eb74d236bb48bd0f3c6c3c83e4e0c5bbfcbcad7c6c3539db8\n",
            "  Building wheel for mysqlclient (setup.py) ... \u001b[?25l\u001b[?25hdone\n",
            "  Created wheel for mysqlclient: filename=mysqlclient-2.1.1-cp38-cp38-linux_x86_64.whl size=109201 sha256=1b16df7950f75dd869f7d019b719b500f9e2ea1c36b8bc59960d0119903ca83d\n",
            "  Stored in directory: /root/.cache/pip/wheels/5b/e1/84/a6185eaec318899f59a32d393af7729a0719cd93695d71f9a1\n",
            "  Building wheel for sacremoses (setup.py) ... \u001b[?25l\u001b[?25hdone\n",
            "  Created wheel for sacremoses: filename=sacremoses-0.0.53-py3-none-any.whl size=895260 sha256=9450ab67f3f2637a87cf44d3cbd2ed03545cb0f6cccd813fcbb825aa06e139b5\n",
            "  Stored in directory: /root/.cache/pip/wheels/82/ab/9b/c15899bf659ba74f623ac776e861cf2eb8608c1825ddec66a4\n",
            "Successfully built clayrs babelpy wn PyYAML sentence-transformers validators mysqlclient sacremoses\n",
            "Installing collected packages: wn, whoosh, tokenizers, sentencepiece, babelpy, validators, ujson, typer, tqdm, requests, PyYAML, pydantic, Pillow, numpy, networkx, nest-asyncio, mysqlclient, mysql-connector-python, isodate, ftfy, colorama, sacremoses, rdflib, pyaml, pandas, numpy-indexed, mysql, matplotlib, huggingface-hub, eventkit, transformers, timm, thinc, SPARQLWrapper, scikit-image, pywsd, gensim, ekphrasis, distex, spacy, sentence-transformers, clayrs\n",
            "  Attempting uninstall: typer\n",
            "    Found existing installation: typer 0.7.0\n",
            "    Uninstalling typer-0.7.0:\n",
            "      Successfully uninstalled typer-0.7.0\n",
            "  Attempting uninstall: tqdm\n",
            "    Found existing installation: tqdm 4.64.1\n",
            "    Uninstalling tqdm-4.64.1:\n",
            "      Successfully uninstalled tqdm-4.64.1\n",
            "  Attempting uninstall: requests\n",
            "    Found existing installation: requests 2.25.1\n",
            "    Uninstalling requests-2.25.1:\n",
            "      Successfully uninstalled requests-2.25.1\n",
            "  Attempting uninstall: PyYAML\n",
            "    Found existing installation: PyYAML 6.0\n",
            "    Uninstalling PyYAML-6.0:\n",
            "      Successfully uninstalled PyYAML-6.0\n",
            "  Attempting uninstall: pydantic\n",
            "    Found existing installation: pydantic 1.10.5\n",
            "    Uninstalling pydantic-1.10.5:\n",
            "      Successfully uninstalled pydantic-1.10.5\n",
            "  Attempting uninstall: Pillow\n",
            "    Found existing installation: Pillow 8.4.0\n",
            "    Uninstalling Pillow-8.4.0:\n",
            "      Successfully uninstalled Pillow-8.4.0\n",
            "  Attempting uninstall: numpy\n",
            "    Found existing installation: numpy 1.22.4\n",
            "    Uninstalling numpy-1.22.4:\n",
            "      Successfully uninstalled numpy-1.22.4\n",
            "  Attempting uninstall: networkx\n",
            "    Found existing installation: networkx 3.0\n",
            "    Uninstalling networkx-3.0:\n",
            "      Successfully uninstalled networkx-3.0\n",
            "  Attempting uninstall: pandas\n",
            "    Found existing installation: pandas 1.3.5\n",
            "    Uninstalling pandas-1.3.5:\n",
            "      Successfully uninstalled pandas-1.3.5\n",
            "  Attempting uninstall: matplotlib\n",
            "    Found existing installation: matplotlib 3.5.3\n",
            "    Uninstalling matplotlib-3.5.3:\n",
            "      Successfully uninstalled matplotlib-3.5.3\n",
            "  Attempting uninstall: thinc\n",
            "    Found existing installation: thinc 8.1.7\n",
            "    Uninstalling thinc-8.1.7:\n",
            "      Successfully uninstalled thinc-8.1.7\n",
            "  Attempting uninstall: scikit-image\n",
            "    Found existing installation: scikit-image 0.18.3\n",
            "    Uninstalling scikit-image-0.18.3:\n",
            "      Successfully uninstalled scikit-image-0.18.3\n",
            "  Attempting uninstall: gensim\n",
            "    Found existing installation: gensim 3.6.0\n",
            "    Uninstalling gensim-3.6.0:\n",
            "      Successfully uninstalled gensim-3.6.0\n",
            "  Attempting uninstall: spacy\n",
            "    Found existing installation: spacy 3.4.4\n",
            "    Uninstalling spacy-3.4.4:\n",
            "      Successfully uninstalled spacy-3.4.4\n",
            "\u001b[31mERROR: pip's dependency resolver does not currently take into account all the packages that are installed. This behaviour is the source of the following dependency conflicts.\n",
            "xarray 2022.12.0 requires pandas>=1.3, but you have pandas 1.2.5 which is incompatible.\n",
            "en-core-web-sm 3.4.1 requires spacy<3.5.0,>=3.4.0, but you have spacy 3.2.5 which is incompatible.\u001b[0m\u001b[31m\n",
            "\u001b[0mSuccessfully installed Pillow-9.4.0 PyYAML-5.3.1 SPARQLWrapper-1.8.5 babelpy-1.0.1 clayrs-0.4.0 colorama-0.4.6 distex-0.7.2 ekphrasis-0.5.4 eventkit-1.0.0 ftfy-6.1.1 gensim-4.1.2 huggingface-hub-0.12.1 isodate-0.6.1 matplotlib-3.2.2 mysql-0.0.3 mysql-connector-python-8.0.32 mysqlclient-2.1.1 nest-asyncio-1.5.6 networkx-2.6.3 numpy-1.21.6 numpy-indexed-0.3.7 pandas-1.2.5 pyaml-21.10.1 pydantic-1.8.2 pywsd-1.2.5 rdflib-6.2.0 requests-2.28.2 sacremoses-0.0.53 scikit-image-0.19.3 sentence-transformers-1.2.1 sentencepiece-0.1.97 spacy-3.2.5 thinc-8.0.17 timm-0.6.12 tokenizers-0.10.3 tqdm-4.62.3 transformers-4.15.0 typer-0.4.2 ujson-5.7.0 validators-0.20.0 whoosh-2.7.4 wn-0.0.23\n"
          ]
        }
      ]
    },
    {
      "cell_type": "markdown",
      "metadata": {
        "id": "G1MOZctwVyW5"
      },
      "source": [
        "# **! RESTART RUNTIME !**"
      ]
    },
    {
      "cell_type": "markdown",
      "metadata": {
        "id": "VTZB50Y3rN-8"
      },
      "source": [
        "# Correct order log and prints for IPython\n",
        "This is necessary only for IPython environments (Colab, Jupyter, etc.), since they mess up the order of  ```print``` and ```logging```\n",
        "\n",
        "```python\n",
        "# EXAMPLE of the issue\n",
        ">>> import logging\n",
        ">>> print(\"Should go first\")\n",
        ">>> logging.warning(\"Should go second\")\n",
        "WARNING:root:Should go second\n",
        "Should go first\n",
        "```\n",
        "\n"
      ]
    },
    {
      "cell_type": "code",
      "metadata": {
        "id": "GOTUezxnqzn7"
      },
      "source": [
        "import functools\n",
        "print = functools.partial(print, flush=True)"
      ],
      "execution_count": 1,
      "outputs": []
    },
    {
      "cell_type": "markdown",
      "metadata": {
        "id": "uVKotTbvf_rC"
      },
      "source": [
        "# Import and datasets download\n",
        "\n",
        "The framework is made of three modules:\n",
        "> 1.   Content Analyzer\n",
        "> 2.   Recommender System\n",
        "> 3.   Evaluation\n",
        "\n",
        "We import every module as a library and use classes and methods by using the dot notation:"
      ]
    },
    {
      "cell_type": "code",
      "metadata": {
        "id": "SctkIBio9dhe"
      },
      "source": [
        "from clayrs import content_analyzer as ca\n",
        "from clayrs import recsys as rs\n",
        "from clayrs import evaluation as eva\n",
        "\n",
        "# Usage:\n",
        "# ...\n",
        "# ca.Ratings()\n",
        "# rs.ContentBasedRS()\n",
        "# eva.EvalModel()\n",
        "# ..."
      ],
      "execution_count": 2,
      "outputs": []
    },
    {
      "cell_type": "markdown",
      "metadata": {
        "id": "zYjcSfTtCXEw"
      },
      "source": [
        "We use **Movielens 100k** as dataset, with items info expanded thanks to imdb\n",
        "\n"
      ]
    },
    {
      "cell_type": "code",
      "metadata": {
        "id": "HwEnaPj4pvCS",
        "colab": {
          "base_uri": "https://localhost:8080/"
        },
        "outputId": "f265d6f1-e79a-4679-c0b6-167af624b139"
      },
      "source": [
        "# Dataset: Movielens-100k\n",
        "\n",
        "# download items_info\n",
        "! wget https://raw.githubusercontent.com/swapUniba/clayrs/master/datasets/ml-100k/items_info.json\n",
        "\n",
        "# download users_info\n",
        "! wget https://raw.githubusercontent.com/swapUniba/clayrs/master/datasets/ml-100k/users_info.csv\n",
        "\n",
        "# download ratings\n",
        "! wget https://raw.githubusercontent.com/swapUniba/clayrs/master/datasets/ml-100k/ratings.csv"
      ],
      "execution_count": 3,
      "outputs": [
        {
          "output_type": "stream",
          "name": "stdout",
          "text": [
            "--2023-02-28 21:05:57--  https://raw.githubusercontent.com/swapUniba/clayrs/master/datasets/ml-100k/items_info.json\n",
            "Resolving raw.githubusercontent.com (raw.githubusercontent.com)... 185.199.108.133, 185.199.109.133, 185.199.110.133, ...\n",
            "Connecting to raw.githubusercontent.com (raw.githubusercontent.com)|185.199.108.133|:443... connected.\n",
            "HTTP request sent, awaiting response... 200 OK\n",
            "Length: 2222967 (2.1M) [text/plain]\n",
            "Saving to: ‘items_info.json’\n",
            "\n",
            "\ritems_info.json       0%[                    ]       0  --.-KB/s               \ritems_info.json     100%[===================>]   2.12M  --.-KB/s    in 0.02s   \n",
            "\n",
            "2023-02-28 21:05:57 (112 MB/s) - ‘items_info.json’ saved [2222967/2222967]\n",
            "\n",
            "--2023-02-28 21:05:57--  https://raw.githubusercontent.com/swapUniba/clayrs/master/datasets/ml-100k/users_info.csv\n",
            "Resolving raw.githubusercontent.com (raw.githubusercontent.com)... 185.199.108.133, 185.199.109.133, 185.199.110.133, ...\n",
            "Connecting to raw.githubusercontent.com (raw.githubusercontent.com)|185.199.108.133|:443... connected.\n",
            "HTTP request sent, awaiting response... 200 OK\n",
            "Length: 22667 (22K) [text/plain]\n",
            "Saving to: ‘users_info.csv’\n",
            "\n",
            "users_info.csv      100%[===================>]  22.14K  --.-KB/s    in 0s      \n",
            "\n",
            "2023-02-28 21:05:58 (72.2 MB/s) - ‘users_info.csv’ saved [22667/22667]\n",
            "\n",
            "--2023-02-28 21:05:58--  https://raw.githubusercontent.com/swapUniba/clayrs/master/datasets/ml-100k/ratings.csv\n",
            "Resolving raw.githubusercontent.com (raw.githubusercontent.com)... 185.199.108.133, 185.199.109.133, 185.199.110.133, ...\n",
            "Connecting to raw.githubusercontent.com (raw.githubusercontent.com)|185.199.108.133|:443... connected.\n",
            "HTTP request sent, awaiting response... 200 OK\n",
            "Length: 1979206 (1.9M) [text/plain]\n",
            "Saving to: ‘ratings.csv’\n",
            "\n",
            "ratings.csv         100%[===================>]   1.89M  --.-KB/s    in 0.01s   \n",
            "\n",
            "2023-02-28 21:05:58 (148 MB/s) - ‘ratings.csv’ saved [1979206/1979206]\n",
            "\n"
          ]
        }
      ]
    },
    {
      "cell_type": "markdown",
      "metadata": {
        "id": "EBOImtHzxTlQ"
      },
      "source": [
        "### Check items file\n",
        "In this example, the file containing items info is a JSON where every entry corresponds to a movie.\n",
        "\n",
        "For every movie there are various information, such as *genres, directors, cast, etc.*"
      ]
    },
    {
      "cell_type": "code",
      "metadata": {
        "colab": {
          "base_uri": "https://localhost:8080/"
        },
        "id": "eAMUA6B6wSje",
        "outputId": "30afea3b-ccc8-4fe3-8cee-1a15b08e875b"
      },
      "source": [
        "with open(\"items_info.json\", \"r\") as f:\n",
        "  # 25 lines but in these 23 lines there are only 2 entries:\n",
        "  # 'Toy Story', and 'Golden Eye'\n",
        "  for _ in range(25):\n",
        "    print(f.readline(), end='')\n"
      ],
      "execution_count": 4,
      "outputs": [
        {
          "output_type": "stream",
          "name": "stdout",
          "text": [
            "[\n",
            "    {\n",
            "        \"movielens_id\": \"1\",\n",
            "        \"imdb_id\": \"0114709\",\n",
            "        \"title\": \"Toy Story\",\n",
            "        \"plot\": \"A cowboy doll is profoundly threatened and jealous when a new spaceman figure supplants him as top toy in a boy's room.\",\n",
            "        \"genres\": \"Animation, Adventure, Comedy, Family, Fantasy\",\n",
            "        \"year\": \"1995\",\n",
            "        \"rating\": \"8.3\",\n",
            "        \"directors\": \"John Lasseter\",\n",
            "        \"cast\": \"Tom Hanks, Tim Allen, Don Rickles, Jim Varney, Wallace Shawn, John Ratzenberger, Annie Potts, John Morris, Erik von Detten, Laurie Metcalf, R. Lee Ermey, Sarah Rayne, Penn Jillette, Jack Angel, Spencer Aste, Greg Berg, Lisa Bradley, Kendall Cunningham, Debi Derryberry, Cody Dorkin, Bill Farmer, Craig Good, Gregory Grudt, Danielle Judovits, Sam Lasseter, Brittany Levenbrown, Sherry Lynn, Scott McAfee, Mickie McGowan, Ryan O'Donohue, Jeff Pidgeon, Patrick Pinney, Phil Proctor, Jan Rabson, Joe Ranft, Andrew Stanton, Shane Sweet, Wayne Allwine, Tony Anselmo, Jonathan Benair, Anthony Burch, John Lasseter, Billy West\",\n",
            "        \"dbpedia_uri\": \"http://dbpedia.org/resource/Toy_Story\",\n",
            "        \"dbpedia_label\": \"Toy Story\"\n",
            "    },\n",
            "    {\n",
            "        \"movielens_id\": \"2\",\n",
            "        \"imdb_id\": \"0113189\",\n",
            "        \"title\": \"GoldenEye\",\n",
            "        \"plot\": \"Years after a friend and fellow 00 agent is killed on a joint mission, a secret space based weapons program known as \\\"_GoldenEye_ (qv)\\\" is stolen. James Bond sets out to stop a Russian crime syndicate from using the weapon.\",\n",
            "        \"genres\": \"Action, Adventure, Thriller\",\n",
            "        \"year\": \"1995\",\n",
            "        \"rating\": \"7.2\",\n",
            "        \"directors\": \"Martin Campbell\",\n",
            "        \"cast\": \"Pierce Brosnan, Sean Bean, Izabella Scorupco, Famke Janssen, Joe Don Baker, Judi Dench, Robbie Coltrane, Tchéky Karyo, Gottfried John, Alan Cumming, Desmond Llewelyn, Samantha Bond, Michael Kitchen, Serena Gordon, Simon Kunz, Pavel Douglas, Olivier Lajous, Billy J. Mitchell, Constantine Gregory, Minnie Driver, Michelle Arthur, Ravil Isyanov, Vladimir Milanovich, Trevor Byfield, Peter Majer, Paul Bannon, Simone Bechtel, Martin Campbell, Mark Chapman, Kenneth Coombs, Simon Crane, Terrance Denville, Ian Durrant, Max Faulkner, Juliet Forester, Stefan Kopiecki, Jo Anna Lee, Derek Lyons, Wayne Michaels, Bhasker Patel, Paul Sacks, Michael G. Wilson\",\n",
            "        \"dbpedia_uri\": \"http://dbpedia.org/resource/GoldenEye\",\n"
          ]
        }
      ]
    },
    {
      "cell_type": "markdown",
      "metadata": {
        "id": "NrGycV8NxkwF"
      },
      "source": [
        "### Check users file\n",
        "In this example, the file containing users info is a CSV file where the first column is the *user id*, while the other columns are side information for that user (*gender, occupation, zip code*)"
      ]
    },
    {
      "cell_type": "code",
      "metadata": {
        "colab": {
          "base_uri": "https://localhost:8080/"
        },
        "id": "vUKLNAnMxEnh",
        "outputId": "e6e8e12f-f662-45cb-e121-2bf643ccb39e"
      },
      "source": [
        "with open(\"users_info.csv\", \"r\") as f:\n",
        "\n",
        "  # print the header and the first 2 entries\n",
        "  for _ in range(3):\n",
        "    print(f.readline(), end='')"
      ],
      "execution_count": 5,
      "outputs": [
        {
          "output_type": "stream",
          "name": "stdout",
          "text": [
            "user_id,age,gender,occupation,zip_code\n",
            "1,24,M,technician,85711\n",
            "2,53,F,other,94043\n"
          ]
        }
      ]
    },
    {
      "cell_type": "markdown",
      "metadata": {
        "id": "dteEOqLxkDGR"
      },
      "source": [
        "<a name=\"cell-id\"></a>\n",
        "### Check ratings\n",
        "In this example, the file containing the interactions between the users and the movies is a CSV, where every interaction is a rating in the **[1, 5]** Likert scale"
      ]
    },
    {
      "cell_type": "code",
      "metadata": {
        "colab": {
          "base_uri": "https://localhost:8080/",
          "height": 423
        },
        "id": "Q3FvQsaIkbtz",
        "outputId": "69243bbc-2431-429e-bc52-6b42f5cf4bd8"
      },
      "source": [
        "import pandas as pd\n",
        "\n",
        "pd.read_csv('ratings.csv')"
      ],
      "execution_count": 6,
      "outputs": [
        {
          "output_type": "execute_result",
          "data": {
            "text/plain": [
              "       user_id  item_id  rating  timestamp\n",
              "0          196      242       3  881250949\n",
              "1          186      302       3  891717742\n",
              "2           22      377       1  878887116\n",
              "3          244       51       2  880606923\n",
              "4          166      346       1  886397596\n",
              "...        ...      ...     ...        ...\n",
              "99995      880      476       3  880175444\n",
              "99996      716      204       5  879795543\n",
              "99997      276     1090       1  874795795\n",
              "99998       13      225       2  882399156\n",
              "99999       12      203       3  879959583\n",
              "\n",
              "[100000 rows x 4 columns]"
            ],
            "text/html": [
              "\n",
              "  <div id=\"df-b6c106c7-01c9-4ada-9237-f6a6e7a9009c\">\n",
              "    <div class=\"colab-df-container\">\n",
              "      <div>\n",
              "<style scoped>\n",
              "    .dataframe tbody tr th:only-of-type {\n",
              "        vertical-align: middle;\n",
              "    }\n",
              "\n",
              "    .dataframe tbody tr th {\n",
              "        vertical-align: top;\n",
              "    }\n",
              "\n",
              "    .dataframe thead th {\n",
              "        text-align: right;\n",
              "    }\n",
              "</style>\n",
              "<table border=\"1\" class=\"dataframe\">\n",
              "  <thead>\n",
              "    <tr style=\"text-align: right;\">\n",
              "      <th></th>\n",
              "      <th>user_id</th>\n",
              "      <th>item_id</th>\n",
              "      <th>rating</th>\n",
              "      <th>timestamp</th>\n",
              "    </tr>\n",
              "  </thead>\n",
              "  <tbody>\n",
              "    <tr>\n",
              "      <th>0</th>\n",
              "      <td>196</td>\n",
              "      <td>242</td>\n",
              "      <td>3</td>\n",
              "      <td>881250949</td>\n",
              "    </tr>\n",
              "    <tr>\n",
              "      <th>1</th>\n",
              "      <td>186</td>\n",
              "      <td>302</td>\n",
              "      <td>3</td>\n",
              "      <td>891717742</td>\n",
              "    </tr>\n",
              "    <tr>\n",
              "      <th>2</th>\n",
              "      <td>22</td>\n",
              "      <td>377</td>\n",
              "      <td>1</td>\n",
              "      <td>878887116</td>\n",
              "    </tr>\n",
              "    <tr>\n",
              "      <th>3</th>\n",
              "      <td>244</td>\n",
              "      <td>51</td>\n",
              "      <td>2</td>\n",
              "      <td>880606923</td>\n",
              "    </tr>\n",
              "    <tr>\n",
              "      <th>4</th>\n",
              "      <td>166</td>\n",
              "      <td>346</td>\n",
              "      <td>1</td>\n",
              "      <td>886397596</td>\n",
              "    </tr>\n",
              "    <tr>\n",
              "      <th>...</th>\n",
              "      <td>...</td>\n",
              "      <td>...</td>\n",
              "      <td>...</td>\n",
              "      <td>...</td>\n",
              "    </tr>\n",
              "    <tr>\n",
              "      <th>99995</th>\n",
              "      <td>880</td>\n",
              "      <td>476</td>\n",
              "      <td>3</td>\n",
              "      <td>880175444</td>\n",
              "    </tr>\n",
              "    <tr>\n",
              "      <th>99996</th>\n",
              "      <td>716</td>\n",
              "      <td>204</td>\n",
              "      <td>5</td>\n",
              "      <td>879795543</td>\n",
              "    </tr>\n",
              "    <tr>\n",
              "      <th>99997</th>\n",
              "      <td>276</td>\n",
              "      <td>1090</td>\n",
              "      <td>1</td>\n",
              "      <td>874795795</td>\n",
              "    </tr>\n",
              "    <tr>\n",
              "      <th>99998</th>\n",
              "      <td>13</td>\n",
              "      <td>225</td>\n",
              "      <td>2</td>\n",
              "      <td>882399156</td>\n",
              "    </tr>\n",
              "    <tr>\n",
              "      <th>99999</th>\n",
              "      <td>12</td>\n",
              "      <td>203</td>\n",
              "      <td>3</td>\n",
              "      <td>879959583</td>\n",
              "    </tr>\n",
              "  </tbody>\n",
              "</table>\n",
              "<p>100000 rows × 4 columns</p>\n",
              "</div>\n",
              "      <button class=\"colab-df-convert\" onclick=\"convertToInteractive('df-b6c106c7-01c9-4ada-9237-f6a6e7a9009c')\"\n",
              "              title=\"Convert this dataframe to an interactive table.\"\n",
              "              style=\"display:none;\">\n",
              "        \n",
              "  <svg xmlns=\"http://www.w3.org/2000/svg\" height=\"24px\"viewBox=\"0 0 24 24\"\n",
              "       width=\"24px\">\n",
              "    <path d=\"M0 0h24v24H0V0z\" fill=\"none\"/>\n",
              "    <path d=\"M18.56 5.44l.94 2.06.94-2.06 2.06-.94-2.06-.94-.94-2.06-.94 2.06-2.06.94zm-11 1L8.5 8.5l.94-2.06 2.06-.94-2.06-.94L8.5 2.5l-.94 2.06-2.06.94zm10 10l.94 2.06.94-2.06 2.06-.94-2.06-.94-.94-2.06-.94 2.06-2.06.94z\"/><path d=\"M17.41 7.96l-1.37-1.37c-.4-.4-.92-.59-1.43-.59-.52 0-1.04.2-1.43.59L10.3 9.45l-7.72 7.72c-.78.78-.78 2.05 0 2.83L4 21.41c.39.39.9.59 1.41.59.51 0 1.02-.2 1.41-.59l7.78-7.78 2.81-2.81c.8-.78.8-2.07 0-2.86zM5.41 20L4 18.59l7.72-7.72 1.47 1.35L5.41 20z\"/>\n",
              "  </svg>\n",
              "      </button>\n",
              "      \n",
              "  <style>\n",
              "    .colab-df-container {\n",
              "      display:flex;\n",
              "      flex-wrap:wrap;\n",
              "      gap: 12px;\n",
              "    }\n",
              "\n",
              "    .colab-df-convert {\n",
              "      background-color: #E8F0FE;\n",
              "      border: none;\n",
              "      border-radius: 50%;\n",
              "      cursor: pointer;\n",
              "      display: none;\n",
              "      fill: #1967D2;\n",
              "      height: 32px;\n",
              "      padding: 0 0 0 0;\n",
              "      width: 32px;\n",
              "    }\n",
              "\n",
              "    .colab-df-convert:hover {\n",
              "      background-color: #E2EBFA;\n",
              "      box-shadow: 0px 1px 2px rgba(60, 64, 67, 0.3), 0px 1px 3px 1px rgba(60, 64, 67, 0.15);\n",
              "      fill: #174EA6;\n",
              "    }\n",
              "\n",
              "    [theme=dark] .colab-df-convert {\n",
              "      background-color: #3B4455;\n",
              "      fill: #D2E3FC;\n",
              "    }\n",
              "\n",
              "    [theme=dark] .colab-df-convert:hover {\n",
              "      background-color: #434B5C;\n",
              "      box-shadow: 0px 1px 3px 1px rgba(0, 0, 0, 0.15);\n",
              "      filter: drop-shadow(0px 1px 2px rgba(0, 0, 0, 0.3));\n",
              "      fill: #FFFFFF;\n",
              "    }\n",
              "  </style>\n",
              "\n",
              "      <script>\n",
              "        const buttonEl =\n",
              "          document.querySelector('#df-b6c106c7-01c9-4ada-9237-f6a6e7a9009c button.colab-df-convert');\n",
              "        buttonEl.style.display =\n",
              "          google.colab.kernel.accessAllowed ? 'block' : 'none';\n",
              "\n",
              "        async function convertToInteractive(key) {\n",
              "          const element = document.querySelector('#df-b6c106c7-01c9-4ada-9237-f6a6e7a9009c');\n",
              "          const dataTable =\n",
              "            await google.colab.kernel.invokeFunction('convertToInteractive',\n",
              "                                                     [key], {});\n",
              "          if (!dataTable) return;\n",
              "\n",
              "          const docLinkHtml = 'Like what you see? Visit the ' +\n",
              "            '<a target=\"_blank\" href=https://colab.research.google.com/notebooks/data_table.ipynb>data table notebook</a>'\n",
              "            + ' to learn more about interactive tables.';\n",
              "          element.innerHTML = '';\n",
              "          dataTable['output_type'] = 'display_data';\n",
              "          await google.colab.output.renderOutput(dataTable, element);\n",
              "          const docLink = document.createElement('div');\n",
              "          docLink.innerHTML = docLinkHtml;\n",
              "          element.appendChild(docLink);\n",
              "        }\n",
              "      </script>\n",
              "    </div>\n",
              "  </div>\n",
              "  "
            ]
          },
          "metadata": {},
          "execution_count": 6
        }
      ]
    },
    {
      "cell_type": "markdown",
      "metadata": {
        "id": "ilGpvNnPgHay"
      },
      "source": [
        "# Content Analyzer: representation of Items\n",
        "In order to define the *item representation*, the following parameters should be defined:\n",
        "*   ***source***: the path of the file containing items info\n",
        "*   ***id***: the field that uniquely identifies an item\n",
        "*   ***output_directory***: the path where serialized representations are saved\n",
        "\n"
      ]
    },
    {
      "cell_type": "code",
      "metadata": {
        "id": "gORk6J3wqJGB"
      },
      "source": [
        "# Configuration of item representation\n",
        "movies_ca_config = ca.ItemAnalyzerConfig(\n",
        "    source=ca.JSONFile('items_info.json'),\n",
        "    id='movielens_id',\n",
        "    output_directory='movies_codified/',\n",
        ")"
      ],
      "execution_count": 7,
      "outputs": []
    },
    {
      "cell_type": "markdown",
      "metadata": {
        "id": "YfnkSpfTjuDq"
      },
      "source": [
        "<a name=\"ca_id\"></a>\n",
        "Each item can be represented using a set of fields.\n",
        "Every field can be **represented** using several techniques, such as *'tfidf'*, *'entity linking'*, *'embeddings'*, etc.\n",
        "\n",
        "It is possible to process the content of each field using a **Natural Language Processing (NLP) pipeline**. \n",
        "\n",
        "> In the following example, we **expand** every item by retrieving its properties from **DBPedia**\n"
      ]
    },
    {
      "cell_type": "markdown",
      "metadata": {
        "id": "5J_ayHLdQJxb"
      },
      "source": [
        "In order to do that, we call the `add_single_exogenous()` method *(or `add_multiple_exogenous()` in case of multiple exogenous techniques)* and pass the DBPediaMappingTechnique object:\n",
        "\n",
        "*   The **first parameter** is the entity type of every content (*dbo:Film* in this case). Multiple prefixes such as `rdf`, `rdfs`, `foaf`, `dbo` are imported by default, but if you need another type of entity you can pass its uri directly\\\n",
        "`\n",
        "'dbo:Film' <-EQUIVALENT-> '<http://dbpedia.org/ontology/Film>'\n",
        "`\n",
        "*   The **second parameter** is the field in the raw source which must exactly match the string representation of the *rdfs:label* of the content on DBPedia"
      ]
    },
    {
      "cell_type": "code",
      "metadata": {
        "id": "YA8GfrkrqJ4S"
      },
      "source": [
        "movies_ca_config.add_single_exogenous(\n",
        "    ca.ExogenousConfig(ca.DBPediaMappingTechnique('dbo:Film', 'dbpedia_label'),\n",
        "                       id='dbpedia')\n",
        ")"
      ],
      "execution_count": 8,
      "outputs": []
    },
    {
      "cell_type": "markdown",
      "metadata": {
        "id": "0e24qhQVkXIc"
      },
      "source": [
        "At the end of the configuration step, we provide the configuration to the *'Content Analyzer'* and call the `fit()` method:\n",
        "\n",
        "*   The Content Analyzer will **represent** and **serialize** every item.\n",
        "\n"
      ]
    },
    {
      "cell_type": "code",
      "metadata": {
        "id": "yXU-Vuw2twuN",
        "colab": {
          "base_uri": "https://localhost:8080/"
        },
        "outputId": "8e833319-0bc4-449a-ac2d-b2bf670cb42f"
      },
      "source": [
        "# A little slow (~6 min) since we are querying 1682 items on a public endpoint\n",
        "ca.ContentAnalyzer(config=movies_ca_config).fit()"
      ],
      "execution_count": 9,
      "outputs": [
        {
          "output_type": "stream",
          "name": "stderr",
          "text": [
            "\u001b[39mINFO\u001b[0m - Extracting exogenous properties from DBPedia\n",
            "\u001b[39mINFO\u001b[0m - Contents mapped so far: 523 of 1682 (ideal, tipically less are mapped)\n",
            "\u001b[39mINFO\u001b[0m - Contents mapped so far: 1021 of 1682 (ideal, tipically less are mapped)\n",
            "\u001b[33mWARNING\u001b[0m - Timeout occurred! - 1 out of 5 possible \n",
            "The timeout counter will be reset as soon as the request goes through\n",
            "\u001b[39mINFO\u001b[0m - Contents mapped so far: 1450 of 1682 (ideal, tipically less are mapped)\n",
            "\u001b[39mINFO\u001b[0m - Contents mapped so far: 1454 of 1682 (ideal, tipically less are mapped)\n",
            "\u001b[39mINFO\u001b[0m - Contents mapped in total: 1454\n",
            "\u001b[39mINFO\u001b[0m - Extracting properties for mapped contents...\n",
            "Serializing contents:  100%|██████████| 1682/1682 [00:03<00:00]\n"
          ]
        }
      ]
    },
    {
      "cell_type": "markdown",
      "metadata": {
        "id": "H_3ff69ZhFj7"
      },
      "source": [
        "# Content Analyzer: representation of Users\n",
        "In order to define the *'user representation'*, we could use the same process performed for *'item representation'*.\n",
        "\n",
        "In this example, the ID for users is the column `user_id`."
      ]
    },
    {
      "cell_type": "code",
      "metadata": {
        "id": "HhwOj4s-uzOk"
      },
      "source": [
        "# Configuration of user representation\n",
        "users_ca_config = ca.UserAnalyzerConfig(\n",
        "    ca.CSVFile('users_info.csv'),\n",
        "    id='user_id',\n",
        "    output_directory='users_codified/',\n",
        ")"
      ],
      "execution_count": 10,
      "outputs": []
    },
    {
      "cell_type": "markdown",
      "metadata": {
        "id": "GiXKJI9sZTX1"
      },
      "source": [
        "Also users can be represented with additional exogenous information.\n",
        "\n",
        "`PropertiesFromDataset()` object allows to specify which fields to use in order to expand every user info\n",
        "\n",
        "*   If no field is specified, **all fields** from the raw source will be used\n",
        "\n",
        "> In this case, we expand every user with *gender* and *occupation*"
      ]
    },
    {
      "cell_type": "code",
      "metadata": {
        "id": "hAFFM6oNZS61",
        "colab": {
          "base_uri": "https://localhost:8080/"
        },
        "outputId": "efb52a46-80c5-42e0-e9c6-de9ccfb526ff"
      },
      "source": [
        "users_ca_config.add_single_exogenous(\n",
        "    ca.ExogenousConfig(ca.PropertiesFromDataset(field_name_list=['gender', 'occupation']))\n",
        ")\n",
        "\n",
        "# Call the fit() method to create and serialize every user\n",
        "ca.ContentAnalyzer(config=users_ca_config).fit()"
      ],
      "execution_count": 11,
      "outputs": [
        {
          "output_type": "stream",
          "name": "stderr",
          "text": [
            "\u001b[39mINFO\u001b[0m - Extracting exogenous properties from local dataset\n",
            "Serializing contents:  100%|██████████| 943/943 [00:01<00:00]\n"
          ]
        }
      ]
    },
    {
      "cell_type": "markdown",
      "metadata": {
        "id": "dr0qljcRhpW6"
      },
      "source": [
        "# Recommender System: Personalized Pagerank "
      ]
    },
    {
      "cell_type": "markdown",
      "metadata": {
        "id": "Ms6kU0TEr_ps"
      },
      "source": [
        "The Recommender System module needs information about users, items and ratings. \n",
        "\n",
        "The **Ratings** class allows you to import rating from a source file (or also from an existent dataframe) into a custom object.   **If** the source file contains users (U), items (I) and ratings (R) in this order, no additional parameters are needed, **otherwise**  the mapping must be explictly specified using:\n",
        "\n",
        "*   **'user_id'** column,\n",
        "*   **'item_id'** column,\n",
        "*   **'score'** column\n",
        "\n",
        "\n",
        "\n"
      ]
    },
    {
      "cell_type": "code",
      "metadata": {
        "colab": {
          "base_uri": "https://localhost:8080/"
        },
        "id": "XjxZ9yTnvVW-",
        "outputId": "33dd014e-a225-40f0-945c-7d0dcfa72bb6"
      },
      "source": [
        "ratings = ca.Ratings(ca.CSVFile('ratings.csv'))\n",
        "\n",
        "print(ratings)"
      ],
      "execution_count": 12,
      "outputs": [
        {
          "output_type": "stream",
          "name": "stderr",
          "text": [
            "Importing ratings:  100%|██████████| 100000/100000 [00:00<00:00]\n"
          ]
        },
        {
          "output_type": "stream",
          "name": "stdout",
          "text": [
            "      user_id item_id  score\n",
            "0         196     242    3.0\n",
            "1         186     302    3.0\n",
            "2          22     377    1.0\n",
            "3         244      51    2.0\n",
            "4         166     346    1.0\n",
            "...       ...     ...    ...\n",
            "99995     880     476    3.0\n",
            "99996     716     204    5.0\n",
            "99997     276    1090    1.0\n",
            "99998      13     225    2.0\n",
            "99999      12     203    3.0\n",
            "\n",
            "[100000 rows x 3 columns]\n"
          ]
        }
      ]
    },
    {
      "cell_type": "code",
      "metadata": {
        "id": "1SfXQx4y01u7"
      },
      "source": [
        "# (mapping by index) EQUIVALENT:\n",
        "#\n",
        "# ratings = ca.Ratings(\n",
        "#     ca.CSVFile('ratings.csv'),\n",
        "#     user_id_column=0,\n",
        "#     item_id_column=1,\n",
        "#     score_column=2\n",
        "# )"
      ],
      "execution_count": null,
      "outputs": []
    },
    {
      "cell_type": "code",
      "metadata": {
        "id": "Ww9kKa3608pK"
      },
      "source": [
        "# (mapping by column name) EQUIVALENT:\n",
        "\n",
        "# ratings = ca.Ratings(\n",
        "#     ca.CSVFile('ratings.csv'),\n",
        "#     user_id_column='user_id',\n",
        "#     item_id_column='item_id',\n",
        "#     score_column='rating'\n",
        "# )"
      ],
      "execution_count": null,
      "outputs": []
    },
    {
      "cell_type": "markdown",
      "metadata": {
        "id": "lfwhYnzxLZT2"
      },
      "source": [
        "Ratings imported are used to create a **Full Graph** where property nodes (e.g. *gender* for users, *budget* for movies) can be linked to every node without any restriction\n",
        "\n",
        "> The framework also allows to create a **Bipartite Graph** (a graph without property node) and a **Tripartite Graph** (where property nodes are only linked to item nodes)\n",
        "\n",
        "In order to load properties in the graph, we must specify where users and items are serialized and ***which properties to add*** (the following is the same for *item_exo_properties*):\n",
        "\n",
        "*   If *user_exo_properties* is specified as a **set**, then the graph will try to load **all properties** from **said exogenous representation**\n",
        "```python\n",
        "# example\n",
        "{'my_exo_id'}\n",
        "```\n",
        "\n",
        "*   If *user_exo_properties* is specified as a **dict**, then the graph will try to load **said properties** from **said exogenous representation**\n",
        "```python\n",
        "# example\n",
        "{'my_exo_id': ['my_prop1', 'my_prop2']]}\n",
        "```\n",
        "\n",
        "Let's now create the graph loading all properties from the exogenous representations we created earlier:"
      ]
    },
    {
      "cell_type": "code",
      "source": [
        "full_graph = rs.NXFullGraph(ratings, \n",
        "                            user_contents_dir='users_codified/',\n",
        "                            item_contents_dir='movies_codified/',\n",
        "                            user_exo_properties={0}, # Since no custom id given\n",
        "                            item_exo_properties={'dbpedia'},\n",
        "                            link_label='score')"
      ],
      "metadata": {
        "colab": {
          "base_uri": "https://localhost:8080/"
        },
        "id": "LMEAT-6NBvuB",
        "outputId": "6b6d96a7-d38a-4aba-e66b-1790a7d3d59c"
      },
      "execution_count": 13,
      "outputs": [
        {
          "output_type": "stream",
          "name": "stderr",
          "text": [
            "Creating User->Item links:  100%|██████████| 100000/100000 [00:04<00:00]\n",
            "\u001b[39mINFO\u001b[0m - Loading contents from disk...\n",
            "Creating Node->Properties links:  100%|██████████| 1682/1682 [00:00<00:00]\n",
            "\u001b[39mINFO\u001b[0m - Loading contents from disk...\n",
            "Creating Node->Properties links:  100%|██████████| 943/943 [00:00<00:00]\n"
          ]
        }
      ]
    },
    {
      "cell_type": "markdown",
      "metadata": {
        "id": "Ex2Hh_7ORCjg"
      },
      "source": [
        "The underlying implementation of graphs in the framework uses the **networkx** library: so let's use its methods to draw a subgraph, just to make sure the graph has been created\n",
        "\n",
        "\n",
        "> We draw the the *interaction* between **user 308** and **Item 1** (Toy Story), as well as the *occupation* and *gender* properties of the user and the *runtime* property of the item\n",
        "\n"
      ]
    },
    {
      "cell_type": "code",
      "metadata": {
        "colab": {
          "base_uri": "https://localhost:8080/",
          "height": 607
        },
        "id": "69YOJeT-mb0o",
        "outputId": "16f063f4-bbc3-48b9-f428-f634271f6c49"
      },
      "source": [
        "import networkx as nx\n",
        "import matplotlib.pyplot as plt\n",
        "\n",
        "# convert graph to networkx\n",
        "networkx_graph = full_graph.to_networkx()\n",
        "\n",
        "plt.figure(3,figsize=(8,8)) \n",
        "H = nx.subgraph(networkx_graph, [rs.ItemNode(\"1\"), rs.PropertyNode(\"81.0\"),\n",
        "                                 rs.UserNode(\"308\"), rs.PropertyNode(\"retired\"),\n",
        "                                 rs.PropertyNode(\"M\")])\n",
        "\n",
        "pos = nx.planar_layout(H)\n",
        "\n",
        "nx.draw(H, with_labels=True, font_weight='light', node_color='lightblue', node_size=2500, pos=pos)\n",
        "\n",
        "edge_labels = dict([((n1, n2), (d['label'], d.get('weight')))\n",
        "                    for n1, n2, d in H.edges(data=True)])\n",
        "\n",
        "nx.draw_networkx_edge_labels(H, pos, edge_labels=edge_labels,\n",
        "                             font_color='red', font_size=12, font_weight='normal')\n",
        "\n",
        "plt.show()"
      ],
      "execution_count": 14,
      "outputs": [
        {
          "output_type": "display_data",
          "data": {
            "text/plain": [
              "<Figure size 576x576 with 1 Axes>"
            ],
            "image/png": "[encoded data removed]"
          },
          "metadata": {}
        }
      ]
    },
    {
      "cell_type": "markdown",
      "source": [
        "As you can see each link between nodes has two *attributes* wrapped in a tuple:\n",
        "* The first element is the ***label*** of the link\n",
        "* The second element is the ***weight*** of the link\n",
        "\n",
        "In our case only links between users and items have a weight associated to them\n",
        "* This behaviour can be easily modified when adding new links"
      ],
      "metadata": {
        "id": "hCoGsQMECMBV"
      }
    },
    {
      "cell_type": "markdown",
      "metadata": {
        "id": "O9dYu-H9uUa5"
      },
      "source": [
        "The Recommender System also needs an algorithm for ranking or predicting items to users. In the following example we use the **Personalized PageRank** algorithm.\n"
      ]
    },
    {
      "cell_type": "code",
      "metadata": {
        "id": "GbblAapgmOL6"
      },
      "source": [
        "pr = rs.NXPageRank(personalized=True)"
      ],
      "execution_count": 15,
      "outputs": []
    },
    {
      "cell_type": "markdown",
      "metadata": {
        "id": "CIQtO-Ah1Ty8"
      },
      "source": [
        "The Graph Based Recommender System only needs the recommendation algorithm and the graph. No contents directory is required."
      ]
    },
    {
      "cell_type": "code",
      "metadata": {
        "id": "2z88KA1D1Xni"
      },
      "source": [
        "gbrs = rs.GraphBasedRS(pr, full_graph)"
      ],
      "execution_count": 16,
      "outputs": []
    },
    {
      "cell_type": "markdown",
      "metadata": {
        "id": "3UdiSzE61lIb"
      },
      "source": [
        "It is possible to provide recommendations as a ranked list for a single user:"
      ]
    },
    {
      "cell_type": "code",
      "metadata": {
        "colab": {
          "base_uri": "https://localhost:8080/"
        },
        "id": "Z2IiN_MZ1wGi",
        "outputId": "b3dd3cfa-d079-4d26-a5e6-cb49260dd817"
      },
      "source": [
        "# original ratings as test set since it makes no difference in this case:\n",
        "# with methodology=None all unrated items for user u3 will be computed \n",
        "# except those present in its profile\n",
        "rank = gbrs.rank(ratings, user_list=['3'], n_recs=10, methodology=None)"
      ],
      "execution_count": 17,
      "outputs": [
        {
          "output_type": "stream",
          "name": "stderr",
          "text": [
            "\u001b[39mINFO\u001b[0m - Don't worry if it looks stuck at first\n",
            "\u001b[39mINFO\u001b[0m - First iterations will stabilize the estimated remaining time\n",
            "Computing rank for user 3:  100%|██████████| 1/1 [00:03<00:00]\n"
          ]
        }
      ]
    },
    {
      "cell_type": "code",
      "source": [
        "print(rank)"
      ],
      "metadata": {
        "colab": {
          "base_uri": "https://localhost:8080/"
        },
        "id": "Ge3c7zKGFaSZ",
        "outputId": "d31e67ed-a0ff-41aa-e540-282487d7281a"
      },
      "execution_count": 18,
      "outputs": [
        {
          "output_type": "stream",
          "name": "stdout",
          "text": [
            "  user_id item_id     score\n",
            "0       3     286  0.000103\n",
            "1       3      50  0.000097\n",
            "2       3     313  0.000085\n",
            "3       3     100  0.000083\n",
            "4       3     269  0.000075\n",
            "5       3     127  0.000069\n",
            "6       3       1  0.000068\n",
            "7       3     748  0.000060\n",
            "8       3     237  0.000058\n",
            "9       3     121  0.000055\n"
          ]
        }
      ]
    },
    {
      "cell_type": "markdown",
      "metadata": {
        "id": "5YnoLveI12ql"
      },
      "source": [
        "It is also possible to provide recommendations for a list of users:"
      ]
    },
    {
      "cell_type": "code",
      "metadata": {
        "colab": {
          "base_uri": "https://localhost:8080/"
        },
        "id": "wlv2xyA21zt5",
        "outputId": "5130af0a-385c-4f66-b139-65469604b9ae"
      },
      "source": [
        "# original ratings as test set since it makes no difference in this case:\n",
        "# with methodology=None all unrated items for user u3 will be computed \n",
        "# except those present in its profile\n",
        "multiple_rank = gbrs.rank(ratings, user_list=['8', '2', '1'], n_recs=10,\n",
        "                          methodology=None)"
      ],
      "execution_count": 19,
      "outputs": [
        {
          "output_type": "stream",
          "name": "stderr",
          "text": [
            "\u001b[39mINFO\u001b[0m - Don't worry if it looks stuck at first\n",
            "\u001b[39mINFO\u001b[0m - First iterations will stabilize the estimated remaining time\n",
            "Computing rank for user 1:  100%|██████████| 3/3 [00:05<00:00]\n"
          ]
        }
      ]
    },
    {
      "cell_type": "code",
      "source": [
        "print(multiple_rank)"
      ],
      "metadata": {
        "colab": {
          "base_uri": "https://localhost:8080/"
        },
        "id": "tdANH_GgFqWH",
        "outputId": "69ae8a89-4a59-423e-9bb0-eef61a30e10c"
      },
      "execution_count": 20,
      "outputs": [
        {
          "output_type": "stream",
          "name": "stdout",
          "text": [
            "   user_id item_id     score\n",
            "0        2     181  0.000083\n",
            "1        2     328  0.000067\n",
            "2        2     748  0.000065\n",
            "3        2     333  0.000060\n",
            "4        2     121  0.000060\n",
            "5        2       7  0.000060\n",
            "6        2     117  0.000059\n",
            "7        2     268  0.000057\n",
            "8        2     174  0.000057\n",
            "9        2     222  0.000057\n",
            "10       8     286  0.000104\n",
            "11       8     300  0.000095\n",
            "12       8     288  0.000090\n",
            "13       8     313  0.000086\n",
            "14       8     100  0.000083\n",
            "15       8     269  0.000076\n",
            "16       8     302  0.000073\n",
            "17       8       1  0.000069\n",
            "18       8     328  0.000063\n",
            "19       8     748  0.000061\n",
            "20       1     286  0.000109\n",
            "21       1     300  0.000099\n",
            "22       1     288  0.000095\n",
            "23       1     294  0.000090\n",
            "24       1     313  0.000090\n",
            "25       1     302  0.000076\n",
            "26       1     328  0.000066\n",
            "27       1     748  0.000063\n",
            "28       1     333  0.000058\n",
            "29       1     289  0.000052\n"
          ]
        }
      ]
    },
    {
      "cell_type": "markdown",
      "source": [
        "Now let's build the ranking list for each user with two different methodologies:\n",
        "\n",
        "> For each target user **u**, the following 4 different methodologies are available for defining those lists:\n",
        "1.   **TestRatings** (default): the list of items to be evaluated consists of items rated by u in the test set\n",
        "2.   **TestItems**: every item in the test set of every user except those in the training set of the target user will be predicted\n",
        "3.   **TrainingItems**: every item in the training set of every user will be predicted except those in the training set of the target user\n",
        "4.   **AllItems**: the whole set of items, except those in the training set of the target user, will be predicted\n",
        "\n",
        "More information on [this paper](https://repositorio.uam.es/bitstream/handle/10486/665121/precision-oriented_bellogin_recsys_2011_ps.pdf;jsessionid=85982302D4DA9FF4DD7F21E4AC4F3391?sequence=1).\n",
        "\n",
        "In our example we test the **first** and **third** methodology."
      ],
      "metadata": {
        "id": "PQxtdoKuFveC"
      }
    },
    {
      "cell_type": "markdown",
      "source": [
        "So we first split the original ratings with **HoldOut** method:\n",
        "*   The output of the partition module are two lists. One containing one train set (in this case), the other containing one test set (in this case)"
      ],
      "metadata": {
        "id": "E_AMiwJtHzKQ"
      }
    },
    {
      "cell_type": "code",
      "metadata": {
        "colab": {
          "base_uri": "https://localhost:8080/"
        },
        "id": "HnnQpU9tlblf",
        "outputId": "cab8e1d4-7dec-43e3-915f-37bacc4ffd34"
      },
      "source": [
        "train_list, test_list = rs.HoldOutPartitioning(shuffle=False, random_state=42).split_all(ratings)"
      ],
      "execution_count": 36,
      "outputs": [
        {
          "output_type": "stream",
          "name": "stderr",
          "text": [
            "Performing HoldOutPartitioning:  100%|██████████| 943/943 [00:00<00:00]\n"
          ]
        }
      ]
    },
    {
      "cell_type": "markdown",
      "source": [
        "Then we save in two different lists the ranking computed using the two different methodologies:\n",
        "* `result_list_testratings` will contain ranking computed using ***TestRatings*** methodology\n",
        "* `result_list_trainitems` will contain ranking computed using ***TrainingItems*** methodology\n",
        "\n",
        "We will then evaluate them with the ***EvalModel*** class in the next chapter"
      ],
      "metadata": {
        "id": "sn8o5ogBH3Ma"
      }
    },
    {
      "cell_type": "code",
      "source": [
        "result_list_testratings = []\n",
        "result_list_trainitems = []\n",
        "\n",
        "# holdout technique return only one split, but in general this works\n",
        "# for all possible implemented partitioning techniques\n",
        "for train, test in zip(train_list, test_list):\n",
        "  \n",
        "  full_graph = rs.NXFullGraph(ratings,\n",
        "                              user_contents_dir='users_codified/',\n",
        "                              item_contents_dir='movies_codified/',\n",
        "                              user_exo_properties={0}, # Since no custom id given\n",
        "                              item_exo_properties={'dbpedia'},\n",
        "                              link_label='score')\n",
        "\n",
        "  # remove interactions that appear in test set from the graph\n",
        "  for user_id, item_id in zip(test.user_id_column, test.item_id_column):\n",
        "      user_node = rs.UserNode(user_id)\n",
        "      item_node = rs.ItemNode(item_id)\n",
        "\n",
        "      full_graph.remove_link(user_node, item_node)\n",
        "\n",
        "  alg = rs.NXPageRank(personalized=True)\n",
        "  gbrs = rs.GraphBasedRS(alg, full_graph)\n",
        "  \n",
        "  # n_recs=None to produce a rank score for ALL candidate item\n",
        "  rank_testrat = gbrs.rank(test, n_recs=None)  # by default testratings methodology\n",
        "  rank_trainitems = gbrs.rank(test, n_recs=None, methodology=rs.TrainingItemsMethodology())\n",
        "\n",
        "  result_list_testratings.append(rank_testrat)\n",
        "  result_list_trainitems.append(rank_trainitems)"
      ],
      "metadata": {
        "colab": {
          "base_uri": "https://localhost:8080/"
        },
        "id": "kVs9od78H1iu",
        "outputId": "0f9ae78a-85bf-4b7e-98d2-d7c43f932661"
      },
      "execution_count": 37,
      "outputs": [
        {
          "output_type": "stream",
          "name": "stderr",
          "text": [
            "Creating User->Item links:  100%|██████████| 100000/100000 [00:03<00:00]\n",
            "\u001b[39mINFO\u001b[0m - Loading contents from disk...\n",
            "Creating Node->Properties links:  100%|██████████| 1682/1682 [00:01<00:00]\n",
            "\u001b[39mINFO\u001b[0m - Loading contents from disk...\n",
            "Creating Node->Properties links:  100%|██████████| 943/943 [00:00<00:00]\n",
            "\u001b[39mINFO\u001b[0m - Don't worry if it looks stuck at first\n",
            "\u001b[39mINFO\u001b[0m - First iterations will stabilize the estimated remaining time\n",
            "Computing rank for user 22:  100%|██████████| 943/943 [25:59<00:00]\n",
            "\u001b[39mINFO\u001b[0m - Don't worry if it looks stuck at first\n",
            "\u001b[39mINFO\u001b[0m - First iterations will stabilize the estimated remaining time\n",
            "Computing rank for user 22:  100%|██████████| 943/943 [25:49<00:00]\n"
          ]
        }
      ]
    },
    {
      "cell_type": "markdown",
      "metadata": {
        "id": "wBeOgvjY2ECV"
      },
      "source": [
        "# Evaluation module\n",
        "\n",
        "Recommendations can be evaluated using several metrics. In the following example, we use:\n",
        "\n",
        "*   ***Precision@10***\n",
        "*   ***Prediction Coverage***\n",
        "*   ***Gini Index***\n",
        "*   ***DeltaGap***\n",
        "*   ***Long Tail Distribution***\n",
        "*   ***Profile vs Recommendations (Popularity comparison)***\n",
        "*   ***Correlation between Popularity and Recommendation Frequency***\n",
        "\n",
        "The last three metrics return *charts*."
      ]
    },
    {
      "cell_type": "markdown",
      "metadata": {
        "id": "sDYYVUWM2hZi"
      },
      "source": [
        "The Evaluation module needs the following parameters:\n",
        "\n",
        "*   A list of computed rank/predictions (in case multiple splits must be evaluated)\n",
        "*   A list of truths (in case multiple splits must be evaluated)\n",
        "*   List of metrics to compute\n",
        "\n",
        "Obviously the list of computed rank/predictions and list of truths must have the same length, and the rank/prediction in position $i$ will be compared with the truth at position $i$\n",
        "\n",
        "Since we computed ranking with the two different methodologies, we will evaluate them both"
      ]
    },
    {
      "cell_type": "markdown",
      "source": [
        "First let's evaluate the ranking computed with **TestRatings** methodology:"
      ],
      "metadata": {
        "id": "vJfPZ-lMJon-"
      }
    },
    {
      "cell_type": "code",
      "source": [
        "# we consider as the entire catalog every item that has\n",
        "# been rated at least once by someone\n",
        "catalog = set(ratings.item_id_column)\n",
        "\n",
        "# TestRatings\n",
        "em = eva.EvalModel(\n",
        "    result_list_testratings,\n",
        "    test_list,\n",
        "    metric_list=[\n",
        "                 eva.PrecisionAtK(k=10),\n",
        "                 eva.PredictionCoverage(catalog),\n",
        "                 eva.GiniIndex(),\n",
        "                 eva.DeltaGap(user_groups={'very popular': 0.5,\n",
        "                                           'quite popular': 0.3,\n",
        "                                           'niche': 0.2},\n",
        "                              user_profiles=train,\n",
        "                              original_ratings=ratings),\n",
        "                 eva.LongTailDistr(out_dir='test_ratings/'),\n",
        "                 eva.PopRatioProfileVsRecs(user_groups={'very popular': 0.5,\n",
        "                                                        'quite popular': 0.3,\n",
        "                                                        'niche': 0.2},\n",
        "                                           user_profiles=train,\n",
        "                                           original_ratings=ratings,\n",
        "                                           out_dir='test_ratings/'),\n",
        "                 eva.PopRecsCorrelation(original_ratings=ratings,\n",
        "                                        out_dir='test_ratings/')\n",
        "                 ]\n",
        ")"
      ],
      "metadata": {
        "id": "C2UuLx9fphCb"
      },
      "execution_count": 38,
      "outputs": []
    },
    {
      "cell_type": "markdown",
      "metadata": {
        "id": "XoFTI1T83TVV"
      },
      "source": [
        "The fit() method returns two pandas DataFrame: the first one contains the metrics aggregated for the system, while the second contains the metrics computed for each user (where possible)"
      ]
    },
    {
      "cell_type": "code",
      "metadata": {
        "id": "o9QXMFl02iDK",
        "colab": {
          "base_uri": "https://localhost:8080/"
        },
        "outputId": "14b059d2-d643-4172-8d83-e443132f8ac4"
      },
      "source": [
        "sys_result, users_result = em.fit()"
      ],
      "execution_count": 39,
      "outputs": [
        {
          "output_type": "stream",
          "name": "stderr",
          "text": [
            "\u001b[39mINFO\u001b[0m - Performing evaluation on metrics chosen\n",
            "Performing PopRecsCorrelation:  100%|██████████| 7/7 [00:02<00:00]\n"
          ]
        }
      ]
    },
    {
      "cell_type": "code",
      "metadata": {
        "colab": {
          "base_uri": "https://localhost:8080/",
          "height": 143
        },
        "id": "yIpALBnr4Azi",
        "outputId": "26407606-62e5-4931-fcd5-115831a00200"
      },
      "source": [
        "sys_result"
      ],
      "execution_count": 40,
      "outputs": [
        {
          "output_type": "execute_result",
          "data": {
            "text/plain": [
              "             Precision@10 - macro  PredictionCoverage      Gini  \\\n",
              "user_id                                                           \n",
              "sys - fold1              0.609549               86.98  0.584026   \n",
              "sys - mean               0.609549               86.98  0.584026   \n",
              "\n",
              "             DeltaGap | very popular  DeltaGap | quite popular  \\\n",
              "user_id                                                          \n",
              "sys - fold1                -0.016323                  0.014832   \n",
              "sys - mean                 -0.016323                  0.014832   \n",
              "\n",
              "             DeltaGap | niche  \n",
              "user_id                        \n",
              "sys - fold1          0.053884  \n",
              "sys - mean           0.053884  "
            ],
            "text/html": [
              "\n",
              "  <div id=\"df-6d98fc4d-68a4-45d4-b07e-75626f788b01\">\n",
              "    <div class=\"colab-df-container\">\n",
              "      <div>\n",
              "<style scoped>\n",
              "    .dataframe tbody tr th:only-of-type {\n",
              "        vertical-align: middle;\n",
              "    }\n",
              "\n",
              "    .dataframe tbody tr th {\n",
              "        vertical-align: top;\n",
              "    }\n",
              "\n",
              "    .dataframe thead th {\n",
              "        text-align: right;\n",
              "    }\n",
              "</style>\n",
              "<table border=\"1\" class=\"dataframe\">\n",
              "  <thead>\n",
              "    <tr style=\"text-align: right;\">\n",
              "      <th></th>\n",
              "      <th>Precision@10 - macro</th>\n",
              "      <th>PredictionCoverage</th>\n",
              "      <th>Gini</th>\n",
              "      <th>DeltaGap | very popular</th>\n",
              "      <th>DeltaGap | quite popular</th>\n",
              "      <th>DeltaGap | niche</th>\n",
              "    </tr>\n",
              "    <tr>\n",
              "      <th>user_id</th>\n",
              "      <th></th>\n",
              "      <th></th>\n",
              "      <th></th>\n",
              "      <th></th>\n",
              "      <th></th>\n",
              "      <th></th>\n",
              "    </tr>\n",
              "  </thead>\n",
              "  <tbody>\n",
              "    <tr>\n",
              "      <th>sys - fold1</th>\n",
              "      <td>0.609549</td>\n",
              "      <td>86.98</td>\n",
              "      <td>0.584026</td>\n",
              "      <td>-0.016323</td>\n",
              "      <td>0.014832</td>\n",
              "      <td>0.053884</td>\n",
              "    </tr>\n",
              "    <tr>\n",
              "      <th>sys - mean</th>\n",
              "      <td>0.609549</td>\n",
              "      <td>86.98</td>\n",
              "      <td>0.584026</td>\n",
              "      <td>-0.016323</td>\n",
              "      <td>0.014832</td>\n",
              "      <td>0.053884</td>\n",
              "    </tr>\n",
              "  </tbody>\n",
              "</table>\n",
              "</div>\n",
              "      <button class=\"colab-df-convert\" onclick=\"convertToInteractive('df-6d98fc4d-68a4-45d4-b07e-75626f788b01')\"\n",
              "              title=\"Convert this dataframe to an interactive table.\"\n",
              "              style=\"display:none;\">\n",
              "        \n",
              "  <svg xmlns=\"http://www.w3.org/2000/svg\" height=\"24px\"viewBox=\"0 0 24 24\"\n",
              "       width=\"24px\">\n",
              "    <path d=\"M0 0h24v24H0V0z\" fill=\"none\"/>\n",
              "    <path d=\"M18.56 5.44l.94 2.06.94-2.06 2.06-.94-2.06-.94-.94-2.06-.94 2.06-2.06.94zm-11 1L8.5 8.5l.94-2.06 2.06-.94-2.06-.94L8.5 2.5l-.94 2.06-2.06.94zm10 10l.94 2.06.94-2.06 2.06-.94-2.06-.94-.94-2.06-.94 2.06-2.06.94z\"/><path d=\"M17.41 7.96l-1.37-1.37c-.4-.4-.92-.59-1.43-.59-.52 0-1.04.2-1.43.59L10.3 9.45l-7.72 7.72c-.78.78-.78 2.05 0 2.83L4 21.41c.39.39.9.59 1.41.59.51 0 1.02-.2 1.41-.59l7.78-7.78 2.81-2.81c.8-.78.8-2.07 0-2.86zM5.41 20L4 18.59l7.72-7.72 1.47 1.35L5.41 20z\"/>\n",
              "  </svg>\n",
              "      </button>\n",
              "      \n",
              "  <style>\n",
              "    .colab-df-container {\n",
              "      display:flex;\n",
              "      flex-wrap:wrap;\n",
              "      gap: 12px;\n",
              "    }\n",
              "\n",
              "    .colab-df-convert {\n",
              "      background-color: #E8F0FE;\n",
              "      border: none;\n",
              "      border-radius: 50%;\n",
              "      cursor: pointer;\n",
              "      display: none;\n",
              "      fill: #1967D2;\n",
              "      height: 32px;\n",
              "      padding: 0 0 0 0;\n",
              "      width: 32px;\n",
              "    }\n",
              "\n",
              "    .colab-df-convert:hover {\n",
              "      background-color: #E2EBFA;\n",
              "      box-shadow: 0px 1px 2px rgba(60, 64, 67, 0.3), 0px 1px 3px 1px rgba(60, 64, 67, 0.15);\n",
              "      fill: #174EA6;\n",
              "    }\n",
              "\n",
              "    [theme=dark] .colab-df-convert {\n",
              "      background-color: #3B4455;\n",
              "      fill: #D2E3FC;\n",
              "    }\n",
              "\n",
              "    [theme=dark] .colab-df-convert:hover {\n",
              "      background-color: #434B5C;\n",
              "      box-shadow: 0px 1px 3px 1px rgba(0, 0, 0, 0.15);\n",
              "      filter: drop-shadow(0px 1px 2px rgba(0, 0, 0, 0.3));\n",
              "      fill: #FFFFFF;\n",
              "    }\n",
              "  </style>\n",
              "\n",
              "      <script>\n",
              "        const buttonEl =\n",
              "          document.querySelector('#df-6d98fc4d-68a4-45d4-b07e-75626f788b01 button.colab-df-convert');\n",
              "        buttonEl.style.display =\n",
              "          google.colab.kernel.accessAllowed ? 'block' : 'none';\n",
              "\n",
              "        async function convertToInteractive(key) {\n",
              "          const element = document.querySelector('#df-6d98fc4d-68a4-45d4-b07e-75626f788b01');\n",
              "          const dataTable =\n",
              "            await google.colab.kernel.invokeFunction('convertToInteractive',\n",
              "                                                     [key], {});\n",
              "          if (!dataTable) return;\n",
              "\n",
              "          const docLinkHtml = 'Like what you see? Visit the ' +\n",
              "            '<a target=\"_blank\" href=https://colab.research.google.com/notebooks/data_table.ipynb>data table notebook</a>'\n",
              "            + ' to learn more about interactive tables.';\n",
              "          element.innerHTML = '';\n",
              "          dataTable['output_type'] = 'display_data';\n",
              "          await google.colab.output.renderOutput(dataTable, element);\n",
              "          const docLink = document.createElement('div');\n",
              "          docLink.innerHTML = docLinkHtml;\n",
              "          element.appendChild(docLink);\n",
              "        }\n",
              "      </script>\n",
              "    </div>\n",
              "  </div>\n",
              "  "
            ]
          },
          "metadata": {},
          "execution_count": 40
        }
      ]
    },
    {
      "cell_type": "code",
      "metadata": {
        "colab": {
          "base_uri": "https://localhost:8080/",
          "height": 455
        },
        "id": "R_-unvKt4BzC",
        "outputId": "dfab2414-6c72-4cac-b475-bf2aba501bc8"
      },
      "source": [
        "users_result"
      ],
      "execution_count": 41,
      "outputs": [
        {
          "output_type": "execute_result",
          "data": {
            "text/plain": [
              "         Precision@10 - macro\n",
              "user_id                      \n",
              "1                    0.900000\n",
              "10                   0.400000\n",
              "100                  0.600000\n",
              "101                  0.700000\n",
              "102                  0.600000\n",
              "...                       ...\n",
              "95                   0.600000\n",
              "96                   0.500000\n",
              "97                   0.600000\n",
              "98                   0.714286\n",
              "99                   0.700000\n",
              "\n",
              "[943 rows x 1 columns]"
            ],
            "text/html": [
              "\n",
              "  <div id=\"df-3362e4fc-7653-490a-8905-5556f117c564\">\n",
              "    <div class=\"colab-df-container\">\n",
              "      <div>\n",
              "<style scoped>\n",
              "    .dataframe tbody tr th:only-of-type {\n",
              "        vertical-align: middle;\n",
              "    }\n",
              "\n",
              "    .dataframe tbody tr th {\n",
              "        vertical-align: top;\n",
              "    }\n",
              "\n",
              "    .dataframe thead th {\n",
              "        text-align: right;\n",
              "    }\n",
              "</style>\n",
              "<table border=\"1\" class=\"dataframe\">\n",
              "  <thead>\n",
              "    <tr style=\"text-align: right;\">\n",
              "      <th></th>\n",
              "      <th>Precision@10 - macro</th>\n",
              "    </tr>\n",
              "    <tr>\n",
              "      <th>user_id</th>\n",
              "      <th></th>\n",
              "    </tr>\n",
              "  </thead>\n",
              "  <tbody>\n",
              "    <tr>\n",
              "      <th>1</th>\n",
              "      <td>0.900000</td>\n",
              "    </tr>\n",
              "    <tr>\n",
              "      <th>10</th>\n",
              "      <td>0.400000</td>\n",
              "    </tr>\n",
              "    <tr>\n",
              "      <th>100</th>\n",
              "      <td>0.600000</td>\n",
              "    </tr>\n",
              "    <tr>\n",
              "      <th>101</th>\n",
              "      <td>0.700000</td>\n",
              "    </tr>\n",
              "    <tr>\n",
              "      <th>102</th>\n",
              "      <td>0.600000</td>\n",
              "    </tr>\n",
              "    <tr>\n",
              "      <th>...</th>\n",
              "      <td>...</td>\n",
              "    </tr>\n",
              "    <tr>\n",
              "      <th>95</th>\n",
              "      <td>0.600000</td>\n",
              "    </tr>\n",
              "    <tr>\n",
              "      <th>96</th>\n",
              "      <td>0.500000</td>\n",
              "    </tr>\n",
              "    <tr>\n",
              "      <th>97</th>\n",
              "      <td>0.600000</td>\n",
              "    </tr>\n",
              "    <tr>\n",
              "      <th>98</th>\n",
              "      <td>0.714286</td>\n",
              "    </tr>\n",
              "    <tr>\n",
              "      <th>99</th>\n",
              "      <td>0.700000</td>\n",
              "    </tr>\n",
              "  </tbody>\n",
              "</table>\n",
              "<p>943 rows × 1 columns</p>\n",
              "</div>\n",
              "      <button class=\"colab-df-convert\" onclick=\"convertToInteractive('df-3362e4fc-7653-490a-8905-5556f117c564')\"\n",
              "              title=\"Convert this dataframe to an interactive table.\"\n",
              "              style=\"display:none;\">\n",
              "        \n",
              "  <svg xmlns=\"http://www.w3.org/2000/svg\" height=\"24px\"viewBox=\"0 0 24 24\"\n",
              "       width=\"24px\">\n",
              "    <path d=\"M0 0h24v24H0V0z\" fill=\"none\"/>\n",
              "    <path d=\"M18.56 5.44l.94 2.06.94-2.06 2.06-.94-2.06-.94-.94-2.06-.94 2.06-2.06.94zm-11 1L8.5 8.5l.94-2.06 2.06-.94-2.06-.94L8.5 2.5l-.94 2.06-2.06.94zm10 10l.94 2.06.94-2.06 2.06-.94-2.06-.94-.94-2.06-.94 2.06-2.06.94z\"/><path d=\"M17.41 7.96l-1.37-1.37c-.4-.4-.92-.59-1.43-.59-.52 0-1.04.2-1.43.59L10.3 9.45l-7.72 7.72c-.78.78-.78 2.05 0 2.83L4 21.41c.39.39.9.59 1.41.59.51 0 1.02-.2 1.41-.59l7.78-7.78 2.81-2.81c.8-.78.8-2.07 0-2.86zM5.41 20L4 18.59l7.72-7.72 1.47 1.35L5.41 20z\"/>\n",
              "  </svg>\n",
              "      </button>\n",
              "      \n",
              "  <style>\n",
              "    .colab-df-container {\n",
              "      display:flex;\n",
              "      flex-wrap:wrap;\n",
              "      gap: 12px;\n",
              "    }\n",
              "\n",
              "    .colab-df-convert {\n",
              "      background-color: #E8F0FE;\n",
              "      border: none;\n",
              "      border-radius: 50%;\n",
              "      cursor: pointer;\n",
              "      display: none;\n",
              "      fill: #1967D2;\n",
              "      height: 32px;\n",
              "      padding: 0 0 0 0;\n",
              "      width: 32px;\n",
              "    }\n",
              "\n",
              "    .colab-df-convert:hover {\n",
              "      background-color: #E2EBFA;\n",
              "      box-shadow: 0px 1px 2px rgba(60, 64, 67, 0.3), 0px 1px 3px 1px rgba(60, 64, 67, 0.15);\n",
              "      fill: #174EA6;\n",
              "    }\n",
              "\n",
              "    [theme=dark] .colab-df-convert {\n",
              "      background-color: #3B4455;\n",
              "      fill: #D2E3FC;\n",
              "    }\n",
              "\n",
              "    [theme=dark] .colab-df-convert:hover {\n",
              "      background-color: #434B5C;\n",
              "      box-shadow: 0px 1px 3px 1px rgba(0, 0, 0, 0.15);\n",
              "      filter: drop-shadow(0px 1px 2px rgba(0, 0, 0, 0.3));\n",
              "      fill: #FFFFFF;\n",
              "    }\n",
              "  </style>\n",
              "\n",
              "      <script>\n",
              "        const buttonEl =\n",
              "          document.querySelector('#df-3362e4fc-7653-490a-8905-5556f117c564 button.colab-df-convert');\n",
              "        buttonEl.style.display =\n",
              "          google.colab.kernel.accessAllowed ? 'block' : 'none';\n",
              "\n",
              "        async function convertToInteractive(key) {\n",
              "          const element = document.querySelector('#df-3362e4fc-7653-490a-8905-5556f117c564');\n",
              "          const dataTable =\n",
              "            await google.colab.kernel.invokeFunction('convertToInteractive',\n",
              "                                                     [key], {});\n",
              "          if (!dataTable) return;\n",
              "\n",
              "          const docLinkHtml = 'Like what you see? Visit the ' +\n",
              "            '<a target=\"_blank\" href=https://colab.research.google.com/notebooks/data_table.ipynb>data table notebook</a>'\n",
              "            + ' to learn more about interactive tables.';\n",
              "          element.innerHTML = '';\n",
              "          dataTable['output_type'] = 'display_data';\n",
              "          await google.colab.output.renderOutput(dataTable, element);\n",
              "          const docLink = document.createElement('div');\n",
              "          docLink.innerHTML = docLinkHtml;\n",
              "          element.appendChild(docLink);\n",
              "        }\n",
              "      </script>\n",
              "    </div>\n",
              "  </div>\n",
              "  "
            ]
          },
          "metadata": {},
          "execution_count": 41
        }
      ]
    },
    {
      "cell_type": "markdown",
      "metadata": {
        "id": "d9Fo_2BFKHMA"
      },
      "source": [
        "The following charts are generated:"
      ]
    },
    {
      "cell_type": "code",
      "metadata": {
        "colab": {
          "base_uri": "https://localhost:8080/",
          "height": 305
        },
        "id": "6vEREXdpJfQ8",
        "outputId": "50557172-877d-4100-df08-da4fa5e10d49"
      },
      "source": [
        "from IPython.display import Image\n",
        "Image('test_ratings/long_tail_distr_truth.png')"
      ],
      "execution_count": 42,
      "outputs": [
        {
          "output_type": "execute_result",
          "data": {
            "image/png": "[encoded data removed]",
            "text/plain": [
              "<IPython.core.display.Image object>"
            ]
          },
          "metadata": {},
          "execution_count": 42
        }
      ]
    },
    {
      "cell_type": "code",
      "metadata": {
        "colab": {
          "base_uri": "https://localhost:8080/",
          "height": 305
        },
        "id": "jpUKEjxXJfQ8",
        "outputId": "b4fc1d1b-824b-4cbe-84fb-dae9307eb3e7"
      },
      "source": [
        "from IPython.display import Image\n",
        "Image('test_ratings/pop_ratio_profile_vs_recs.png')"
      ],
      "execution_count": 43,
      "outputs": [
        {
          "output_type": "execute_result",
          "data": {
            "image/png": "[encoded data removed]",
            "text/plain": [
              "<IPython.core.display.Image object>"
            ]
          },
          "metadata": {},
          "execution_count": 43
        }
      ]
    },
    {
      "cell_type": "code",
      "metadata": {
        "colab": {
          "base_uri": "https://localhost:8080/",
          "height": 305
        },
        "id": "JTiUxh--JfQ8",
        "outputId": "80801622-176b-4146-c03b-4728d59e15d1"
      },
      "source": [
        "from IPython.display import Image\n",
        "Image('test_ratings/pop_recs_correlation.png')"
      ],
      "execution_count": 44,
      "outputs": [
        {
          "output_type": "execute_result",
          "data": {
            "image/png": "[encoded data removed]",
            "text/plain": [
              "<IPython.core.display.Image object>"
            ]
          },
          "metadata": {},
          "execution_count": 44
        }
      ]
    },
    {
      "cell_type": "markdown",
      "metadata": {
        "id": "WtTS--pe8Jxp"
      },
      "source": [
        "Now we evaluate the ranking computed with the **TrainingItems** methodology on the same metrics:"
      ]
    },
    {
      "cell_type": "code",
      "metadata": {
        "colab": {
          "base_uri": "https://localhost:8080/"
        },
        "id": "2jRKeZH27Hjq",
        "outputId": "a2671fa4-04f7-4eea-9608-5d55fa874ea6"
      },
      "source": [
        "# we consider as the entire catalog every item that has\n",
        "# been rated at least once by someone\n",
        "catalog = set(ratings.item_id_column)\n",
        "\n",
        "# TrainingItems\n",
        "em = eva.EvalModel(\n",
        "    result_list_trainitems,\n",
        "    test_list,\n",
        "    metric_list=[\n",
        "                 eva.PrecisionAtK(k=10),\n",
        "                 eva.PredictionCoverage(catalog),\n",
        "                 eva.GiniIndex(),\n",
        "                 eva.LongTailDistr(out_dir='train_items/'),\n",
        "                 eva.DeltaGap(user_groups={'very popular': 0.5,\n",
        "                                           'quite popular': 0.3,\n",
        "                                           'niche': 0.2},\n",
        "                              user_profiles=train,\n",
        "                              original_ratings=ratings),\n",
        "                 eva.PopRatioProfileVsRecs(user_groups={'very popular': 0.5,\n",
        "                                                        'quite popular': 0.3,\n",
        "                                                        'niche': 0.2},\n",
        "                                           user_profiles=train,\n",
        "                                           original_ratings=ratings,\n",
        "                                           out_dir='train_items/'),\n",
        "                 eva.PopRecsCorrelation(original_ratings=ratings,\n",
        "                                        out_dir='train_items/')\n",
        "                 ]\n",
        ")\n",
        "\n",
        "sys_result, users_result = em.fit()"
      ],
      "execution_count": 45,
      "outputs": [
        {
          "output_type": "stream",
          "name": "stderr",
          "text": [
            "\u001b[39mINFO\u001b[0m - Performing evaluation on metrics chosen\n",
            "Performing PopRecsCorrelation:  100%|██████████| 7/7 [00:41<00:00]\n"
          ]
        }
      ]
    },
    {
      "cell_type": "markdown",
      "metadata": {
        "id": "40-ws5O9IVWP"
      },
      "source": [
        "We expect:\n",
        "* A ***lower Precision*** since methodologies other than *TestRatings* are more truthful\n",
        "* A **Gini index closer to 0** (more equality in the recommendation lists generated) since with methodologies other than *TestRatings* the items on which a rank score must be computed are almost equal accross all users\n",
        "* **Higher Prediction Coverage** since simply more items must be ranked for each user w.r.t *TestRatings* methodology"
      ]
    },
    {
      "cell_type": "code",
      "metadata": {
        "colab": {
          "base_uri": "https://localhost:8080/",
          "height": 143
        },
        "id": "Vg0TI_Pj7-FI",
        "outputId": "6ea1b3c9-89e3-49e4-c74b-d4d4384fe4b3"
      },
      "source": [
        "sys_result"
      ],
      "execution_count": 46,
      "outputs": [
        {
          "output_type": "execute_result",
          "data": {
            "text/plain": [
              "             Precision@10 - macro  PredictionCoverage      Gini  \\\n",
              "user_id                                                           \n",
              "sys - fold1              0.133192               97.32  0.031471   \n",
              "sys - mean               0.133192               97.32  0.031471   \n",
              "\n",
              "             DeltaGap | very popular  DeltaGap | quite popular  \\\n",
              "user_id                                                          \n",
              "sys - fold1                -0.743399                 -0.686765   \n",
              "sys - mean                 -0.743399                 -0.686765   \n",
              "\n",
              "             DeltaGap | niche  \n",
              "user_id                        \n",
              "sys - fold1          -0.61252  \n",
              "sys - mean           -0.61252  "
            ],
            "text/html": [
              "\n",
              "  <div id=\"df-5e89ef7d-0fd3-4087-b78b-409eadfc54cb\">\n",
              "    <div class=\"colab-df-container\">\n",
              "      <div>\n",
              "<style scoped>\n",
              "    .dataframe tbody tr th:only-of-type {\n",
              "        vertical-align: middle;\n",
              "    }\n",
              "\n",
              "    .dataframe tbody tr th {\n",
              "        vertical-align: top;\n",
              "    }\n",
              "\n",
              "    .dataframe thead th {\n",
              "        text-align: right;\n",
              "    }\n",
              "</style>\n",
              "<table border=\"1\" class=\"dataframe\">\n",
              "  <thead>\n",
              "    <tr style=\"text-align: right;\">\n",
              "      <th></th>\n",
              "      <th>Precision@10 - macro</th>\n",
              "      <th>PredictionCoverage</th>\n",
              "      <th>Gini</th>\n",
              "      <th>DeltaGap | very popular</th>\n",
              "      <th>DeltaGap | quite popular</th>\n",
              "      <th>DeltaGap | niche</th>\n",
              "    </tr>\n",
              "    <tr>\n",
              "      <th>user_id</th>\n",
              "      <th></th>\n",
              "      <th></th>\n",
              "      <th></th>\n",
              "      <th></th>\n",
              "      <th></th>\n",
              "      <th></th>\n",
              "    </tr>\n",
              "  </thead>\n",
              "  <tbody>\n",
              "    <tr>\n",
              "      <th>sys - fold1</th>\n",
              "      <td>0.133192</td>\n",
              "      <td>97.32</td>\n",
              "      <td>0.031471</td>\n",
              "      <td>-0.743399</td>\n",
              "      <td>-0.686765</td>\n",
              "      <td>-0.61252</td>\n",
              "    </tr>\n",
              "    <tr>\n",
              "      <th>sys - mean</th>\n",
              "      <td>0.133192</td>\n",
              "      <td>97.32</td>\n",
              "      <td>0.031471</td>\n",
              "      <td>-0.743399</td>\n",
              "      <td>-0.686765</td>\n",
              "      <td>-0.61252</td>\n",
              "    </tr>\n",
              "  </tbody>\n",
              "</table>\n",
              "</div>\n",
              "      <button class=\"colab-df-convert\" onclick=\"convertToInteractive('df-5e89ef7d-0fd3-4087-b78b-409eadfc54cb')\"\n",
              "              title=\"Convert this dataframe to an interactive table.\"\n",
              "              style=\"display:none;\">\n",
              "        \n",
              "  <svg xmlns=\"http://www.w3.org/2000/svg\" height=\"24px\"viewBox=\"0 0 24 24\"\n",
              "       width=\"24px\">\n",
              "    <path d=\"M0 0h24v24H0V0z\" fill=\"none\"/>\n",
              "    <path d=\"M18.56 5.44l.94 2.06.94-2.06 2.06-.94-2.06-.94-.94-2.06-.94 2.06-2.06.94zm-11 1L8.5 8.5l.94-2.06 2.06-.94-2.06-.94L8.5 2.5l-.94 2.06-2.06.94zm10 10l.94 2.06.94-2.06 2.06-.94-2.06-.94-.94-2.06-.94 2.06-2.06.94z\"/><path d=\"M17.41 7.96l-1.37-1.37c-.4-.4-.92-.59-1.43-.59-.52 0-1.04.2-1.43.59L10.3 9.45l-7.72 7.72c-.78.78-.78 2.05 0 2.83L4 21.41c.39.39.9.59 1.41.59.51 0 1.02-.2 1.41-.59l7.78-7.78 2.81-2.81c.8-.78.8-2.07 0-2.86zM5.41 20L4 18.59l7.72-7.72 1.47 1.35L5.41 20z\"/>\n",
              "  </svg>\n",
              "      </button>\n",
              "      \n",
              "  <style>\n",
              "    .colab-df-container {\n",
              "      display:flex;\n",
              "      flex-wrap:wrap;\n",
              "      gap: 12px;\n",
              "    }\n",
              "\n",
              "    .colab-df-convert {\n",
              "      background-color: #E8F0FE;\n",
              "      border: none;\n",
              "      border-radius: 50%;\n",
              "      cursor: pointer;\n",
              "      display: none;\n",
              "      fill: #1967D2;\n",
              "      height: 32px;\n",
              "      padding: 0 0 0 0;\n",
              "      width: 32px;\n",
              "    }\n",
              "\n",
              "    .colab-df-convert:hover {\n",
              "      background-color: #E2EBFA;\n",
              "      box-shadow: 0px 1px 2px rgba(60, 64, 67, 0.3), 0px 1px 3px 1px rgba(60, 64, 67, 0.15);\n",
              "      fill: #174EA6;\n",
              "    }\n",
              "\n",
              "    [theme=dark] .colab-df-convert {\n",
              "      background-color: #3B4455;\n",
              "      fill: #D2E3FC;\n",
              "    }\n",
              "\n",
              "    [theme=dark] .colab-df-convert:hover {\n",
              "      background-color: #434B5C;\n",
              "      box-shadow: 0px 1px 3px 1px rgba(0, 0, 0, 0.15);\n",
              "      filter: drop-shadow(0px 1px 2px rgba(0, 0, 0, 0.3));\n",
              "      fill: #FFFFFF;\n",
              "    }\n",
              "  </style>\n",
              "\n",
              "      <script>\n",
              "        const buttonEl =\n",
              "          document.querySelector('#df-5e89ef7d-0fd3-4087-b78b-409eadfc54cb button.colab-df-convert');\n",
              "        buttonEl.style.display =\n",
              "          google.colab.kernel.accessAllowed ? 'block' : 'none';\n",
              "\n",
              "        async function convertToInteractive(key) {\n",
              "          const element = document.querySelector('#df-5e89ef7d-0fd3-4087-b78b-409eadfc54cb');\n",
              "          const dataTable =\n",
              "            await google.colab.kernel.invokeFunction('convertToInteractive',\n",
              "                                                     [key], {});\n",
              "          if (!dataTable) return;\n",
              "\n",
              "          const docLinkHtml = 'Like what you see? Visit the ' +\n",
              "            '<a target=\"_blank\" href=https://colab.research.google.com/notebooks/data_table.ipynb>data table notebook</a>'\n",
              "            + ' to learn more about interactive tables.';\n",
              "          element.innerHTML = '';\n",
              "          dataTable['output_type'] = 'display_data';\n",
              "          await google.colab.output.renderOutput(dataTable, element);\n",
              "          const docLink = document.createElement('div');\n",
              "          docLink.innerHTML = docLinkHtml;\n",
              "          element.appendChild(docLink);\n",
              "        }\n",
              "      </script>\n",
              "    </div>\n",
              "  </div>\n",
              "  "
            ]
          },
          "metadata": {},
          "execution_count": 46
        }
      ]
    },
    {
      "cell_type": "code",
      "metadata": {
        "colab": {
          "base_uri": "https://localhost:8080/",
          "height": 455
        },
        "id": "DwsbtUy77_SX",
        "outputId": "7b774cde-796d-4cfb-e58c-9b60063c8554"
      },
      "source": [
        "users_result"
      ],
      "execution_count": 47,
      "outputs": [
        {
          "output_type": "execute_result",
          "data": {
            "text/plain": [
              "         Precision@10 - macro\n",
              "user_id                      \n",
              "1                         0.2\n",
              "10                        0.0\n",
              "100                       0.2\n",
              "101                       0.0\n",
              "102                       0.3\n",
              "...                       ...\n",
              "95                        0.1\n",
              "96                        0.1\n",
              "97                        0.0\n",
              "98                        0.0\n",
              "99                        0.4\n",
              "\n",
              "[943 rows x 1 columns]"
            ],
            "text/html": [
              "\n",
              "  <div id=\"df-bb1477ab-4701-49e5-b483-012214e287c0\">\n",
              "    <div class=\"colab-df-container\">\n",
              "      <div>\n",
              "<style scoped>\n",
              "    .dataframe tbody tr th:only-of-type {\n",
              "        vertical-align: middle;\n",
              "    }\n",
              "\n",
              "    .dataframe tbody tr th {\n",
              "        vertical-align: top;\n",
              "    }\n",
              "\n",
              "    .dataframe thead th {\n",
              "        text-align: right;\n",
              "    }\n",
              "</style>\n",
              "<table border=\"1\" class=\"dataframe\">\n",
              "  <thead>\n",
              "    <tr style=\"text-align: right;\">\n",
              "      <th></th>\n",
              "      <th>Precision@10 - macro</th>\n",
              "    </tr>\n",
              "    <tr>\n",
              "      <th>user_id</th>\n",
              "      <th></th>\n",
              "    </tr>\n",
              "  </thead>\n",
              "  <tbody>\n",
              "    <tr>\n",
              "      <th>1</th>\n",
              "      <td>0.2</td>\n",
              "    </tr>\n",
              "    <tr>\n",
              "      <th>10</th>\n",
              "      <td>0.0</td>\n",
              "    </tr>\n",
              "    <tr>\n",
              "      <th>100</th>\n",
              "      <td>0.2</td>\n",
              "    </tr>\n",
              "    <tr>\n",
              "      <th>101</th>\n",
              "      <td>0.0</td>\n",
              "    </tr>\n",
              "    <tr>\n",
              "      <th>102</th>\n",
              "      <td>0.3</td>\n",
              "    </tr>\n",
              "    <tr>\n",
              "      <th>...</th>\n",
              "      <td>...</td>\n",
              "    </tr>\n",
              "    <tr>\n",
              "      <th>95</th>\n",
              "      <td>0.1</td>\n",
              "    </tr>\n",
              "    <tr>\n",
              "      <th>96</th>\n",
              "      <td>0.1</td>\n",
              "    </tr>\n",
              "    <tr>\n",
              "      <th>97</th>\n",
              "      <td>0.0</td>\n",
              "    </tr>\n",
              "    <tr>\n",
              "      <th>98</th>\n",
              "      <td>0.0</td>\n",
              "    </tr>\n",
              "    <tr>\n",
              "      <th>99</th>\n",
              "      <td>0.4</td>\n",
              "    </tr>\n",
              "  </tbody>\n",
              "</table>\n",
              "<p>943 rows × 1 columns</p>\n",
              "</div>\n",
              "      <button class=\"colab-df-convert\" onclick=\"convertToInteractive('df-bb1477ab-4701-49e5-b483-012214e287c0')\"\n",
              "              title=\"Convert this dataframe to an interactive table.\"\n",
              "              style=\"display:none;\">\n",
              "        \n",
              "  <svg xmlns=\"http://www.w3.org/2000/svg\" height=\"24px\"viewBox=\"0 0 24 24\"\n",
              "       width=\"24px\">\n",
              "    <path d=\"M0 0h24v24H0V0z\" fill=\"none\"/>\n",
              "    <path d=\"M18.56 5.44l.94 2.06.94-2.06 2.06-.94-2.06-.94-.94-2.06-.94 2.06-2.06.94zm-11 1L8.5 8.5l.94-2.06 2.06-.94-2.06-.94L8.5 2.5l-.94 2.06-2.06.94zm10 10l.94 2.06.94-2.06 2.06-.94-2.06-.94-.94-2.06-.94 2.06-2.06.94z\"/><path d=\"M17.41 7.96l-1.37-1.37c-.4-.4-.92-.59-1.43-.59-.52 0-1.04.2-1.43.59L10.3 9.45l-7.72 7.72c-.78.78-.78 2.05 0 2.83L4 21.41c.39.39.9.59 1.41.59.51 0 1.02-.2 1.41-.59l7.78-7.78 2.81-2.81c.8-.78.8-2.07 0-2.86zM5.41 20L4 18.59l7.72-7.72 1.47 1.35L5.41 20z\"/>\n",
              "  </svg>\n",
              "      </button>\n",
              "      \n",
              "  <style>\n",
              "    .colab-df-container {\n",
              "      display:flex;\n",
              "      flex-wrap:wrap;\n",
              "      gap: 12px;\n",
              "    }\n",
              "\n",
              "    .colab-df-convert {\n",
              "      background-color: #E8F0FE;\n",
              "      border: none;\n",
              "      border-radius: 50%;\n",
              "      cursor: pointer;\n",
              "      display: none;\n",
              "      fill: #1967D2;\n",
              "      height: 32px;\n",
              "      padding: 0 0 0 0;\n",
              "      width: 32px;\n",
              "    }\n",
              "\n",
              "    .colab-df-convert:hover {\n",
              "      background-color: #E2EBFA;\n",
              "      box-shadow: 0px 1px 2px rgba(60, 64, 67, 0.3), 0px 1px 3px 1px rgba(60, 64, 67, 0.15);\n",
              "      fill: #174EA6;\n",
              "    }\n",
              "\n",
              "    [theme=dark] .colab-df-convert {\n",
              "      background-color: #3B4455;\n",
              "      fill: #D2E3FC;\n",
              "    }\n",
              "\n",
              "    [theme=dark] .colab-df-convert:hover {\n",
              "      background-color: #434B5C;\n",
              "      box-shadow: 0px 1px 3px 1px rgba(0, 0, 0, 0.15);\n",
              "      filter: drop-shadow(0px 1px 2px rgba(0, 0, 0, 0.3));\n",
              "      fill: #FFFFFF;\n",
              "    }\n",
              "  </style>\n",
              "\n",
              "      <script>\n",
              "        const buttonEl =\n",
              "          document.querySelector('#df-bb1477ab-4701-49e5-b483-012214e287c0 button.colab-df-convert');\n",
              "        buttonEl.style.display =\n",
              "          google.colab.kernel.accessAllowed ? 'block' : 'none';\n",
              "\n",
              "        async function convertToInteractive(key) {\n",
              "          const element = document.querySelector('#df-bb1477ab-4701-49e5-b483-012214e287c0');\n",
              "          const dataTable =\n",
              "            await google.colab.kernel.invokeFunction('convertToInteractive',\n",
              "                                                     [key], {});\n",
              "          if (!dataTable) return;\n",
              "\n",
              "          const docLinkHtml = 'Like what you see? Visit the ' +\n",
              "            '<a target=\"_blank\" href=https://colab.research.google.com/notebooks/data_table.ipynb>data table notebook</a>'\n",
              "            + ' to learn more about interactive tables.';\n",
              "          element.innerHTML = '';\n",
              "          dataTable['output_type'] = 'display_data';\n",
              "          await google.colab.output.renderOutput(dataTable, element);\n",
              "          const docLink = document.createElement('div');\n",
              "          docLink.innerHTML = docLinkHtml;\n",
              "          element.appendChild(docLink);\n",
              "        }\n",
              "      </script>\n",
              "    </div>\n",
              "  </div>\n",
              "  "
            ]
          },
          "metadata": {},
          "execution_count": 47
        }
      ]
    },
    {
      "cell_type": "markdown",
      "metadata": {
        "id": "fZ-6QPOXJmpA"
      },
      "source": [
        "The following charts are generated:"
      ]
    },
    {
      "cell_type": "code",
      "metadata": {
        "colab": {
          "base_uri": "https://localhost:8080/",
          "height": 305
        },
        "id": "cISMk0D0JNNn",
        "outputId": "a3bd6608-88ca-4ff6-9f43-f4722104b772"
      },
      "source": [
        "# Same as TestRatings methodology since the truth is the same\n",
        "from IPython.display import Image\n",
        "Image('train_items/long_tail_distr_truth.png')"
      ],
      "execution_count": 48,
      "outputs": [
        {
          "output_type": "execute_result",
          "data": {
            "image/png": "[encoded data removed]",
            "text/plain": [
              "<IPython.core.display.Image object>"
            ]
          },
          "metadata": {},
          "execution_count": 48
        }
      ]
    },
    {
      "cell_type": "code",
      "metadata": {
        "colab": {
          "base_uri": "https://localhost:8080/",
          "height": 305
        },
        "id": "z1Wu1zZHJTgu",
        "outputId": "f15b11cc-81cb-4e36-d6c2-d469d12ca77c"
      },
      "source": [
        "from IPython.display import Image\n",
        "Image('train_items/pop_ratio_profile_vs_recs.png')"
      ],
      "execution_count": 49,
      "outputs": [
        {
          "output_type": "execute_result",
          "data": {
            "image/png": "[encoded data removed]",
            "text/plain": [
              "<IPython.core.display.Image object>"
            ]
          },
          "metadata": {},
          "execution_count": 49
        }
      ]
    },
    {
      "cell_type": "code",
      "metadata": {
        "colab": {
          "base_uri": "https://localhost:8080/",
          "height": 305
        },
        "id": "pvb2RL98JT03",
        "outputId": "c236f17f-3801-4a75-9527-2a71f7db5885"
      },
      "source": [
        "from IPython.display import Image\n",
        "Image('train_items/pop_recs_correlation.png')"
      ],
      "execution_count": 50,
      "outputs": [
        {
          "output_type": "execute_result",
          "data": {
            "image/png": "[encoded data removed]",
            "text/plain": [
              "<IPython.core.display.Image object>"
            ]
          },
          "metadata": {},
          "execution_count": 50
        }
      ]
    }
  ]
}